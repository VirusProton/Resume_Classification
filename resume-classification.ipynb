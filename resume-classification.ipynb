{
 "cells": [
  {
   "cell_type": "markdown",
   "id": "bca3001b",
   "metadata": {
    "_cell_guid": "b1076dfc-b9ad-4769-8c92-a6c4dae69d19",
    "_uuid": "8f2839f25d086af736a60e9eeb907d3b93b6e0e5",
    "papermill": {
     "duration": 0.028589,
     "end_time": "2023-08-13T14:32:01.955055",
     "exception": false,
     "start_time": "2023-08-13T14:32:01.926466",
     "status": "completed"
    },
    "tags": []
   },
   "source": [
    "**Problem Statement:**<br>\n",
    "Design, implement, and train a machine learning model to automatically categorize resumes based on their domain (e.g., sales, marketing, etc.).\n",
    "\n",
    "Dataset:\n",
    "This [dataset](https://www.kaggle.com/datasets/snehaanbhawal/resume-dataset) was suggested for the task.\n"
   ]
  },
  {
   "cell_type": "markdown",
   "id": "944a146f",
   "metadata": {
    "papermill": {
     "duration": 0.029372,
     "end_time": "2023-08-13T14:32:02.012118",
     "exception": false,
     "start_time": "2023-08-13T14:32:01.982746",
     "status": "completed"
    },
    "tags": []
   },
   "source": [
    "### Imports"
   ]
  },
  {
   "cell_type": "code",
   "execution_count": 1,
   "id": "c26c2434",
   "metadata": {
    "execution": {
     "iopub.execute_input": "2023-08-13T14:32:02.070493Z",
     "iopub.status.busy": "2023-08-13T14:32:02.069673Z",
     "iopub.status.idle": "2023-08-13T14:32:02.084190Z",
     "shell.execute_reply": "2023-08-13T14:32:02.083303Z"
    },
    "papermill": {
     "duration": 0.046002,
     "end_time": "2023-08-13T14:32:02.086333",
     "exception": false,
     "start_time": "2023-08-13T14:32:02.040331",
     "status": "completed"
    },
    "tags": []
   },
   "outputs": [],
   "source": [
    "import os\n",
    "import re\n",
    "import numpy as np\n",
    "import pandas as pd\n",
    "import matplotlib.pyplot as plt\n",
    "from tqdm import tqdm\n",
    "%matplotlib inline"
   ]
  },
  {
   "cell_type": "code",
   "execution_count": 2,
   "id": "1dc3a326",
   "metadata": {
    "execution": {
     "iopub.execute_input": "2023-08-13T14:32:02.143824Z",
     "iopub.status.busy": "2023-08-13T14:32:02.143523Z",
     "iopub.status.idle": "2023-08-13T14:32:03.490267Z",
     "shell.execute_reply": "2023-08-13T14:32:03.489293Z"
    },
    "papermill": {
     "duration": 1.378666,
     "end_time": "2023-08-13T14:32:03.493337",
     "exception": false,
     "start_time": "2023-08-13T14:32:02.114671",
     "status": "completed"
    },
    "tags": []
   },
   "outputs": [
    {
     "data": {
      "text/html": [
       "<div>\n",
       "<style scoped>\n",
       "    .dataframe tbody tr th:only-of-type {\n",
       "        vertical-align: middle;\n",
       "    }\n",
       "\n",
       "    .dataframe tbody tr th {\n",
       "        vertical-align: top;\n",
       "    }\n",
       "\n",
       "    .dataframe thead th {\n",
       "        text-align: right;\n",
       "    }\n",
       "</style>\n",
       "<table border=\"1\" class=\"dataframe\">\n",
       "  <thead>\n",
       "    <tr style=\"text-align: right;\">\n",
       "      <th></th>\n",
       "      <th>ID</th>\n",
       "      <th>Resume_str</th>\n",
       "      <th>Resume_html</th>\n",
       "      <th>Category</th>\n",
       "    </tr>\n",
       "  </thead>\n",
       "  <tbody>\n",
       "    <tr>\n",
       "      <th>0</th>\n",
       "      <td>16852973</td>\n",
       "      <td>HR ADMINISTRATOR/MARKETING ASSOCIATE\\...</td>\n",
       "      <td>&lt;div class=\"fontsize fontface vmargins hmargin...</td>\n",
       "      <td>HR</td>\n",
       "    </tr>\n",
       "    <tr>\n",
       "      <th>1</th>\n",
       "      <td>22323967</td>\n",
       "      <td>HR SPECIALIST, US HR OPERATIONS      ...</td>\n",
       "      <td>&lt;div class=\"fontsize fontface vmargins hmargin...</td>\n",
       "      <td>HR</td>\n",
       "    </tr>\n",
       "    <tr>\n",
       "      <th>2</th>\n",
       "      <td>33176873</td>\n",
       "      <td>HR DIRECTOR       Summary      Over 2...</td>\n",
       "      <td>&lt;div class=\"fontsize fontface vmargins hmargin...</td>\n",
       "      <td>HR</td>\n",
       "    </tr>\n",
       "    <tr>\n",
       "      <th>3</th>\n",
       "      <td>27018550</td>\n",
       "      <td>HR SPECIALIST       Summary    Dedica...</td>\n",
       "      <td>&lt;div class=\"fontsize fontface vmargins hmargin...</td>\n",
       "      <td>HR</td>\n",
       "    </tr>\n",
       "    <tr>\n",
       "      <th>4</th>\n",
       "      <td>17812897</td>\n",
       "      <td>HR MANAGER         Skill Highlights  ...</td>\n",
       "      <td>&lt;div class=\"fontsize fontface vmargins hmargin...</td>\n",
       "      <td>HR</td>\n",
       "    </tr>\n",
       "  </tbody>\n",
       "</table>\n",
       "</div>"
      ],
      "text/plain": [
       "         ID                                         Resume_str  \\\n",
       "0  16852973           HR ADMINISTRATOR/MARKETING ASSOCIATE\\...   \n",
       "1  22323967           HR SPECIALIST, US HR OPERATIONS      ...   \n",
       "2  33176873           HR DIRECTOR       Summary      Over 2...   \n",
       "3  27018550           HR SPECIALIST       Summary    Dedica...   \n",
       "4  17812897           HR MANAGER         Skill Highlights  ...   \n",
       "\n",
       "                                         Resume_html Category  \n",
       "0  <div class=\"fontsize fontface vmargins hmargin...       HR  \n",
       "1  <div class=\"fontsize fontface vmargins hmargin...       HR  \n",
       "2  <div class=\"fontsize fontface vmargins hmargin...       HR  \n",
       "3  <div class=\"fontsize fontface vmargins hmargin...       HR  \n",
       "4  <div class=\"fontsize fontface vmargins hmargin...       HR  "
      ]
     },
     "execution_count": 2,
     "metadata": {},
     "output_type": "execute_result"
    }
   ],
   "source": [
    "data_path= \"/kaggle/input/resume-dataset/Resume/Resume.csv\"\n",
    "data_df= pd.read_csv(data_path)\n",
    "data_df.head()"
   ]
  },
  {
   "cell_type": "markdown",
   "id": "b36b962e",
   "metadata": {
    "papermill": {
     "duration": 0.028874,
     "end_time": "2023-08-13T14:32:03.552892",
     "exception": false,
     "start_time": "2023-08-13T14:32:03.524018",
     "status": "completed"
    },
    "tags": []
   },
   "source": [
    "#### Exploratory Data Analysis (EDA)"
   ]
  },
  {
   "cell_type": "markdown",
   "id": "5c14a036",
   "metadata": {
    "papermill": {
     "duration": 0.029083,
     "end_time": "2023-08-13T14:32:03.610157",
     "exception": false,
     "start_time": "2023-08-13T14:32:03.581074",
     "status": "completed"
    },
    "tags": []
   },
   "source": [
    "**Data description:**<br>\n",
    "The dataset is arranged in a `.csv` file. This dataset contains 4 columns. They are described as, <br>\n",
    "* ID: Unique identifier and file name for the respective resume.\n",
    "* Resume_str : Contains the resume text only in string format.\n",
    "* Resume_html : Contains the resume data in html format as present while web scrapping.\n",
    "* Category : Category of resume.\n",
    "\n",
    "\n",
    "There are `2484` resumes in total in the dataset. The dataset is small in size. `Training bigger model will be an issue as they needs bigger dataset and tends to overfit.`"
   ]
  },
  {
   "cell_type": "code",
   "execution_count": 3,
   "id": "d74a28c0",
   "metadata": {
    "execution": {
     "iopub.execute_input": "2023-08-13T14:32:03.672436Z",
     "iopub.status.busy": "2023-08-13T14:32:03.671222Z",
     "iopub.status.idle": "2023-08-13T14:32:03.680285Z",
     "shell.execute_reply": "2023-08-13T14:32:03.678979Z"
    },
    "papermill": {
     "duration": 0.044788,
     "end_time": "2023-08-13T14:32:03.684356",
     "exception": false,
     "start_time": "2023-08-13T14:32:03.639568",
     "status": "completed"
    },
    "tags": []
   },
   "outputs": [
    {
     "data": {
      "text/plain": [
       "Index(['ID', 'Resume_str', 'Resume_html', 'Category'], dtype='object')"
      ]
     },
     "metadata": {},
     "output_type": "display_data"
    },
    {
     "name": "stdout",
     "output_type": "stream",
     "text": [
      "Total no of resumes in the dataset: 2484\n"
     ]
    }
   ],
   "source": [
    "display(data_df.columns)\n",
    "\n",
    "print(f\"Total no of resumes in the dataset: {len(data_df)}\")"
   ]
  },
  {
   "cell_type": "markdown",
   "id": "a1cc93e5",
   "metadata": {
    "papermill": {
     "duration": 0.028779,
     "end_time": "2023-08-13T14:32:03.741424",
     "exception": false,
     "start_time": "2023-08-13T14:32:03.712645",
     "status": "completed"
    },
    "tags": []
   },
   "source": [
    "For our task we don't need `Resume_html` column. So, we will drop it. Then we will explore the dataset."
   ]
  },
  {
   "cell_type": "code",
   "execution_count": 4,
   "id": "d0c47993",
   "metadata": {
    "execution": {
     "iopub.execute_input": "2023-08-13T14:32:03.803165Z",
     "iopub.status.busy": "2023-08-13T14:32:03.802791Z",
     "iopub.status.idle": "2023-08-13T14:32:03.820299Z",
     "shell.execute_reply": "2023-08-13T14:32:03.819287Z"
    },
    "papermill": {
     "duration": 0.051245,
     "end_time": "2023-08-13T14:32:03.822999",
     "exception": false,
     "start_time": "2023-08-13T14:32:03.771754",
     "status": "completed"
    },
    "tags": []
   },
   "outputs": [
    {
     "data": {
      "text/html": [
       "<div>\n",
       "<style scoped>\n",
       "    .dataframe tbody tr th:only-of-type {\n",
       "        vertical-align: middle;\n",
       "    }\n",
       "\n",
       "    .dataframe tbody tr th {\n",
       "        vertical-align: top;\n",
       "    }\n",
       "\n",
       "    .dataframe thead th {\n",
       "        text-align: right;\n",
       "    }\n",
       "</style>\n",
       "<table border=\"1\" class=\"dataframe\">\n",
       "  <thead>\n",
       "    <tr style=\"text-align: right;\">\n",
       "      <th></th>\n",
       "      <th>ID</th>\n",
       "      <th>Resume_str</th>\n",
       "      <th>Category</th>\n",
       "    </tr>\n",
       "  </thead>\n",
       "  <tbody>\n",
       "    <tr>\n",
       "      <th>0</th>\n",
       "      <td>16852973</td>\n",
       "      <td>HR ADMINISTRATOR/MARKETING ASSOCIATE\\...</td>\n",
       "      <td>HR</td>\n",
       "    </tr>\n",
       "    <tr>\n",
       "      <th>1</th>\n",
       "      <td>22323967</td>\n",
       "      <td>HR SPECIALIST, US HR OPERATIONS      ...</td>\n",
       "      <td>HR</td>\n",
       "    </tr>\n",
       "    <tr>\n",
       "      <th>2</th>\n",
       "      <td>33176873</td>\n",
       "      <td>HR DIRECTOR       Summary      Over 2...</td>\n",
       "      <td>HR</td>\n",
       "    </tr>\n",
       "    <tr>\n",
       "      <th>3</th>\n",
       "      <td>27018550</td>\n",
       "      <td>HR SPECIALIST       Summary    Dedica...</td>\n",
       "      <td>HR</td>\n",
       "    </tr>\n",
       "    <tr>\n",
       "      <th>4</th>\n",
       "      <td>17812897</td>\n",
       "      <td>HR MANAGER         Skill Highlights  ...</td>\n",
       "      <td>HR</td>\n",
       "    </tr>\n",
       "  </tbody>\n",
       "</table>\n",
       "</div>"
      ],
      "text/plain": [
       "         ID                                         Resume_str Category\n",
       "0  16852973           HR ADMINISTRATOR/MARKETING ASSOCIATE\\...       HR\n",
       "1  22323967           HR SPECIALIST, US HR OPERATIONS      ...       HR\n",
       "2  33176873           HR DIRECTOR       Summary      Over 2...       HR\n",
       "3  27018550           HR SPECIALIST       Summary    Dedica...       HR\n",
       "4  17812897           HR MANAGER         Skill Highlights  ...       HR"
      ]
     },
     "execution_count": 4,
     "metadata": {},
     "output_type": "execute_result"
    }
   ],
   "source": [
    "data_df.drop(columns= [\"Resume_html\"], axis= 1, inplace= True)\n",
    "data_df.head()"
   ]
  },
  {
   "cell_type": "markdown",
   "id": "1594fe4f",
   "metadata": {
    "papermill": {
     "duration": 0.0284,
     "end_time": "2023-08-13T14:32:03.883028",
     "exception": false,
     "start_time": "2023-08-13T14:32:03.854628",
     "status": "completed"
    },
    "tags": []
   },
   "source": [
    "First we will check the dataset info, dataset statistics and whether there is any missing data the dataset."
   ]
  },
  {
   "cell_type": "code",
   "execution_count": 5,
   "id": "f11fa559",
   "metadata": {
    "execution": {
     "iopub.execute_input": "2023-08-13T14:32:03.940698Z",
     "iopub.status.busy": "2023-08-13T14:32:03.940003Z",
     "iopub.status.idle": "2023-08-13T14:32:03.950858Z",
     "shell.execute_reply": "2023-08-13T14:32:03.949411Z"
    },
    "papermill": {
     "duration": 0.042411,
     "end_time": "2023-08-13T14:32:03.953430",
     "exception": false,
     "start_time": "2023-08-13T14:32:03.911019",
     "status": "completed"
    },
    "tags": []
   },
   "outputs": [
    {
     "data": {
      "text/plain": [
       "<bound method DataFrame.info of             ID                                         Resume_str  Category\n",
       "0     16852973           HR ADMINISTRATOR/MARKETING ASSOCIATE\\...        HR\n",
       "1     22323967           HR SPECIALIST, US HR OPERATIONS      ...        HR\n",
       "2     33176873           HR DIRECTOR       Summary      Over 2...        HR\n",
       "3     27018550           HR SPECIALIST       Summary    Dedica...        HR\n",
       "4     17812897           HR MANAGER         Skill Highlights  ...        HR\n",
       "...        ...                                                ...       ...\n",
       "2479  99416532           RANK: SGT/E-5 NON- COMMISSIONED OFFIC...  AVIATION\n",
       "2480  24589765           GOVERNMENT RELATIONS, COMMUNICATIONS ...  AVIATION\n",
       "2481  31605080           GEEK SQUAD AGENT         Professional...  AVIATION\n",
       "2482  21190805           PROGRAM DIRECTOR / OFFICE MANAGER    ...  AVIATION\n",
       "2483  37473139           STOREKEEPER II       Professional Sum...  AVIATION\n",
       "\n",
       "[2484 rows x 3 columns]>"
      ]
     },
     "execution_count": 5,
     "metadata": {},
     "output_type": "execute_result"
    }
   ],
   "source": [
    "data_df.info ## didn't help"
   ]
  },
  {
   "cell_type": "code",
   "execution_count": 6,
   "id": "8c8ab14f",
   "metadata": {
    "execution": {
     "iopub.execute_input": "2023-08-13T14:32:04.014787Z",
     "iopub.status.busy": "2023-08-13T14:32:04.014480Z",
     "iopub.status.idle": "2023-08-13T14:32:04.026203Z",
     "shell.execute_reply": "2023-08-13T14:32:04.025135Z"
    },
    "papermill": {
     "duration": 0.04417,
     "end_time": "2023-08-13T14:32:04.028694",
     "exception": false,
     "start_time": "2023-08-13T14:32:03.984524",
     "status": "completed"
    },
    "tags": []
   },
   "outputs": [
    {
     "data": {
      "text/plain": [
       "ID            0\n",
       "Resume_str    0\n",
       "Category      0\n",
       "dtype: int64"
      ]
     },
     "metadata": {},
     "output_type": "display_data"
    }
   ],
   "source": [
    "display(data_df.isnull().sum())"
   ]
  },
  {
   "cell_type": "markdown",
   "id": "e1eda229",
   "metadata": {
    "papermill": {
     "duration": 0.02918,
     "end_time": "2023-08-13T14:32:04.087185",
     "exception": false,
     "start_time": "2023-08-13T14:32:04.058005",
     "status": "completed"
    },
    "tags": []
   },
   "source": [
    "There is no missing value which is good.<br>\n",
    "\n",
    "Lets explore the categories and their distribution"
   ]
  },
  {
   "cell_type": "code",
   "execution_count": 7,
   "id": "ec0039a4",
   "metadata": {
    "execution": {
     "iopub.execute_input": "2023-08-13T14:32:04.148011Z",
     "iopub.status.busy": "2023-08-13T14:32:04.147648Z",
     "iopub.status.idle": "2023-08-13T14:32:04.158135Z",
     "shell.execute_reply": "2023-08-13T14:32:04.157056Z"
    },
    "papermill": {
     "duration": 0.042901,
     "end_time": "2023-08-13T14:32:04.160512",
     "exception": false,
     "start_time": "2023-08-13T14:32:04.117611",
     "status": "completed"
    },
    "tags": []
   },
   "outputs": [
    {
     "name": "stdout",
     "output_type": "stream",
     "text": [
      "Total no of categories are: 24\n"
     ]
    },
    {
     "data": {
      "text/plain": [
       "['ACCOUNTANT',\n",
       " 'ADVOCATE',\n",
       " 'AGRICULTURE',\n",
       " 'APPAREL',\n",
       " 'ARTS',\n",
       " 'AUTOMOBILE',\n",
       " 'AVIATION',\n",
       " 'BANKING',\n",
       " 'BPO',\n",
       " 'BUSINESS-DEVELOPMENT',\n",
       " 'CHEF',\n",
       " 'CONSTRUCTION',\n",
       " 'CONSULTANT',\n",
       " 'DESIGNER',\n",
       " 'DIGITAL-MEDIA',\n",
       " 'ENGINEERING',\n",
       " 'FINANCE',\n",
       " 'FITNESS',\n",
       " 'HEALTHCARE',\n",
       " 'HR',\n",
       " 'INFORMATION-TECHNOLOGY',\n",
       " 'PUBLIC-RELATIONS',\n",
       " 'SALES',\n",
       " 'TEACHER']"
      ]
     },
     "metadata": {},
     "output_type": "display_data"
    }
   ],
   "source": [
    "categories= sorted(data_df['Category'].unique())\n",
    "print(f\"Total no of categories are: {len(categories)}\")\n",
    "\n",
    "display(categories)"
   ]
  },
  {
   "cell_type": "code",
   "execution_count": 8,
   "id": "d58bb29d",
   "metadata": {
    "execution": {
     "iopub.execute_input": "2023-08-13T14:32:04.220970Z",
     "iopub.status.busy": "2023-08-13T14:32:04.220651Z",
     "iopub.status.idle": "2023-08-13T14:32:04.235121Z",
     "shell.execute_reply": "2023-08-13T14:32:04.234294Z"
    },
    "papermill": {
     "duration": 0.047031,
     "end_time": "2023-08-13T14:32:04.237558",
     "exception": false,
     "start_time": "2023-08-13T14:32:04.190527",
     "status": "completed"
    },
    "tags": []
   },
   "outputs": [
    {
     "data": {
      "text/plain": [
       "ACCOUNTANT                118\n",
       "ADVOCATE                  118\n",
       "AGRICULTURE                63\n",
       "APPAREL                    97\n",
       "ARTS                      103\n",
       "AUTOMOBILE                 36\n",
       "AVIATION                  117\n",
       "BANKING                   115\n",
       "BPO                        22\n",
       "BUSINESS-DEVELOPMENT      120\n",
       "CHEF                      118\n",
       "CONSTRUCTION              112\n",
       "CONSULTANT                115\n",
       "DESIGNER                  107\n",
       "DIGITAL-MEDIA              96\n",
       "ENGINEERING               118\n",
       "FINANCE                   118\n",
       "FITNESS                   117\n",
       "HEALTHCARE                115\n",
       "HR                        110\n",
       "INFORMATION-TECHNOLOGY    120\n",
       "PUBLIC-RELATIONS          111\n",
       "SALES                     116\n",
       "TEACHER                   102\n",
       "Name: Category, dtype: int64"
      ]
     },
     "execution_count": 8,
     "metadata": {},
     "output_type": "execute_result"
    }
   ],
   "source": [
    "data_df['Category'].value_counts().sort_index()"
   ]
  },
  {
   "cell_type": "code",
   "execution_count": 9,
   "id": "3e971d82",
   "metadata": {
    "execution": {
     "iopub.execute_input": "2023-08-13T14:32:04.297206Z",
     "iopub.status.busy": "2023-08-13T14:32:04.296427Z",
     "iopub.status.idle": "2023-08-13T14:32:04.993422Z",
     "shell.execute_reply": "2023-08-13T14:32:04.992304Z"
    },
    "papermill": {
     "duration": 0.730005,
     "end_time": "2023-08-13T14:32:04.995861",
     "exception": false,
     "start_time": "2023-08-13T14:32:04.265856",
     "status": "completed"
    },
    "tags": []
   },
   "outputs": [
    {
     "data": {
      "text/plain": [
       "[Text(0, 0, '120'),\n",
       " Text(0, 0, '120'),\n",
       " Text(0, 0, '118'),\n",
       " Text(0, 0, '118'),\n",
       " Text(0, 0, '118'),\n",
       " Text(0, 0, '118'),\n",
       " Text(0, 0, '118'),\n",
       " Text(0, 0, '117'),\n",
       " Text(0, 0, '117'),\n",
       " Text(0, 0, '116'),\n",
       " Text(0, 0, '115'),\n",
       " Text(0, 0, '115'),\n",
       " Text(0, 0, '115'),\n",
       " Text(0, 0, '112'),\n",
       " Text(0, 0, '111'),\n",
       " Text(0, 0, '110'),\n",
       " Text(0, 0, '107'),\n",
       " Text(0, 0, '103'),\n",
       " Text(0, 0, '102'),\n",
       " Text(0, 0, '97'),\n",
       " Text(0, 0, '96'),\n",
       " Text(0, 0, '63'),\n",
       " Text(0, 0, '36'),\n",
       " Text(0, 0, '22')]"
      ]
     },
     "execution_count": 9,
     "metadata": {},
     "output_type": "execute_result"
    },
    {
     "data": {
      "image/png": "[encoded data removed]",
      "text/plain": [
       "<Figure size 1500x600 with 1 Axes>"
      ]
     },
     "metadata": {},
     "output_type": "display_data"
    }
   ],
   "source": [
    "fig, ax = plt.subplots(figsize= (15, 6))\n",
    "bars = ax.bar(data_df['Category'].value_counts().index, \n",
    "              height= data_df['Category'].value_counts().values)\n",
    "\n",
    "plt.xticks(rotation= 'vertical')\n",
    "plt.title(\"Data Distribution For Each Category\")\n",
    "plt.xlabel(\"Category\")\n",
    "plt.ylabel(\"No of Data\")\n",
    "ax.bar_label(bars)"
   ]
  },
  {
   "cell_type": "markdown",
   "id": "ec582ab1",
   "metadata": {
    "papermill": {
     "duration": 0.031495,
     "end_time": "2023-08-13T14:32:05.059525",
     "exception": false,
     "start_time": "2023-08-13T14:32:05.028030",
     "status": "completed"
    },
    "tags": []
   },
   "source": [
    "From the above bar-plot we can see that most of the categories have around 100+ resumes but some of the categories have a few data. So dataset is slightly imblance. So we have to be carefull during training so that the model miss these categories. Moreover we also chose model metrics carefully. We can't only use classification accuracy as model metrics as dataset is `imbalance`. We will use `F1_Score` for our model evaluation."
   ]
  },
  {
   "cell_type": "markdown",
   "id": "d4573671",
   "metadata": {
    "papermill": {
     "duration": 0.031667,
     "end_time": "2023-08-13T14:32:05.123436",
     "exception": false,
     "start_time": "2023-08-13T14:32:05.091769",
     "status": "completed"
    },
    "tags": []
   },
   "source": [
    "#### Some More EDA and Preprocessing\n",
    "\n",
    "Lets explore contents in resumes."
   ]
  },
  {
   "cell_type": "code",
   "execution_count": 10,
   "id": "9a9e5e3b",
   "metadata": {
    "execution": {
     "iopub.execute_input": "2023-08-13T14:32:05.187982Z",
     "iopub.status.busy": "2023-08-13T14:32:05.187600Z",
     "iopub.status.idle": "2023-08-13T14:32:05.247505Z",
     "shell.execute_reply": "2023-08-13T14:32:05.246313Z"
    },
    "papermill": {
     "duration": 0.095249,
     "end_time": "2023-08-13T14:32:05.250163",
     "exception": false,
     "start_time": "2023-08-13T14:32:05.154914",
     "status": "completed"
    },
    "tags": []
   },
   "outputs": [
    {
     "name": "stdout",
     "output_type": "stream",
     "text": [
      "No of rows in the dataset: 2484\n",
      "No of unique resumes: 2482\n"
     ]
    }
   ],
   "source": [
    "print(f\"No of rows in the dataset: {len(data_df)}\")\n",
    "print(f\"No of unique resumes: {len(data_df['Resume_str'].unique())}\")"
   ]
  },
  {
   "cell_type": "markdown",
   "id": "dcc785b5",
   "metadata": {
    "papermill": {
     "duration": 0.030835,
     "end_time": "2023-08-13T14:32:05.312007",
     "exception": false,
     "start_time": "2023-08-13T14:32:05.281172",
     "status": "completed"
    },
    "tags": []
   },
   "source": [
    "So there are `some duplicate` resumes in the dataset."
   ]
  },
  {
   "cell_type": "code",
   "execution_count": 11,
   "id": "0b432816",
   "metadata": {
    "execution": {
     "iopub.execute_input": "2023-08-13T14:32:05.375435Z",
     "iopub.status.busy": "2023-08-13T14:32:05.375081Z",
     "iopub.status.idle": "2023-08-13T14:32:05.390286Z",
     "shell.execute_reply": "2023-08-13T14:32:05.389231Z"
    },
    "papermill": {
     "duration": 0.05002,
     "end_time": "2023-08-13T14:32:05.392622",
     "exception": false,
     "start_time": "2023-08-13T14:32:05.342602",
     "status": "completed"
    },
    "tags": []
   },
   "outputs": [
    {
     "data": {
      "text/html": [
       "<div>\n",
       "<style scoped>\n",
       "    .dataframe tbody tr th:only-of-type {\n",
       "        vertical-align: middle;\n",
       "    }\n",
       "\n",
       "    .dataframe tbody tr th {\n",
       "        vertical-align: top;\n",
       "    }\n",
       "\n",
       "    .dataframe thead th {\n",
       "        text-align: right;\n",
       "    }\n",
       "</style>\n",
       "<table border=\"1\" class=\"dataframe\">\n",
       "  <thead>\n",
       "    <tr style=\"text-align: right;\">\n",
       "      <th></th>\n",
       "      <th>ID</th>\n",
       "      <th>Resume_str</th>\n",
       "      <th>Category</th>\n",
       "      <th>resume_length</th>\n",
       "    </tr>\n",
       "  </thead>\n",
       "  <tbody>\n",
       "    <tr>\n",
       "      <th>0</th>\n",
       "      <td>16852973</td>\n",
       "      <td>HR ADMINISTRATOR/MARKETING ASSOCIATE\\...</td>\n",
       "      <td>HR</td>\n",
       "      <td>5442</td>\n",
       "    </tr>\n",
       "    <tr>\n",
       "      <th>1</th>\n",
       "      <td>22323967</td>\n",
       "      <td>HR SPECIALIST, US HR OPERATIONS      ...</td>\n",
       "      <td>HR</td>\n",
       "      <td>5572</td>\n",
       "    </tr>\n",
       "    <tr>\n",
       "      <th>2</th>\n",
       "      <td>33176873</td>\n",
       "      <td>HR DIRECTOR       Summary      Over 2...</td>\n",
       "      <td>HR</td>\n",
       "      <td>7720</td>\n",
       "    </tr>\n",
       "    <tr>\n",
       "      <th>3</th>\n",
       "      <td>27018550</td>\n",
       "      <td>HR SPECIALIST       Summary    Dedica...</td>\n",
       "      <td>HR</td>\n",
       "      <td>2855</td>\n",
       "    </tr>\n",
       "    <tr>\n",
       "      <th>4</th>\n",
       "      <td>17812897</td>\n",
       "      <td>HR MANAGER         Skill Highlights  ...</td>\n",
       "      <td>HR</td>\n",
       "      <td>9172</td>\n",
       "    </tr>\n",
       "  </tbody>\n",
       "</table>\n",
       "</div>"
      ],
      "text/plain": [
       "         ID                                         Resume_str Category  \\\n",
       "0  16852973           HR ADMINISTRATOR/MARKETING ASSOCIATE\\...       HR   \n",
       "1  22323967           HR SPECIALIST, US HR OPERATIONS      ...       HR   \n",
       "2  33176873           HR DIRECTOR       Summary      Over 2...       HR   \n",
       "3  27018550           HR SPECIALIST       Summary    Dedica...       HR   \n",
       "4  17812897           HR MANAGER         Skill Highlights  ...       HR   \n",
       "\n",
       "   resume_length  \n",
       "0           5442  \n",
       "1           5572  \n",
       "2           7720  \n",
       "3           2855  \n",
       "4           9172  "
      ]
     },
     "execution_count": 11,
     "metadata": {},
     "output_type": "execute_result"
    }
   ],
   "source": [
    "data_df['resume_length']= data_df['Resume_str'].apply(lambda x: len(x))\n",
    "data_df.head()"
   ]
  },
  {
   "cell_type": "code",
   "execution_count": 12,
   "id": "9a7f6955",
   "metadata": {
    "execution": {
     "iopub.execute_input": "2023-08-13T14:32:05.460021Z",
     "iopub.status.busy": "2023-08-13T14:32:05.459722Z",
     "iopub.status.idle": "2023-08-13T14:32:05.470612Z",
     "shell.execute_reply": "2023-08-13T14:32:05.469640Z"
    },
    "papermill": {
     "duration": 0.047079,
     "end_time": "2023-08-13T14:32:05.472654",
     "exception": false,
     "start_time": "2023-08-13T14:32:05.425575",
     "status": "completed"
    },
    "tags": []
   },
   "outputs": [
    {
     "data": {
      "text/plain": [
       "2033"
      ]
     },
     "metadata": {},
     "output_type": "display_data"
    },
    {
     "data": {
      "text/plain": [
       "5250    5\n",
       "5196    5\n",
       "5980    4\n",
       "5403    4\n",
       "5533    4\n",
       "5515    4\n",
       "6664    4\n",
       "5130    4\n",
       "5776    4\n",
       "5295    4\n",
       "Name: resume_length, dtype: int64"
      ]
     },
     "execution_count": 12,
     "metadata": {},
     "output_type": "execute_result"
    }
   ],
   "source": [
    "display(len(data_df['resume_length'].unique()))\n",
    "data_df['resume_length'].value_counts()[:10]"
   ]
  },
  {
   "cell_type": "code",
   "execution_count": 13,
   "id": "0d9809d1",
   "metadata": {
    "execution": {
     "iopub.execute_input": "2023-08-13T14:32:05.536067Z",
     "iopub.status.busy": "2023-08-13T14:32:05.535200Z",
     "iopub.status.idle": "2023-08-13T14:32:05.909160Z",
     "shell.execute_reply": "2023-08-13T14:32:05.908211Z"
    },
    "papermill": {
     "duration": 0.407922,
     "end_time": "2023-08-13T14:32:05.911160",
     "exception": false,
     "start_time": "2023-08-13T14:32:05.503238",
     "status": "completed"
    },
    "tags": []
   },
   "outputs": [
    {
     "data": {
      "text/plain": [
       "Text(0.5, 1.0, 'Resume Length Distribution')"
      ]
     },
     "execution_count": 13,
     "metadata": {},
     "output_type": "execute_result"
    },
    {
     "data": {
      "image/png": "[encoded data removed]",
      "text/plain": [
       "<Figure size 640x480 with 1 Axes>"
      ]
     },
     "metadata": {},
     "output_type": "display_data"
    }
   ],
   "source": [
    "plt.hist(data_df['resume_length'].values)\n",
    "plt.xlabel(\"Resume Length\")\n",
    "plt.ylabel(\"Frequency\")\n",
    "plt.title(\"Resume Length Distribution\")"
   ]
  },
  {
   "cell_type": "code",
   "execution_count": 14,
   "id": "80620c1e",
   "metadata": {
    "execution": {
     "iopub.execute_input": "2023-08-13T14:32:05.977524Z",
     "iopub.status.busy": "2023-08-13T14:32:05.975870Z",
     "iopub.status.idle": "2023-08-13T14:32:05.991067Z",
     "shell.execute_reply": "2023-08-13T14:32:05.989985Z"
    },
    "papermill": {
     "duration": 0.051457,
     "end_time": "2023-08-13T14:32:05.994331",
     "exception": false,
     "start_time": "2023-08-13T14:32:05.942874",
     "status": "completed"
    },
    "tags": []
   },
   "outputs": [
    {
     "name": "stdout",
     "output_type": "stream",
     "text": [
      "Maximum length of resumes: 38842\n",
      "Minimum length of resumes: 21\n"
     ]
    },
    {
     "data": {
      "text/plain": [
       "count     2484.000000\n",
       "mean      6295.308776\n",
       "std       2769.251458\n",
       "min         21.000000\n",
       "25%       5160.000000\n",
       "50%       5886.500000\n",
       "75%       7227.250000\n",
       "max      38842.000000\n",
       "Name: resume_length, dtype: float64"
      ]
     },
     "execution_count": 14,
     "metadata": {},
     "output_type": "execute_result"
    }
   ],
   "source": [
    "print(f\"Maximum length of resumes: {max(data_df.resume_length)}\")\n",
    "print(f\"Minimum length of resumes: {min(data_df.resume_length)}\")\n",
    "\n",
    "data_df['resume_length'].describe()"
   ]
  },
  {
   "cell_type": "code",
   "execution_count": 15,
   "id": "035a2342",
   "metadata": {
    "execution": {
     "iopub.execute_input": "2023-08-13T14:32:06.063809Z",
     "iopub.status.busy": "2023-08-13T14:32:06.063485Z",
     "iopub.status.idle": "2023-08-13T14:32:06.221607Z",
     "shell.execute_reply": "2023-08-13T14:32:06.220275Z"
    },
    "papermill": {
     "duration": 0.195264,
     "end_time": "2023-08-13T14:32:06.225020",
     "exception": false,
     "start_time": "2023-08-13T14:32:06.029756",
     "status": "completed"
    },
    "tags": []
   },
   "outputs": [
    {
     "data": {
      "text/plain": [
       "count    2484.000000\n",
       "mean      811.325684\n",
       "std       371.006906\n",
       "min         0.000000\n",
       "25%       651.000000\n",
       "50%       757.000000\n",
       "75%       933.000000\n",
       "max      5190.000000\n",
       "Name: no_words, dtype: float64"
      ]
     },
     "execution_count": 15,
     "metadata": {},
     "output_type": "execute_result"
    }
   ],
   "source": [
    "data_df['no_words']= data_df['Resume_str'].apply(lambda x: len(x.split()))\n",
    "data_df.no_words.describe()"
   ]
  },
  {
   "cell_type": "code",
   "execution_count": 16,
   "id": "34f6e162",
   "metadata": {
    "execution": {
     "iopub.execute_input": "2023-08-13T14:32:06.296007Z",
     "iopub.status.busy": "2023-08-13T14:32:06.295652Z",
     "iopub.status.idle": "2023-08-13T14:32:06.754284Z",
     "shell.execute_reply": "2023-08-13T14:32:06.753267Z"
    },
    "papermill": {
     "duration": 0.494938,
     "end_time": "2023-08-13T14:32:06.756562",
     "exception": false,
     "start_time": "2023-08-13T14:32:06.261624",
     "status": "completed"
    },
    "tags": []
   },
   "outputs": [
    {
     "data": {
      "text/plain": [
       "Text(0.5, 1.0, 'Word count Distribution')"
      ]
     },
     "execution_count": 16,
     "metadata": {},
     "output_type": "execute_result"
    },
    {
     "data": {
      "image/png": "[encoded data removed]",
      "text/plain": [
       "<Figure size 640x480 with 1 Axes>"
      ]
     },
     "metadata": {},
     "output_type": "display_data"
    }
   ],
   "source": [
    "plt.hist(data_df['no_words'].values)\n",
    "plt.xlabel(\"Word counts\")\n",
    "plt.ylabel(\"Frequency\")\n",
    "plt.title(\"Word count Distribution\")"
   ]
  },
  {
   "cell_type": "markdown",
   "id": "628434a6",
   "metadata": {
    "papermill": {
     "duration": 0.033432,
     "end_time": "2023-08-13T14:32:06.824401",
     "exception": false,
     "start_time": "2023-08-13T14:32:06.790969",
     "status": "completed"
    },
    "tags": []
   },
   "source": [
    "Most of the resume are different in size and `90%` data have `length < 8000` and `word count is < 1000`.\n",
    "\n",
    "Lets investigate the vocabulary of the resumes."
   ]
  },
  {
   "cell_type": "code",
   "execution_count": 17,
   "id": "20b4e68b",
   "metadata": {
    "execution": {
     "iopub.execute_input": "2023-08-13T14:32:06.898275Z",
     "iopub.status.busy": "2023-08-13T14:32:06.897321Z",
     "iopub.status.idle": "2023-08-13T14:32:07.580461Z",
     "shell.execute_reply": "2023-08-13T14:32:07.578967Z"
    },
    "papermill": {
     "duration": 0.726393,
     "end_time": "2023-08-13T14:32:07.582522",
     "exception": false,
     "start_time": "2023-08-13T14:32:06.856129",
     "status": "completed"
    },
    "tags": []
   },
   "outputs": [
    {
     "name": "stderr",
     "output_type": "stream",
     "text": [
      "100%|██████████| 2484/2484 [00:00<00:00, 3936.75it/s]\n"
     ]
    }
   ],
   "source": [
    "def word_vocab(data):\n",
    "    vocabulary= {}\n",
    "    for resume in tqdm(data.values):\n",
    "        for word in resume.split():\n",
    "            try:\n",
    "                vocabulary[word] += 1\n",
    "            except:\n",
    "                vocabulary[word] = 1\n",
    "    sorted_vocab= sorted(vocabulary.items(), key= lambda kv:kv[1], reverse= True)\n",
    "    return vocabulary, sorted_vocab\n",
    "\n",
    "vocabulary, sorted_vocab= word_vocab(data_df['Resume_str'])"
   ]
  },
  {
   "cell_type": "code",
   "execution_count": 18,
   "id": "40e743f8",
   "metadata": {
    "execution": {
     "iopub.execute_input": "2023-08-13T14:32:07.687801Z",
     "iopub.status.busy": "2023-08-13T14:32:07.687183Z",
     "iopub.status.idle": "2023-08-13T14:32:07.758642Z",
     "shell.execute_reply": "2023-08-13T14:32:07.757584Z"
    },
    "papermill": {
     "duration": 0.135736,
     "end_time": "2023-08-13T14:32:07.760844",
     "exception": false,
     "start_time": "2023-08-13T14:32:07.625108",
     "status": "completed"
    },
    "tags": []
   },
   "outputs": [
    {
     "name": "stdout",
     "output_type": "stream",
     "text": [
      "Total unique words in the vocabulary: 111423\n"
     ]
    },
    {
     "data": {
      "text/plain": [
       "[('and', 122399),\n",
       " ('to', 53429),\n",
       " ('of', 42633),\n",
       " ('the', 35494),\n",
       " ('for', 28105),\n",
       " ('in', 27020),\n",
       " ('with', 21462),\n",
       " (',', 18910),\n",
       " ('a', 15613),\n",
       " ('State', 15278),\n",
       " ('City', 14889),\n",
       " ('Company', 11810),\n",
       " ('Name', 11602),\n",
       " ('on', 9968),\n",
       " ('as', 9950),\n",
       " ('all', 8452),\n",
       " ('－', 6890),\n",
       " ('by', 6687),\n",
       " ('customer', 5796),\n",
       " ('-', 5599)]"
      ]
     },
     "execution_count": 18,
     "metadata": {},
     "output_type": "execute_result"
    }
   ],
   "source": [
    "sorted_vocab= sorted(vocabulary.items(), key= lambda kv:kv[1], reverse= True)\n",
    "\n",
    "print(f\"Total unique words in the vocabulary: {len(sorted_vocab)}\")\n",
    "\n",
    "sorted_vocab[:20]\n"
   ]
  },
  {
   "cell_type": "markdown",
   "id": "53565648",
   "metadata": {
    "papermill": {
     "duration": 0.034409,
     "end_time": "2023-08-13T14:32:07.830399",
     "exception": false,
     "start_time": "2023-08-13T14:32:07.795990",
     "status": "completed"
    },
    "tags": []
   },
   "source": [
    "So, `111423` unique words in the vocabulary which is `huge` for a smaller dataset.<br>\n",
    "\n",
    "Lets `remove stopwords` from the resumes as they are very common and see the effect in word vocabulary."
   ]
  },
  {
   "cell_type": "code",
   "execution_count": 19,
   "id": "fbbf4fb9",
   "metadata": {
    "execution": {
     "iopub.execute_input": "2023-08-13T14:32:07.903086Z",
     "iopub.status.busy": "2023-08-13T14:32:07.902010Z",
     "iopub.status.idle": "2023-08-13T14:32:09.469992Z",
     "shell.execute_reply": "2023-08-13T14:32:09.468096Z"
    },
    "papermill": {
     "duration": 1.607169,
     "end_time": "2023-08-13T14:32:09.472222",
     "exception": false,
     "start_time": "2023-08-13T14:32:07.865053",
     "status": "completed"
    },
    "tags": []
   },
   "outputs": [
    {
     "name": "stderr",
     "output_type": "stream",
     "text": [
      "/opt/conda/lib/python3.10/site-packages/scipy/__init__.py:146: UserWarning: A NumPy version >=1.16.5 and <1.23.0 is required for this version of SciPy (detected version 1.23.5\n",
      "  warnings.warn(f\"A NumPy version >={np_minversion} and <{np_maxversion}\"\n"
     ]
    },
    {
     "name": "stdout",
     "output_type": "stream",
     "text": [
      "[nltk_data] Downloading package stopwords to /usr/share/nltk_data...\n",
      "[nltk_data]   Package stopwords is already up-to-date!\n",
      "[nltk_data] Downloading package punkt to /usr/share/nltk_data...\n",
      "[nltk_data]   Package punkt is already up-to-date!\n",
      "Total stop words: 179\n"
     ]
    }
   ],
   "source": [
    "important_punctuations= [p for p in \"()-.:;?/_{|}\"]\n",
    "important_punctuations\n",
    "\n",
    "import nltk\n",
    "from nltk.corpus import stopwords\n",
    "from nltk.tokenize import word_tokenize as word_tokenizer\n",
    "\n",
    "nltk.download('stopwords')\n",
    "nltk.download('punkt')\n",
    "stop_words = set(stopwords.words('english'))\n",
    "print(f\"Total stop words: {len(stop_words)}\")\n",
    "# stop_words"
   ]
  },
  {
   "cell_type": "code",
   "execution_count": 20,
   "id": "62e56ecd",
   "metadata": {
    "execution": {
     "iopub.execute_input": "2023-08-13T14:32:09.543704Z",
     "iopub.status.busy": "2023-08-13T14:32:09.541873Z",
     "iopub.status.idle": "2023-08-13T14:32:42.057153Z",
     "shell.execute_reply": "2023-08-13T14:32:42.056059Z"
    },
    "papermill": {
     "duration": 32.553062,
     "end_time": "2023-08-13T14:32:42.059688",
     "exception": false,
     "start_time": "2023-08-13T14:32:09.506626",
     "status": "completed"
    },
    "tags": []
   },
   "outputs": [],
   "source": [
    "def remove_stop_words(txt):\n",
    "    words = word_tokenizer(txt)\n",
    "    imp_words = [word for word in words if word not in stop_words and word not in important_punctuations]\n",
    "    text = ' '.join(imp_words)\n",
    "    return text\n",
    "\n",
    "###\n",
    "data_df['Modified_Resume_str']= data_df['Resume_str'].apply(remove_stop_words)"
   ]
  },
  {
   "cell_type": "markdown",
   "id": "4be7d55b",
   "metadata": {
    "papermill": {
     "duration": 0.032465,
     "end_time": "2023-08-13T14:32:42.126109",
     "exception": false,
     "start_time": "2023-08-13T14:32:42.093644",
     "status": "completed"
    },
    "tags": []
   },
   "source": [
    "Now lets check what happens to our word vocabulary and resume lengths"
   ]
  },
  {
   "cell_type": "code",
   "execution_count": 21,
   "id": "de3d88f1",
   "metadata": {
    "execution": {
     "iopub.execute_input": "2023-08-13T14:32:42.194765Z",
     "iopub.status.busy": "2023-08-13T14:32:42.193762Z",
     "iopub.status.idle": "2023-08-13T14:32:42.717945Z",
     "shell.execute_reply": "2023-08-13T14:32:42.716892Z"
    },
    "papermill": {
     "duration": 0.560789,
     "end_time": "2023-08-13T14:32:42.720178",
     "exception": false,
     "start_time": "2023-08-13T14:32:42.159389",
     "status": "completed"
    },
    "tags": []
   },
   "outputs": [
    {
     "name": "stderr",
     "output_type": "stream",
     "text": [
      "100%|██████████| 2484/2484 [00:00<00:00, 5118.69it/s]\n"
     ]
    },
    {
     "name": "stdout",
     "output_type": "stream",
     "text": [
      "Total unique words in the vocabulary: 73200\n"
     ]
    },
    {
     "data": {
      "text/plain": [
       "[(',', 186142),\n",
       " ('State', 15335),\n",
       " ('City', 14950),\n",
       " ('Company', 11924),\n",
       " ('Name', 11653),\n",
       " ('management', 6925),\n",
       " ('－', 6890),\n",
       " ('customer', 6042),\n",
       " ('sales', 5553),\n",
       " ('&', 5524),\n",
       " ('new', 5459),\n",
       " (\"'s\", 5211),\n",
       " ('Management', 4991),\n",
       " ('team', 4599),\n",
       " ('I', 4476),\n",
       " ('business', 4376),\n",
       " ('service', 4258),\n",
       " ('skills', 4161),\n",
       " ('including', 3997),\n",
       " ('development', 3795)]"
      ]
     },
     "execution_count": 21,
     "metadata": {},
     "output_type": "execute_result"
    }
   ],
   "source": [
    "modified_vocab, sorted_modified_vocab = word_vocab(data_df['Modified_Resume_str'])\n",
    "\n",
    "print(f\"Total unique words in the vocabulary: {len(sorted_modified_vocab)}\")\n",
    "\n",
    "sorted_modified_vocab[:20]"
   ]
  },
  {
   "cell_type": "markdown",
   "id": "1fca7428",
   "metadata": {
    "papermill": {
     "duration": 0.036262,
     "end_time": "2023-08-13T14:32:42.790683",
     "exception": false,
     "start_time": "2023-08-13T14:32:42.754421",
     "status": "completed"
    },
    "tags": []
   },
   "source": [
    "> Vocabulary size reduced to `73200` from `111423` which is a huge reduction in size."
   ]
  },
  {
   "cell_type": "code",
   "execution_count": 22,
   "id": "59ad6594",
   "metadata": {
    "execution": {
     "iopub.execute_input": "2023-08-13T14:32:42.861473Z",
     "iopub.status.busy": "2023-08-13T14:32:42.860730Z",
     "iopub.status.idle": "2023-08-13T14:32:43.226264Z",
     "shell.execute_reply": "2023-08-13T14:32:43.225184Z"
    },
    "papermill": {
     "duration": 0.40288,
     "end_time": "2023-08-13T14:32:43.228617",
     "exception": false,
     "start_time": "2023-08-13T14:32:42.825737",
     "status": "completed"
    },
    "tags": []
   },
   "outputs": [
    {
     "data": {
      "text/plain": [
       "Text(0.5, 1.0, 'Resume Length Distribution [after removing stop words]')"
      ]
     },
     "execution_count": 22,
     "metadata": {},
     "output_type": "execute_result"
    },
    {
     "data": {
      "image/png": "[encoded data removed]",
      "text/plain": [
       "<Figure size 640x480 with 1 Axes>"
      ]
     },
     "metadata": {},
     "output_type": "display_data"
    }
   ],
   "source": [
    "data_df['modified_resume_length']= data_df['Modified_Resume_str'].apply(lambda x: len(x))\n",
    "\n",
    "plt.hist(data_df['modified_resume_length'].values)\n",
    "plt.xlabel(\"Resume Length [after removing stop words]\")\n",
    "plt.ylabel(\"Frequency\")\n",
    "plt.title(\"Resume Length Distribution [after removing stop words]\")"
   ]
  },
  {
   "cell_type": "code",
   "execution_count": 23,
   "id": "06c8e241",
   "metadata": {
    "execution": {
     "iopub.execute_input": "2023-08-13T14:32:43.304670Z",
     "iopub.status.busy": "2023-08-13T14:32:43.302791Z",
     "iopub.status.idle": "2023-08-13T14:32:43.819949Z",
     "shell.execute_reply": "2023-08-13T14:32:43.818966Z"
    },
    "papermill": {
     "duration": 0.557611,
     "end_time": "2023-08-13T14:32:43.822073",
     "exception": false,
     "start_time": "2023-08-13T14:32:43.264462",
     "status": "completed"
    },
    "tags": []
   },
   "outputs": [
    {
     "data": {
      "text/plain": [
       "count    2484.000000\n",
       "mean      699.194847\n",
       "std       319.149530\n",
       "min         0.000000\n",
       "25%       560.000000\n",
       "50%       653.500000\n",
       "75%       810.500000\n",
       "max      4052.000000\n",
       "Name: modified_no_words, dtype: float64"
      ]
     },
     "metadata": {},
     "output_type": "display_data"
    },
    {
     "data": {
      "text/plain": [
       "Text(0.5, 1.0, 'Word count Distribution [after removing stop words]')"
      ]
     },
     "execution_count": 23,
     "metadata": {},
     "output_type": "execute_result"
    },
    {
     "data": {
      "image/png": "[encoded data removed]",
      "text/plain": [
       "<Figure size 640x480 with 1 Axes>"
      ]
     },
     "metadata": {},
     "output_type": "display_data"
    }
   ],
   "source": [
    "data_df['modified_no_words']= data_df['Modified_Resume_str'].apply(lambda x: len(x.split()))\n",
    "display(data_df.modified_no_words.describe())\n",
    "\n",
    "plt.hist(data_df['modified_no_words'].values)\n",
    "plt.xlabel(\"Word counts [after removing stop words]\")\n",
    "plt.ylabel(\"Frequency\")\n",
    "plt.title(\"Word count Distribution [after removing stop words]\")"
   ]
  },
  {
   "cell_type": "markdown",
   "id": "ecdfec64",
   "metadata": {
    "papermill": {
     "duration": 0.035828,
     "end_time": "2023-08-13T14:32:43.894058",
     "exception": false,
     "start_time": "2023-08-13T14:32:43.858230",
     "status": "completed"
    },
    "tags": []
   },
   "source": [
    "Lets chcek `character occurance distribution`."
   ]
  },
  {
   "cell_type": "code",
   "execution_count": 24,
   "id": "3c2b550d",
   "metadata": {
    "execution": {
     "iopub.execute_input": "2023-08-13T14:32:43.969240Z",
     "iopub.status.busy": "2023-08-13T14:32:43.968222Z",
     "iopub.status.idle": "2023-08-13T14:32:45.887434Z",
     "shell.execute_reply": "2023-08-13T14:32:45.886282Z"
    },
    "papermill": {
     "duration": 1.959096,
     "end_time": "2023-08-13T14:32:45.890195",
     "exception": false,
     "start_time": "2023-08-13T14:32:43.931099",
     "status": "completed"
    },
    "tags": []
   },
   "outputs": [
    {
     "name": "stderr",
     "output_type": "stream",
     "text": [
      "100%|██████████| 2484/2484 [00:01<00:00, 1307.54it/s]"
     ]
    },
    {
     "name": "stdout",
     "output_type": "stream",
     "text": [
      "Total Unique Characters: 162\n"
     ]
    },
    {
     "name": "stderr",
     "output_type": "stream",
     "text": [
      "\n"
     ]
    },
    {
     "data": {
      "text/plain": [
       "{' ': 2897374,\n",
       " 'H': 19278,\n",
       " 'R': 36235,\n",
       " 'A': 69757,\n",
       " 'D': 33478,\n",
       " 'M': 52113,\n",
       " 'I': 40931,\n",
       " 'N': 32806,\n",
       " 'S': 92016,\n",
       " 'T': 35560,\n",
       " 'O': 26609,\n",
       " '/': 25090,\n",
       " 'K': 4513,\n",
       " 'E': 45923,\n",
       " 'G': 14036,\n",
       " 'C': 94612,\n",
       " '\\n': 16580,\n",
       " 'u': 307338,\n",
       " 'm': 322731,\n",
       " 'a': 969129,\n",
       " 'r': 771183,\n",
       " 'y': 170076,\n",
       " 'e': 1361129,\n",
       " 'd': 477194,\n",
       " 'i': 947913,\n",
       " 'c': 473750,\n",
       " 't': 960319,\n",
       " 's': 764539,\n",
       " 'o': 821521,\n",
       " 'v': 140309,\n",
       " 'n': 996602,\n",
       " 'g': 267846,\n",
       " 'w': 97091,\n",
       " 'h': 222609,\n",
       " '1': 38322,\n",
       " '5': 11040,\n",
       " '+': 1400,\n",
       " 'f': 206237,\n",
       " 'x': 32749,\n",
       " 'p': 312523,\n",
       " 'l': 478546,\n",
       " '.': 98373,\n",
       " 'b': 98050,\n",
       " '-': 31156,\n",
       " ';': 4771,\n",
       " ',': 187440,\n",
       " 'F': 19195,\n",
       " 'k': 67457,\n",
       " 'q': 17039,\n",
       " 'L': 21138,\n",
       " 'W': 13935,\n",
       " 'Q': 4022,\n",
       " 'P': 54884,\n",
       " '(': 9270,\n",
       " ')': 9414,\n",
       " '2': 40491,\n",
       " '0': 70307,\n",
       " '3': 9959,\n",
       " '－': 6890,\n",
       " '\\xa0': 8877,\n",
       " \"'\": 7130,\n",
       " 'z': 14259,\n",
       " '9': 12925,\n",
       " 'J': 7636,\n",
       " 'j': 13640,\n",
       " '7': 6531,\n",
       " '&': 5524,\n",
       " '4': 8974,\n",
       " 'B': 21032,\n",
       " '8': 7160,\n",
       " 'U': 13624,\n",
       " 'V': 8659,\n",
       " '%': 2534,\n",
       " '·': 617,\n",
       " ':': 10933,\n",
       " 'Y': 2907,\n",
       " '\"': 2505,\n",
       " '6': 7417,\n",
       " '*': 1974,\n",
       " '\\t': 7257,\n",
       " 'Z': 488,\n",
       " 'X': 1822,\n",
       " '–': 1506,\n",
       " '[': 743,\n",
       " ']': 748,\n",
       " '~': 94,\n",
       " '?': 157,\n",
       " '\\u200b': 406,\n",
       " '_': 866,\n",
       " '•': 966,\n",
       " '“': 118,\n",
       " '”': 118,\n",
       " '‘': 18,\n",
       " '�': 27,\n",
       " '$': 2213,\n",
       " '|': 411,\n",
       " '#': 293,\n",
       " '\\uf0b7': 1,\n",
       " 'é': 114,\n",
       " '\\xad': 155,\n",
       " '●': 127,\n",
       " '!': 123,\n",
       " '—': 14,\n",
       " '½': 6,\n",
       " '➢': 103,\n",
       " '}': 6,\n",
       " '@': 55,\n",
       " '³': 1,\n",
       " '\\\\': 50,\n",
       " '>': 61,\n",
       " '◦': 88,\n",
       " '®': 45,\n",
       " 'á': 24,\n",
       " 'í': 47,\n",
       " 'ú': 9,\n",
       " 'ó': 89,\n",
       " 'ö': 3,\n",
       " '=': 186,\n",
       " 'ñ': 15,\n",
       " '{': 3,\n",
       " 'â': 21,\n",
       " '€': 14,\n",
       " '¢': 1,\n",
       " '™': 10,\n",
       " 'Á': 1,\n",
       " '‚': 8,\n",
       " 'è': 13,\n",
       " '´': 6,\n",
       " '\\uf046': 3,\n",
       " '❖': 29,\n",
       " '<': 11,\n",
       " 'À': 1,\n",
       " '▪': 4,\n",
       " 'ﬁ': 1,\n",
       " 'Â': 2,\n",
       " 'Ç': 1,\n",
       " 'ü': 3,\n",
       " '’': 9,\n",
       " '❏': 9,\n",
       " '\\u2028': 9,\n",
       " '§': 23,\n",
       " 'ô': 5,\n",
       " '…': 29,\n",
       " 'Ò': 1,\n",
       " 'Ó': 5,\n",
       " 'É': 4,\n",
       " '»': 1,\n",
       " 'ï': 1,\n",
       " '©': 4,\n",
       " 'Æ': 2,\n",
       " '−': 24,\n",
       " '¦': 6,\n",
       " '◆': 18,\n",
       " 'Ñ': 2,\n",
       " '𝐖': 1,\n",
       " '\\x92': 2,\n",
       " 'ç': 1,\n",
       " '\\uf0a7': 21,\n",
       " 'µ': 2,\n",
       " 'ê': 1,\n",
       " '─': 1,\n",
       " '‐': 5}"
      ]
     },
     "metadata": {},
     "output_type": "display_data"
    }
   ],
   "source": [
    "def char_vocab(data_df):\n",
    "    chars = {}\n",
    "    for resume in tqdm(data_df.Resume_str):\n",
    "        for char in resume:\n",
    "            try:\n",
    "                chars[char] += 1\n",
    "            except:\n",
    "                chars[char] = 1\n",
    "    return chars\n",
    "\n",
    "chars= char_vocab(data_df)\n",
    "\n",
    "print(f\"Total Unique Characters: {len(chars)}\")\n",
    "display(chars)"
   ]
  },
  {
   "cell_type": "code",
   "execution_count": 25,
   "id": "9aa85495",
   "metadata": {
    "execution": {
     "iopub.execute_input": "2023-08-13T14:32:45.973817Z",
     "iopub.status.busy": "2023-08-13T14:32:45.972795Z",
     "iopub.status.idle": "2023-08-13T14:32:45.980066Z",
     "shell.execute_reply": "2023-08-13T14:32:45.979026Z"
    },
    "papermill": {
     "duration": 0.051455,
     "end_time": "2023-08-13T14:32:45.982077",
     "exception": false,
     "start_time": "2023-08-13T14:32:45.930622",
     "status": "completed"
    },
    "tags": []
   },
   "outputs": [
    {
     "data": {
      "text/plain": [
       "dict_keys([' ', 'H', 'R', 'A', 'D', 'M', 'I', 'N', 'S', 'T', 'O', '/', 'K', 'E', 'G', 'C', '\\n', 'u', 'm', 'a', 'r', 'y', 'e', 'd', 'i', 'c', 't', 's', 'o', 'v', 'n', 'g', 'w', 'h', '1', '5', '+', 'f', 'x', 'p', 'l', '.', 'b', '-', ';', ',', 'F', 'k', 'q', 'L', 'W', 'Q', 'P', '(', ')', '2', '0', '3', '－', '\\xa0', \"'\", 'z', '9', 'J', 'j', '7', '&', '4', 'B', '8', 'U', 'V', '%', '·', ':', 'Y', '\"', '6', '*', '\\t', 'Z', 'X', '–', '[', ']', '~', '?', '\\u200b', '_', '•', '“', '”', '‘', '�', '$', '|', '#', '\\uf0b7', 'é', '\\xad', '●', '!', '—', '½', '➢', '}', '@', '³', '\\\\', '>', '◦', '®', 'á', 'í', 'ú', 'ó', 'ö', '=', 'ñ', '{', 'â', '€', '¢', '™', 'Á', '‚', 'è', '´', '\\uf046', '❖', '<', 'À', '▪', 'ﬁ', 'Â', 'Ç', 'ü', '’', '❏', '\\u2028', '§', 'ô', '…', 'Ò', 'Ó', 'É', '»', 'ï', '©', 'Æ', '−', '¦', '◆', 'Ñ', '𝐖', '\\x92', 'ç', '\\uf0a7', 'µ', 'ê', '─', '‐'])"
      ]
     },
     "execution_count": 25,
     "metadata": {},
     "output_type": "execute_result"
    }
   ],
   "source": [
    "chars.keys()"
   ]
  },
  {
   "cell_type": "code",
   "execution_count": 26,
   "id": "35fa7565",
   "metadata": {
    "execution": {
     "iopub.execute_input": "2023-08-13T14:32:46.060579Z",
     "iopub.status.busy": "2023-08-13T14:32:46.060212Z",
     "iopub.status.idle": "2023-08-13T14:32:46.067624Z",
     "shell.execute_reply": "2023-08-13T14:32:46.066603Z"
    },
    "papermill": {
     "duration": 0.049221,
     "end_time": "2023-08-13T14:32:46.069617",
     "exception": false,
     "start_time": "2023-08-13T14:32:46.020396",
     "status": "completed"
    },
    "tags": []
   },
   "outputs": [
    {
     "data": {
      "text/plain": [
       "[(' ', 2897374),\n",
       " ('e', 1361129),\n",
       " ('n', 996602),\n",
       " ('a', 969129),\n",
       " ('t', 960319),\n",
       " ('i', 947913),\n",
       " ('o', 821521),\n",
       " ('r', 771183),\n",
       " ('s', 764539),\n",
       " ('l', 478546)]"
      ]
     },
     "metadata": {},
     "output_type": "display_data"
    }
   ],
   "source": [
    "sorted_chars= sorted(chars.items(), key= lambda kv: kv[1], reverse= True)\n",
    "display(sorted_chars[:10])"
   ]
  },
  {
   "cell_type": "code",
   "execution_count": 27,
   "id": "671186af",
   "metadata": {
    "execution": {
     "iopub.execute_input": "2023-08-13T14:32:46.149979Z",
     "iopub.status.busy": "2023-08-13T14:32:46.148989Z",
     "iopub.status.idle": "2023-08-13T14:32:46.156059Z",
     "shell.execute_reply": "2023-08-13T14:32:46.155047Z"
    },
    "papermill": {
     "duration": 0.049442,
     "end_time": "2023-08-13T14:32:46.158364",
     "exception": false,
     "start_time": "2023-08-13T14:32:46.108922",
     "status": "completed"
    },
    "tags": []
   },
   "outputs": [
    {
     "data": {
      "text/plain": [
       "dict_keys([' ', 'e', 'n', 'a', 't', 'i', 'o', 'r', 's', 'l', 'd', 'c', 'm', 'p', 'u', 'g', 'h', 'f', ',', 'y', 'v', '.', 'b', 'w', 'C', 'S', '0', 'A', 'k', 'P', 'M', 'E', 'I', '2', '1', 'R', 'T', 'D', 'N', 'x', '-', 'O', '/', 'L', 'B', 'H', 'F', 'q', '\\n', 'z', 'G', 'W', 'j', 'U', '9', '5', ':', '3', ')', '(', '4', '\\xa0', 'V', 'J', '6', '\\t', '8', \"'\", '－', '7', '&', ';', 'K', 'Q', 'Y', '%', '\"', '$', '*', 'X', '–', '+', '•', '_', ']', '[', '·', 'Z', '|', '\\u200b', '#', '=', '?', '\\xad', '●', '!', '“', '”', 'é', '➢', '~', 'ó', '◦', '>', '@', '\\\\', 'í', '®', '❖', '…', '�', 'á', '−', '§', 'â', '\\uf0a7', '‘', '◆', 'ñ', '—', '€', 'è', '<', '™', 'ú', '’', '❏', '\\u2028', '‚', '½', '}', '´', '¦', 'ô', 'Ó', '‐', '▪', 'É', '©', 'ö', '{', '\\uf046', 'ü', 'Â', 'Æ', 'Ñ', '\\x92', 'µ', '\\uf0b7', '³', '¢', 'Á', 'À', 'ﬁ', 'Ç', 'Ò', '»', 'ï', '𝐖', 'ç', 'ê', '─'])"
      ]
     },
     "execution_count": 27,
     "metadata": {},
     "output_type": "execute_result"
    }
   ],
   "source": [
    "dict(sorted_chars).keys()"
   ]
  },
  {
   "cell_type": "markdown",
   "id": "21c5390e",
   "metadata": {
    "papermill": {
     "duration": 0.037871,
     "end_time": "2023-08-13T14:32:46.234804",
     "exception": false,
     "start_time": "2023-08-13T14:32:46.196933",
     "status": "completed"
    },
    "tags": []
   },
   "source": [
    "Total `162` characters thats huge for english vocabulary. There are some `Non-english` chacters which we will not need for our task. There are also uper-case lower-case issue. So, we will convert all the letters to lower case."
   ]
  },
  {
   "cell_type": "code",
   "execution_count": 28,
   "id": "470d1bdc",
   "metadata": {
    "execution": {
     "iopub.execute_input": "2023-08-13T14:32:46.313558Z",
     "iopub.status.busy": "2023-08-13T14:32:46.312073Z",
     "iopub.status.idle": "2023-08-13T14:32:47.088224Z",
     "shell.execute_reply": "2023-08-13T14:32:47.086837Z"
    },
    "papermill": {
     "duration": 0.819131,
     "end_time": "2023-08-13T14:32:47.091852",
     "exception": false,
     "start_time": "2023-08-13T14:32:46.272721",
     "status": "completed"
    },
    "tags": []
   },
   "outputs": [
    {
     "data": {
      "text/html": [
       "<div>\n",
       "<style scoped>\n",
       "    .dataframe tbody tr th:only-of-type {\n",
       "        vertical-align: middle;\n",
       "    }\n",
       "\n",
       "    .dataframe tbody tr th {\n",
       "        vertical-align: top;\n",
       "    }\n",
       "\n",
       "    .dataframe thead th {\n",
       "        text-align: right;\n",
       "    }\n",
       "</style>\n",
       "<table border=\"1\" class=\"dataframe\">\n",
       "  <thead>\n",
       "    <tr style=\"text-align: right;\">\n",
       "      <th></th>\n",
       "      <th>ID</th>\n",
       "      <th>Resume_str</th>\n",
       "      <th>Category</th>\n",
       "      <th>resume_length</th>\n",
       "      <th>no_words</th>\n",
       "      <th>Modified_Resume_str</th>\n",
       "      <th>modified_resume_length</th>\n",
       "      <th>modified_no_words</th>\n",
       "    </tr>\n",
       "  </thead>\n",
       "  <tbody>\n",
       "    <tr>\n",
       "      <th>0</th>\n",
       "      <td>16852973</td>\n",
       "      <td>hr administrator/marketing associate hr admini...</td>\n",
       "      <td>HR</td>\n",
       "      <td>5442</td>\n",
       "      <td>674</td>\n",
       "      <td>HR ADMINISTRATOR/MARKETING ASSOCIATE HR ADMINI...</td>\n",
       "      <td>4577</td>\n",
       "      <td>617</td>\n",
       "    </tr>\n",
       "    <tr>\n",
       "      <th>1</th>\n",
       "      <td>22323967</td>\n",
       "      <td>hr specialist, us hr operations summary versat...</td>\n",
       "      <td>HR</td>\n",
       "      <td>5572</td>\n",
       "      <td>708</td>\n",
       "      <td>HR SPECIALIST , US HR OPERATIONS Summary Versa...</td>\n",
       "      <td>4678</td>\n",
       "      <td>621</td>\n",
       "    </tr>\n",
       "    <tr>\n",
       "      <th>2</th>\n",
       "      <td>33176873</td>\n",
       "      <td>hr director summary over 20 years experience i...</td>\n",
       "      <td>HR</td>\n",
       "      <td>7720</td>\n",
       "      <td>1017</td>\n",
       "      <td>HR DIRECTOR Summary Over 20 years experience r...</td>\n",
       "      <td>6368</td>\n",
       "      <td>846</td>\n",
       "    </tr>\n",
       "    <tr>\n",
       "      <th>3</th>\n",
       "      <td>27018550</td>\n",
       "      <td>hr specialist summary dedicated, driven, and d...</td>\n",
       "      <td>HR</td>\n",
       "      <td>2855</td>\n",
       "      <td>379</td>\n",
       "      <td>HR SPECIALIST Summary Dedicated , Driven , Dyn...</td>\n",
       "      <td>2287</td>\n",
       "      <td>304</td>\n",
       "    </tr>\n",
       "    <tr>\n",
       "      <th>4</th>\n",
       "      <td>17812897</td>\n",
       "      <td>hr manager skill highlights hr skills hr depar...</td>\n",
       "      <td>HR</td>\n",
       "      <td>9172</td>\n",
       "      <td>1206</td>\n",
       "      <td>HR MANAGER Skill Highlights HR SKILLS HR Depar...</td>\n",
       "      <td>7861</td>\n",
       "      <td>1076</td>\n",
       "    </tr>\n",
       "  </tbody>\n",
       "</table>\n",
       "</div>"
      ],
      "text/plain": [
       "         ID                                         Resume_str Category  \\\n",
       "0  16852973  hr administrator/marketing associate hr admini...       HR   \n",
       "1  22323967  hr specialist, us hr operations summary versat...       HR   \n",
       "2  33176873  hr director summary over 20 years experience i...       HR   \n",
       "3  27018550  hr specialist summary dedicated, driven, and d...       HR   \n",
       "4  17812897  hr manager skill highlights hr skills hr depar...       HR   \n",
       "\n",
       "   resume_length  no_words                                Modified_Resume_str  \\\n",
       "0           5442       674  HR ADMINISTRATOR/MARKETING ASSOCIATE HR ADMINI...   \n",
       "1           5572       708  HR SPECIALIST , US HR OPERATIONS Summary Versa...   \n",
       "2           7720      1017  HR DIRECTOR Summary Over 20 years experience r...   \n",
       "3           2855       379  HR SPECIALIST Summary Dedicated , Driven , Dyn...   \n",
       "4           9172      1206  HR MANAGER Skill Highlights HR SKILLS HR Depar...   \n",
       "\n",
       "   modified_resume_length  modified_no_words  \n",
       "0                    4577                617  \n",
       "1                    4678                621  \n",
       "2                    6368                846  \n",
       "3                    2287                304  \n",
       "4                    7861               1076  "
      ]
     },
     "execution_count": 28,
     "metadata": {},
     "output_type": "execute_result"
    }
   ],
   "source": [
    "def remove_unwanted_chars(txt):\n",
    "    \"\"\"This function will make all the input text in lower case to reduce the char vocab size and delete all the unwanted characters and punctuations.\n",
    "    \"\"\"\n",
    "    txt= txt.lower()\n",
    "    pattern = r\"[^a-z\\s\\d()-.:;?\\/^_{|}]\" # Discarding all the un-necessary letters keeping english letters and necessary punctuations\n",
    "    txt= re.sub(pattern, ' ', txt)\n",
    "    txt= ' '.join(txt.split())\n",
    "    return txt\n",
    "\n",
    "data_df['Resume_str']= data_df['Resume_str'].apply(lambda x: remove_unwanted_chars(x))\n",
    "data_df.head()"
   ]
  },
  {
   "cell_type": "code",
   "execution_count": 29,
   "id": "d8bbb73d",
   "metadata": {
    "execution": {
     "iopub.execute_input": "2023-08-13T14:32:47.179825Z",
     "iopub.status.busy": "2023-08-13T14:32:47.178948Z",
     "iopub.status.idle": "2023-08-13T14:32:49.084997Z",
     "shell.execute_reply": "2023-08-13T14:32:49.083948Z"
    },
    "papermill": {
     "duration": 1.950672,
     "end_time": "2023-08-13T14:32:49.087276",
     "exception": false,
     "start_time": "2023-08-13T14:32:47.136604",
     "status": "completed"
    },
    "tags": []
   },
   "outputs": [
    {
     "name": "stderr",
     "output_type": "stream",
     "text": [
      "100%|██████████| 2484/2484 [00:01<00:00, 1313.59it/s]"
     ]
    },
    {
     "name": "stdout",
     "output_type": "stream",
     "text": [
      "Total Unique Characters after lower-casing and removing non-english characters: 52\n"
     ]
    },
    {
     "name": "stderr",
     "output_type": "stream",
     "text": [
      "\n"
     ]
    },
    {
     "data": {
      "text/plain": [
       "{'h': 241887,\n",
       " 'r': 807418,\n",
       " ' ': 2005234,\n",
       " 'a': 1038886,\n",
       " 'd': 510672,\n",
       " 'm': 374844,\n",
       " 'i': 988844,\n",
       " 'n': 1029408,\n",
       " 's': 856555,\n",
       " 't': 995879,\n",
       " 'o': 848130,\n",
       " '/': 25090,\n",
       " 'k': 71970,\n",
       " 'e': 1407052,\n",
       " 'g': 281882,\n",
       " 'c': 568362,\n",
       " 'u': 320962,\n",
       " 'y': 172983,\n",
       " 'v': 148968,\n",
       " 'w': 111026,\n",
       " '1': 38322,\n",
       " '5': 11040,\n",
       " '+': 1400,\n",
       " 'f': 225432,\n",
       " 'x': 34571,\n",
       " 'p': 367407,\n",
       " 'l': 499684,\n",
       " '.': 98373,\n",
       " 'b': 119082,\n",
       " '-': 31156,\n",
       " ';': 4771,\n",
       " ',': 187440,\n",
       " 'q': 21061,\n",
       " '(': 9270,\n",
       " ')': 9414,\n",
       " '2': 40491,\n",
       " '0': 70307,\n",
       " '3': 9959,\n",
       " 'z': 14747,\n",
       " '9': 12925,\n",
       " 'j': 21276,\n",
       " '7': 6531,\n",
       " '4': 8974,\n",
       " '8': 7160,\n",
       " ':': 10933,\n",
       " '6': 7417,\n",
       " '*': 1974,\n",
       " '?': 157,\n",
       " '_': 866,\n",
       " '|': 411,\n",
       " '}': 6,\n",
       " '{': 3}"
      ]
     },
     "metadata": {},
     "output_type": "display_data"
    }
   ],
   "source": [
    "chars= char_vocab(data_df)\n",
    "\n",
    "print(f\"Total Unique Characters after lower-casing and removing non-english characters: {len(chars)}\")\n",
    "display(chars)"
   ]
  },
  {
   "cell_type": "code",
   "execution_count": 30,
   "id": "b93315f0",
   "metadata": {
    "execution": {
     "iopub.execute_input": "2023-08-13T14:32:49.172913Z",
     "iopub.status.busy": "2023-08-13T14:32:49.171860Z",
     "iopub.status.idle": "2023-08-13T14:32:49.180383Z",
     "shell.execute_reply": "2023-08-13T14:32:49.179322Z"
    },
    "papermill": {
     "duration": 0.053747,
     "end_time": "2023-08-13T14:32:49.182610",
     "exception": false,
     "start_time": "2023-08-13T14:32:49.128863",
     "status": "completed"
    },
    "tags": []
   },
   "outputs": [
    {
     "data": {
      "text/plain": [
       "[(' ', 2005234),\n",
       " ('e', 1407052),\n",
       " ('a', 1038886),\n",
       " ('n', 1029408),\n",
       " ('t', 995879),\n",
       " ('i', 988844),\n",
       " ('s', 856555),\n",
       " ('o', 848130),\n",
       " ('r', 807418),\n",
       " ('c', 568362)]"
      ]
     },
     "metadata": {},
     "output_type": "display_data"
    }
   ],
   "source": [
    "sorted_chars= sorted(chars.items(), key= lambda kv: kv[1], reverse= True)\n",
    "display(sorted_chars[:10])"
   ]
  },
  {
   "cell_type": "markdown",
   "id": "a776e3ac",
   "metadata": {
    "papermill": {
     "duration": 0.04159,
     "end_time": "2023-08-13T14:32:49.265221",
     "exception": false,
     "start_time": "2023-08-13T14:32:49.223631",
     "status": "completed"
    },
    "tags": []
   },
   "source": [
    "> No of unique character reduced to `52` from `162` which is reasonable as we didn't discarded some important punctuations. <br>\n",
    "\n",
    "Lets see the character occurance distribution in bar diagram for better visualization."
   ]
  },
  {
   "cell_type": "code",
   "execution_count": 31,
   "id": "5fc2bba6",
   "metadata": {
    "execution": {
     "iopub.execute_input": "2023-08-13T14:32:49.351703Z",
     "iopub.status.busy": "2023-08-13T14:32:49.350676Z",
     "iopub.status.idle": "2023-08-13T14:32:50.147344Z",
     "shell.execute_reply": "2023-08-13T14:32:50.146262Z"
    },
    "papermill": {
     "duration": 0.842809,
     "end_time": "2023-08-13T14:32:50.149726",
     "exception": false,
     "start_time": "2023-08-13T14:32:49.306917",
     "status": "completed"
    },
    "tags": []
   },
   "outputs": [
    {
     "data": {
      "image/png": "[encoded data removed]",
      "text/plain": [
       "<Figure size 1200x600 with 1 Axes>"
      ]
     },
     "metadata": {},
     "output_type": "display_data"
    }
   ],
   "source": [
    "sorted_chars= dict(sorted_chars)\n",
    "plt.figure(figsize= (12, 6))\n",
    "plt.bar(x= sorted_chars.keys(), height= sorted_chars.values())\n",
    "plt.title(\"Character Occurance\")\n",
    "plt.xlabel(\"Characters\")\n",
    "plt.ylabel(\"Frequency of Occurance\")\n",
    "plt.xticks(rotation= 'vertical')\n",
    "plt.grid(axis= 'y')\n",
    "plt.show()"
   ]
  },
  {
   "cell_type": "markdown",
   "id": "af8a17d6",
   "metadata": {
    "papermill": {
     "duration": 0.041844,
     "end_time": "2023-08-13T14:32:50.234142",
     "exception": false,
     "start_time": "2023-08-13T14:32:50.192298",
     "status": "completed"
    },
    "tags": []
   },
   "source": [
    "### Modeling"
   ]
  },
  {
   "cell_type": "markdown",
   "id": "aeef8aca",
   "metadata": {
    "papermill": {
     "duration": 0.044599,
     "end_time": "2023-08-13T14:32:50.320231",
     "exception": false,
     "start_time": "2023-08-13T14:32:50.275632",
     "status": "completed"
    },
    "tags": []
   },
   "source": [
    "**Random classifier**\n",
    "\n",
    "Lets say we assign a random class (same) to all the resumes. Then the heightest accuracy that it can get is `4.83%` which was expected as we have 24 classes in our lebel class."
   ]
  },
  {
   "cell_type": "code",
   "execution_count": 32,
   "id": "c54b5b8a",
   "metadata": {
    "execution": {
     "iopub.execute_input": "2023-08-13T14:32:50.405356Z",
     "iopub.status.busy": "2023-08-13T14:32:50.404933Z",
     "iopub.status.idle": "2023-08-13T14:32:50.413356Z",
     "shell.execute_reply": "2023-08-13T14:32:50.411229Z"
    },
    "papermill": {
     "duration": 0.053788,
     "end_time": "2023-08-13T14:32:50.415969",
     "exception": false,
     "start_time": "2023-08-13T14:32:50.362181",
     "status": "completed"
    },
    "tags": []
   },
   "outputs": [
    {
     "name": "stdout",
     "output_type": "stream",
     "text": [
      "Accuracy (heighest) of random classifier: 4.83%\n"
     ]
    }
   ],
   "source": [
    "print(f\"Accuracy (heighest) of random classifier: {max(data_df['Category'].value_counts().values)/len(data_df)* 100  :.2f}%\")"
   ]
  },
  {
   "cell_type": "markdown",
   "id": "2857613e",
   "metadata": {
    "papermill": {
     "duration": 0.0443,
     "end_time": "2023-08-13T14:32:50.504145",
     "exception": false,
     "start_time": "2023-08-13T14:32:50.459845",
     "status": "completed"
    },
    "tags": []
   },
   "source": [
    "**A naive approach** <br>\n",
    "If someone apply for a certain post, his/her resume will contain more of this position related word. So we will count the occurance of each category words and classify the resume according to the frequency of category occurance."
   ]
  },
  {
   "cell_type": "code",
   "execution_count": 33,
   "id": "4bdf5c6f",
   "metadata": {
    "execution": {
     "iopub.execute_input": "2023-08-13T14:32:50.594202Z",
     "iopub.status.busy": "2023-08-13T14:32:50.593214Z",
     "iopub.status.idle": "2023-08-13T14:32:50.601082Z",
     "shell.execute_reply": "2023-08-13T14:32:50.599998Z"
    },
    "papermill": {
     "duration": 0.055168,
     "end_time": "2023-08-13T14:32:50.603959",
     "exception": false,
     "start_time": "2023-08-13T14:32:50.548791",
     "status": "completed"
    },
    "tags": []
   },
   "outputs": [
    {
     "data": {
      "text/plain": [
       "['ACCOUNTANT',\n",
       " 'ADVOCATE',\n",
       " 'AGRICULTURE',\n",
       " 'APPAREL',\n",
       " 'ARTS',\n",
       " 'AUTOMOBILE',\n",
       " 'AVIATION',\n",
       " 'BANKING',\n",
       " 'BPO',\n",
       " 'BUSINESS-DEVELOPMENT',\n",
       " 'CHEF',\n",
       " 'CONSTRUCTION',\n",
       " 'CONSULTANT',\n",
       " 'DESIGNER',\n",
       " 'DIGITAL-MEDIA',\n",
       " 'ENGINEERING',\n",
       " 'FINANCE',\n",
       " 'FITNESS',\n",
       " 'HEALTHCARE',\n",
       " 'HR',\n",
       " 'INFORMATION-TECHNOLOGY',\n",
       " 'PUBLIC-RELATIONS',\n",
       " 'SALES',\n",
       " 'TEACHER']"
      ]
     },
     "execution_count": 33,
     "metadata": {},
     "output_type": "execute_result"
    }
   ],
   "source": [
    "categories"
   ]
  },
  {
   "cell_type": "code",
   "execution_count": 34,
   "id": "e04fe821",
   "metadata": {
    "execution": {
     "iopub.execute_input": "2023-08-13T14:32:50.693987Z",
     "iopub.status.busy": "2023-08-13T14:32:50.693626Z",
     "iopub.status.idle": "2023-08-13T14:32:50.700814Z",
     "shell.execute_reply": "2023-08-13T14:32:50.699836Z"
    },
    "papermill": {
     "duration": 0.054593,
     "end_time": "2023-08-13T14:32:50.703185",
     "exception": false,
     "start_time": "2023-08-13T14:32:50.648592",
     "status": "completed"
    },
    "tags": []
   },
   "outputs": [
    {
     "data": {
      "text/plain": [
       "['accountant',\n",
       " 'advocate',\n",
       " 'agriculture',\n",
       " 'apparel',\n",
       " 'arts',\n",
       " 'automobile',\n",
       " 'aviation',\n",
       " 'banking',\n",
       " 'bpo',\n",
       " 'business-development',\n",
       " 'chef',\n",
       " 'construction',\n",
       " 'consultant',\n",
       " 'designer',\n",
       " 'digital-media',\n",
       " 'engineering',\n",
       " 'finance',\n",
       " 'fitness',\n",
       " 'healthcare',\n",
       " 'hr',\n",
       " 'information-technology',\n",
       " 'public-relations',\n",
       " 'sales',\n",
       " 'teacher']"
      ]
     },
     "execution_count": 34,
     "metadata": {},
     "output_type": "execute_result"
    }
   ],
   "source": [
    "lower_cat= sorted([cat.lower() for cat in categories])\n",
    "lower_cat"
   ]
  },
  {
   "cell_type": "code",
   "execution_count": 35,
   "id": "a73af232",
   "metadata": {
    "execution": {
     "iopub.execute_input": "2023-08-13T14:32:50.797712Z",
     "iopub.status.busy": "2023-08-13T14:32:50.796684Z",
     "iopub.status.idle": "2023-08-13T14:32:50.804795Z",
     "shell.execute_reply": "2023-08-13T14:32:50.803768Z"
    },
    "papermill": {
     "duration": 0.059143,
     "end_time": "2023-08-13T14:32:50.807165",
     "exception": false,
     "start_time": "2023-08-13T14:32:50.748022",
     "status": "completed"
    },
    "tags": []
   },
   "outputs": [],
   "source": [
    "def naive_approach(txt):\n",
    "    \"\"\"In this approach we will count the occurance of each category words and classify according highest occuring category.\n",
    "    \"\"\"\n",
    "    temp_dict= {}\n",
    "    for word in txt.split():\n",
    "        if word in lower_cat:\n",
    "            try:\n",
    "                temp_dict[word] += 1\n",
    "            except:\n",
    "                temp_dict[word] = 1\n",
    "\n",
    "    temp_dict= sorted(temp_dict.items(), key= lambda kv: kv[1], reverse= True)\n",
    "    \n",
    "    if len(temp_dict):\n",
    "        label= (temp_dict[0][0])\n",
    "        label= label.upper()\n",
    "    else:\n",
    "        label= None\n",
    "    return label"
   ]
  },
  {
   "cell_type": "code",
   "execution_count": 36,
   "id": "55b3b85a",
   "metadata": {
    "execution": {
     "iopub.execute_input": "2023-08-13T14:32:50.896140Z",
     "iopub.status.busy": "2023-08-13T14:32:50.895104Z",
     "iopub.status.idle": "2023-08-13T14:32:50.906370Z",
     "shell.execute_reply": "2023-08-13T14:32:50.905457Z"
    },
    "papermill": {
     "duration": 0.057976,
     "end_time": "2023-08-13T14:32:50.908647",
     "exception": false,
     "start_time": "2023-08-13T14:32:50.850671",
     "status": "completed"
    },
    "tags": []
   },
   "outputs": [
    {
     "data": {
      "text/plain": [
       "ID                                                                 20748926\n",
       "Resume_str                jewelry designer and owner summary skillful an...\n",
       "Category                                                           DESIGNER\n",
       "resume_length                                                          6312\n",
       "no_words                                                                782\n",
       "Modified_Resume_str       JEWELRY DESIGNER AND OWNER Summary Skillful de...\n",
       "modified_resume_length                                                 5312\n",
       "modified_no_words                                                       683\n",
       "Name: 180, dtype: object"
      ]
     },
     "metadata": {},
     "output_type": "display_data"
    },
    {
     "data": {
      "text/plain": [
       "'DESIGNER'"
      ]
     },
     "execution_count": 36,
     "metadata": {},
     "output_type": "execute_result"
    }
   ],
   "source": [
    "idx= 180\n",
    "display(data_df.iloc[idx])\n",
    "naive_approach(data_df['Resume_str'][idx])"
   ]
  },
  {
   "cell_type": "code",
   "execution_count": 37,
   "id": "17bdb3f7",
   "metadata": {
    "execution": {
     "iopub.execute_input": "2023-08-13T14:32:50.995194Z",
     "iopub.status.busy": "2023-08-13T14:32:50.994816Z",
     "iopub.status.idle": "2023-08-13T14:32:51.888312Z",
     "shell.execute_reply": "2023-08-13T14:32:51.887280Z"
    },
    "papermill": {
     "duration": 0.939446,
     "end_time": "2023-08-13T14:32:51.890347",
     "exception": false,
     "start_time": "2023-08-13T14:32:50.950901",
     "status": "completed"
    },
    "tags": []
   },
   "outputs": [
    {
     "data": {
      "text/html": [
       "<div>\n",
       "<style scoped>\n",
       "    .dataframe tbody tr th:only-of-type {\n",
       "        vertical-align: middle;\n",
       "    }\n",
       "\n",
       "    .dataframe tbody tr th {\n",
       "        vertical-align: top;\n",
       "    }\n",
       "\n",
       "    .dataframe thead th {\n",
       "        text-align: right;\n",
       "    }\n",
       "</style>\n",
       "<table border=\"1\" class=\"dataframe\">\n",
       "  <thead>\n",
       "    <tr style=\"text-align: right;\">\n",
       "      <th></th>\n",
       "      <th>ID</th>\n",
       "      <th>Resume_str</th>\n",
       "      <th>Category</th>\n",
       "      <th>resume_length</th>\n",
       "      <th>no_words</th>\n",
       "      <th>Modified_Resume_str</th>\n",
       "      <th>modified_resume_length</th>\n",
       "      <th>modified_no_words</th>\n",
       "      <th>naive_predict</th>\n",
       "    </tr>\n",
       "  </thead>\n",
       "  <tbody>\n",
       "    <tr>\n",
       "      <th>0</th>\n",
       "      <td>16852973</td>\n",
       "      <td>hr administrator/marketing associate hr admini...</td>\n",
       "      <td>HR</td>\n",
       "      <td>5442</td>\n",
       "      <td>674</td>\n",
       "      <td>HR ADMINISTRATOR/MARKETING ASSOCIATE HR ADMINI...</td>\n",
       "      <td>4577</td>\n",
       "      <td>617</td>\n",
       "      <td>HR</td>\n",
       "    </tr>\n",
       "    <tr>\n",
       "      <th>1</th>\n",
       "      <td>22323967</td>\n",
       "      <td>hr specialist, us hr operations summary versat...</td>\n",
       "      <td>HR</td>\n",
       "      <td>5572</td>\n",
       "      <td>708</td>\n",
       "      <td>HR SPECIALIST , US HR OPERATIONS Summary Versa...</td>\n",
       "      <td>4678</td>\n",
       "      <td>621</td>\n",
       "      <td>HR</td>\n",
       "    </tr>\n",
       "    <tr>\n",
       "      <th>2</th>\n",
       "      <td>33176873</td>\n",
       "      <td>hr director summary over 20 years experience i...</td>\n",
       "      <td>HR</td>\n",
       "      <td>7720</td>\n",
       "      <td>1017</td>\n",
       "      <td>HR DIRECTOR Summary Over 20 years experience r...</td>\n",
       "      <td>6368</td>\n",
       "      <td>846</td>\n",
       "      <td>HR</td>\n",
       "    </tr>\n",
       "    <tr>\n",
       "      <th>3</th>\n",
       "      <td>27018550</td>\n",
       "      <td>hr specialist summary dedicated, driven, and d...</td>\n",
       "      <td>HR</td>\n",
       "      <td>2855</td>\n",
       "      <td>379</td>\n",
       "      <td>HR SPECIALIST Summary Dedicated , Driven , Dyn...</td>\n",
       "      <td>2287</td>\n",
       "      <td>304</td>\n",
       "      <td>HR</td>\n",
       "    </tr>\n",
       "    <tr>\n",
       "      <th>4</th>\n",
       "      <td>17812897</td>\n",
       "      <td>hr manager skill highlights hr skills hr depar...</td>\n",
       "      <td>HR</td>\n",
       "      <td>9172</td>\n",
       "      <td>1206</td>\n",
       "      <td>HR MANAGER Skill Highlights HR SKILLS HR Depar...</td>\n",
       "      <td>7861</td>\n",
       "      <td>1076</td>\n",
       "      <td>HR</td>\n",
       "    </tr>\n",
       "  </tbody>\n",
       "</table>\n",
       "</div>"
      ],
      "text/plain": [
       "         ID                                         Resume_str Category  \\\n",
       "0  16852973  hr administrator/marketing associate hr admini...       HR   \n",
       "1  22323967  hr specialist, us hr operations summary versat...       HR   \n",
       "2  33176873  hr director summary over 20 years experience i...       HR   \n",
       "3  27018550  hr specialist summary dedicated, driven, and d...       HR   \n",
       "4  17812897  hr manager skill highlights hr skills hr depar...       HR   \n",
       "\n",
       "   resume_length  no_words                                Modified_Resume_str  \\\n",
       "0           5442       674  HR ADMINISTRATOR/MARKETING ASSOCIATE HR ADMINI...   \n",
       "1           5572       708  HR SPECIALIST , US HR OPERATIONS Summary Versa...   \n",
       "2           7720      1017  HR DIRECTOR Summary Over 20 years experience r...   \n",
       "3           2855       379  HR SPECIALIST Summary Dedicated , Driven , Dyn...   \n",
       "4           9172      1206  HR MANAGER Skill Highlights HR SKILLS HR Depar...   \n",
       "\n",
       "   modified_resume_length  modified_no_words naive_predict  \n",
       "0                    4577                617            HR  \n",
       "1                    4678                621            HR  \n",
       "2                    6368                846            HR  \n",
       "3                    2287                304            HR  \n",
       "4                    7861               1076            HR  "
      ]
     },
     "execution_count": 37,
     "metadata": {},
     "output_type": "execute_result"
    }
   ],
   "source": [
    "data_df['naive_predict']= data_df.apply(lambda x: naive_approach(x[\"Resume_str\"]), axis = 1)\n",
    "data_df.head()"
   ]
  },
  {
   "cell_type": "code",
   "execution_count": 38,
   "id": "10712c70",
   "metadata": {
    "execution": {
     "iopub.execute_input": "2023-08-13T14:32:51.976653Z",
     "iopub.status.busy": "2023-08-13T14:32:51.976216Z",
     "iopub.status.idle": "2023-08-13T14:32:51.983498Z",
     "shell.execute_reply": "2023-08-13T14:32:51.982578Z"
    },
    "papermill": {
     "duration": 0.053762,
     "end_time": "2023-08-13T14:32:51.985968",
     "exception": false,
     "start_time": "2023-08-13T14:32:51.932206",
     "status": "completed"
    },
    "tags": []
   },
   "outputs": [
    {
     "name": "stdout",
     "output_type": "stream",
     "text": [
      "Accuracy of that naive approach: 55.31400966183575\n"
     ]
    }
   ],
   "source": [
    "predictions= [1 if label == pred else 0 for label, pred in zip(data_df['Category'], data_df['naive_predict'])]\n",
    "print(f\"Accuracy of that naive approach: {sum(predictions)/len(data_df) * 100}\")"
   ]
  },
  {
   "cell_type": "markdown",
   "id": "4dd45d5c",
   "metadata": {
    "papermill": {
     "duration": 0.041112,
     "end_time": "2023-08-13T14:32:52.069385",
     "exception": false,
     "start_time": "2023-08-13T14:32:52.028273",
     "status": "completed"
    },
    "tags": []
   },
   "source": [
    "> This approach result is much better (Accuracy `53.09%` without stopwords and `55.31%` with stopwords) than a random classifier."
   ]
  },
  {
   "cell_type": "code",
   "execution_count": 39,
   "id": "504e63ac",
   "metadata": {
    "execution": {
     "iopub.execute_input": "2023-08-13T14:32:52.156749Z",
     "iopub.status.busy": "2023-08-13T14:32:52.155685Z",
     "iopub.status.idle": "2023-08-13T14:32:52.164205Z",
     "shell.execute_reply": "2023-08-13T14:32:52.162419Z"
    },
    "papermill": {
     "duration": 0.055723,
     "end_time": "2023-08-13T14:32:52.166517",
     "exception": false,
     "start_time": "2023-08-13T14:32:52.110794",
     "status": "completed"
    },
    "tags": []
   },
   "outputs": [
    {
     "data": {
      "text/plain": [
       "24"
      ]
     },
     "execution_count": 39,
     "metadata": {},
     "output_type": "execute_result"
    }
   ],
   "source": [
    "len(categories)"
   ]
  },
  {
   "cell_type": "code",
   "execution_count": 40,
   "id": "2a052eb1",
   "metadata": {
    "execution": {
     "iopub.execute_input": "2023-08-13T14:32:52.255749Z",
     "iopub.status.busy": "2023-08-13T14:32:52.254653Z",
     "iopub.status.idle": "2023-08-13T14:32:54.294046Z",
     "shell.execute_reply": "2023-08-13T14:32:54.292985Z"
    },
    "papermill": {
     "duration": 2.08499,
     "end_time": "2023-08-13T14:32:54.296343",
     "exception": false,
     "start_time": "2023-08-13T14:32:52.211353",
     "status": "completed"
    },
    "tags": []
   },
   "outputs": [
    {
     "data": {
      "image/png": "[encoded data removed]",
      "text/plain": [
       "<Figure size 1000x800 with 1 Axes>"
      ]
     },
     "metadata": {},
     "output_type": "display_data"
    }
   ],
   "source": [
    "import seaborn as sns\n",
    "from sklearn.metrics import confusion_matrix\n",
    "\n",
    "true_labels= [categories.index(label) for label in data_df['Category']]\n",
    "predicted_labels= [categories.index(label) if label!=None else 24 for label in data_df['naive_predict'] ]\n",
    "cm = confusion_matrix(true_labels, predicted_labels)\n",
    "\n",
    "plt.figure(figsize=(10, 8))\n",
    "sns.heatmap(cm, annot=True, fmt=\"d\", cmap=\"Blues\", cbar=False)\n",
    "plt.xlabel(\"Predicted Labels\")\n",
    "plt.ylabel(\"True Labels\")\n",
    "plt.title(\"Confusion Matrix\")\n",
    "plt.show()"
   ]
  },
  {
   "cell_type": "markdown",
   "id": "ddd2a1c3",
   "metadata": {
    "papermill": {
     "duration": 0.042888,
     "end_time": "2023-08-13T14:32:54.384188",
     "exception": false,
     "start_time": "2023-08-13T14:32:54.341300",
     "status": "completed"
    },
    "tags": []
   },
   "source": [
    "simple error analysis for this naive process."
   ]
  },
  {
   "cell_type": "code",
   "execution_count": 41,
   "id": "91efe505",
   "metadata": {
    "execution": {
     "iopub.execute_input": "2023-08-13T14:32:54.473682Z",
     "iopub.status.busy": "2023-08-13T14:32:54.473303Z",
     "iopub.status.idle": "2023-08-13T14:32:54.479547Z",
     "shell.execute_reply": "2023-08-13T14:32:54.478322Z"
    },
    "papermill": {
     "duration": 0.05473,
     "end_time": "2023-08-13T14:32:54.481784",
     "exception": false,
     "start_time": "2023-08-13T14:32:54.427054",
     "status": "completed"
    },
    "tags": []
   },
   "outputs": [
    {
     "name": "stdout",
     "output_type": "stream",
     "text": [
      "5 AUTOMOBILE\n",
      "8 BPO\n",
      "9 BUSINESS-DEVELOPMENT\n",
      "14 DIGITAL-MEDIA\n",
      "20 INFORMATION-TECHNOLOGY\n",
      "21 PUBLIC-RELATIONS\n"
     ]
    }
   ],
   "source": [
    "error_idx= [5, 8, 9, 14, 20, 21]\n",
    "for i in error_idx:\n",
    "    print(i, categories[i])"
   ]
  },
  {
   "cell_type": "code",
   "execution_count": 42,
   "id": "fcf8412e",
   "metadata": {
    "execution": {
     "iopub.execute_input": "2023-08-13T14:32:54.571859Z",
     "iopub.status.busy": "2023-08-13T14:32:54.570918Z",
     "iopub.status.idle": "2023-08-13T14:32:54.582246Z",
     "shell.execute_reply": "2023-08-13T14:32:54.581158Z"
    },
    "papermill": {
     "duration": 0.057673,
     "end_time": "2023-08-13T14:32:54.584226",
     "exception": false,
     "start_time": "2023-08-13T14:32:54.526553",
     "status": "completed"
    },
    "tags": []
   },
   "outputs": [
    {
     "data": {
      "text/plain": [
       "{'ACCOUNTANT': 0,\n",
       " 'ADVOCATE': 1,\n",
       " 'AGRICULTURE': 2,\n",
       " 'APPAREL': 3,\n",
       " 'ARTS': 4,\n",
       " 'AUTOMOBILE': 5,\n",
       " 'AVIATION': 6,\n",
       " 'BANKING': 7,\n",
       " 'BPO': 8,\n",
       " 'BUSINESS-DEVELOPMENT': 9,\n",
       " 'CHEF': 10,\n",
       " 'CONSTRUCTION': 11,\n",
       " 'CONSULTANT': 12,\n",
       " 'DESIGNER': 13,\n",
       " 'DIGITAL-MEDIA': 14,\n",
       " 'ENGINEERING': 15,\n",
       " 'FINANCE': 16,\n",
       " 'FITNESS': 17,\n",
       " 'HEALTHCARE': 18,\n",
       " 'HR': 19,\n",
       " 'INFORMATION-TECHNOLOGY': 20,\n",
       " 'PUBLIC-RELATIONS': 21,\n",
       " 'SALES': 22,\n",
       " 'TEACHER': 23}"
      ]
     },
     "metadata": {},
     "output_type": "display_data"
    },
    {
     "data": {
      "text/plain": [
       "{'0': 'ACCOUNTANT',\n",
       " '1': 'ADVOCATE',\n",
       " '2': 'AGRICULTURE',\n",
       " '3': 'APPAREL',\n",
       " '4': 'ARTS',\n",
       " '5': 'AUTOMOBILE',\n",
       " '6': 'AVIATION',\n",
       " '7': 'BANKING',\n",
       " '8': 'BPO',\n",
       " '9': 'BUSINESS-DEVELOPMENT',\n",
       " '10': 'CHEF',\n",
       " '11': 'CONSTRUCTION',\n",
       " '12': 'CONSULTANT',\n",
       " '13': 'DESIGNER',\n",
       " '14': 'DIGITAL-MEDIA',\n",
       " '15': 'ENGINEERING',\n",
       " '16': 'FINANCE',\n",
       " '17': 'FITNESS',\n",
       " '18': 'HEALTHCARE',\n",
       " '19': 'HR',\n",
       " '20': 'INFORMATION-TECHNOLOGY',\n",
       " '21': 'PUBLIC-RELATIONS',\n",
       " '22': 'SALES',\n",
       " '23': 'TEACHER'}"
      ]
     },
     "metadata": {},
     "output_type": "display_data"
    }
   ],
   "source": [
    "label2id= {}\n",
    "id2label= {}\n",
    "for i, cat in enumerate(categories):\n",
    "    label2id[cat] = i\n",
    "    id2label[str(i)]= cat\n",
    "\n",
    "display(label2id)\n",
    "display(id2label)"
   ]
  },
  {
   "cell_type": "code",
   "execution_count": 43,
   "id": "bfd709be",
   "metadata": {
    "execution": {
     "iopub.execute_input": "2023-08-13T14:32:54.675847Z",
     "iopub.status.busy": "2023-08-13T14:32:54.675519Z",
     "iopub.status.idle": "2023-08-13T14:32:54.697387Z",
     "shell.execute_reply": "2023-08-13T14:32:54.696313Z"
    },
    "papermill": {
     "duration": 0.071669,
     "end_time": "2023-08-13T14:32:54.699723",
     "exception": false,
     "start_time": "2023-08-13T14:32:54.628054",
     "status": "completed"
    },
    "tags": []
   },
   "outputs": [
    {
     "data": {
      "text/html": [
       "<div>\n",
       "<style scoped>\n",
       "    .dataframe tbody tr th:only-of-type {\n",
       "        vertical-align: middle;\n",
       "    }\n",
       "\n",
       "    .dataframe tbody tr th {\n",
       "        vertical-align: top;\n",
       "    }\n",
       "\n",
       "    .dataframe thead th {\n",
       "        text-align: right;\n",
       "    }\n",
       "</style>\n",
       "<table border=\"1\" class=\"dataframe\">\n",
       "  <thead>\n",
       "    <tr style=\"text-align: right;\">\n",
       "      <th></th>\n",
       "      <th>ID</th>\n",
       "      <th>Resume_str</th>\n",
       "      <th>Category</th>\n",
       "      <th>resume_length</th>\n",
       "      <th>no_words</th>\n",
       "      <th>Modified_Resume_str</th>\n",
       "      <th>modified_resume_length</th>\n",
       "      <th>modified_no_words</th>\n",
       "      <th>naive_predict</th>\n",
       "      <th>labels</th>\n",
       "    </tr>\n",
       "  </thead>\n",
       "  <tbody>\n",
       "    <tr>\n",
       "      <th>0</th>\n",
       "      <td>16852973</td>\n",
       "      <td>hr administrator/marketing associate hr admini...</td>\n",
       "      <td>HR</td>\n",
       "      <td>5442</td>\n",
       "      <td>674</td>\n",
       "      <td>HR ADMINISTRATOR/MARKETING ASSOCIATE HR ADMINI...</td>\n",
       "      <td>4577</td>\n",
       "      <td>617</td>\n",
       "      <td>HR</td>\n",
       "      <td>19</td>\n",
       "    </tr>\n",
       "    <tr>\n",
       "      <th>1</th>\n",
       "      <td>22323967</td>\n",
       "      <td>hr specialist, us hr operations summary versat...</td>\n",
       "      <td>HR</td>\n",
       "      <td>5572</td>\n",
       "      <td>708</td>\n",
       "      <td>HR SPECIALIST , US HR OPERATIONS Summary Versa...</td>\n",
       "      <td>4678</td>\n",
       "      <td>621</td>\n",
       "      <td>HR</td>\n",
       "      <td>19</td>\n",
       "    </tr>\n",
       "    <tr>\n",
       "      <th>2</th>\n",
       "      <td>33176873</td>\n",
       "      <td>hr director summary over 20 years experience i...</td>\n",
       "      <td>HR</td>\n",
       "      <td>7720</td>\n",
       "      <td>1017</td>\n",
       "      <td>HR DIRECTOR Summary Over 20 years experience r...</td>\n",
       "      <td>6368</td>\n",
       "      <td>846</td>\n",
       "      <td>HR</td>\n",
       "      <td>19</td>\n",
       "    </tr>\n",
       "    <tr>\n",
       "      <th>3</th>\n",
       "      <td>27018550</td>\n",
       "      <td>hr specialist summary dedicated, driven, and d...</td>\n",
       "      <td>HR</td>\n",
       "      <td>2855</td>\n",
       "      <td>379</td>\n",
       "      <td>HR SPECIALIST Summary Dedicated , Driven , Dyn...</td>\n",
       "      <td>2287</td>\n",
       "      <td>304</td>\n",
       "      <td>HR</td>\n",
       "      <td>19</td>\n",
       "    </tr>\n",
       "    <tr>\n",
       "      <th>4</th>\n",
       "      <td>17812897</td>\n",
       "      <td>hr manager skill highlights hr skills hr depar...</td>\n",
       "      <td>HR</td>\n",
       "      <td>9172</td>\n",
       "      <td>1206</td>\n",
       "      <td>HR MANAGER Skill Highlights HR SKILLS HR Depar...</td>\n",
       "      <td>7861</td>\n",
       "      <td>1076</td>\n",
       "      <td>HR</td>\n",
       "      <td>19</td>\n",
       "    </tr>\n",
       "  </tbody>\n",
       "</table>\n",
       "</div>"
      ],
      "text/plain": [
       "         ID                                         Resume_str Category  \\\n",
       "0  16852973  hr administrator/marketing associate hr admini...       HR   \n",
       "1  22323967  hr specialist, us hr operations summary versat...       HR   \n",
       "2  33176873  hr director summary over 20 years experience i...       HR   \n",
       "3  27018550  hr specialist summary dedicated, driven, and d...       HR   \n",
       "4  17812897  hr manager skill highlights hr skills hr depar...       HR   \n",
       "\n",
       "   resume_length  no_words                                Modified_Resume_str  \\\n",
       "0           5442       674  HR ADMINISTRATOR/MARKETING ASSOCIATE HR ADMINI...   \n",
       "1           5572       708  HR SPECIALIST , US HR OPERATIONS Summary Versa...   \n",
       "2           7720      1017  HR DIRECTOR Summary Over 20 years experience r...   \n",
       "3           2855       379  HR SPECIALIST Summary Dedicated , Driven , Dyn...   \n",
       "4           9172      1206  HR MANAGER Skill Highlights HR SKILLS HR Depar...   \n",
       "\n",
       "   modified_resume_length  modified_no_words naive_predict  labels  \n",
       "0                    4577                617            HR      19  \n",
       "1                    4678                621            HR      19  \n",
       "2                    6368                846            HR      19  \n",
       "3                    2287                304            HR      19  \n",
       "4                    7861               1076            HR      19  "
      ]
     },
     "execution_count": 43,
     "metadata": {},
     "output_type": "execute_result"
    }
   ],
   "source": [
    "data_df['labels']= data_df['Category'].apply(lambda x: int(label2id[x]))\n",
    "data_df.head()"
   ]
  },
  {
   "cell_type": "markdown",
   "id": "f8dc0010",
   "metadata": {
    "papermill": {
     "duration": 0.047548,
     "end_time": "2023-08-13T14:32:54.792877",
     "exception": false,
     "start_time": "2023-08-13T14:32:54.745329",
     "status": "completed"
    },
    "tags": []
   },
   "source": [
    "### Configurations"
   ]
  },
  {
   "cell_type": "code",
   "execution_count": 44,
   "id": "178bef7c",
   "metadata": {
    "execution": {
     "iopub.execute_input": "2023-08-13T14:32:54.882922Z",
     "iopub.status.busy": "2023-08-13T14:32:54.882561Z",
     "iopub.status.idle": "2023-08-13T14:33:11.970997Z",
     "shell.execute_reply": "2023-08-13T14:33:11.969629Z"
    },
    "papermill": {
     "duration": 17.136374,
     "end_time": "2023-08-13T14:33:11.973649",
     "exception": false,
     "start_time": "2023-08-13T14:32:54.837275",
     "status": "completed"
    },
    "tags": []
   },
   "outputs": [],
   "source": [
    "!pip install -q --upgrade wandb ## installing weight and bias"
   ]
  },
  {
   "cell_type": "code",
   "execution_count": 45,
   "id": "da079b80",
   "metadata": {
    "execution": {
     "iopub.execute_input": "2023-08-13T14:33:12.067788Z",
     "iopub.status.busy": "2023-08-13T14:33:12.067207Z",
     "iopub.status.idle": "2023-08-13T14:33:16.144900Z",
     "shell.execute_reply": "2023-08-13T14:33:16.143845Z"
    },
    "papermill": {
     "duration": 4.126532,
     "end_time": "2023-08-13T14:33:16.147567",
     "exception": false,
     "start_time": "2023-08-13T14:33:12.021035",
     "status": "completed"
    },
    "tags": []
   },
   "outputs": [],
   "source": [
    "import time\n",
    "import random\n",
    "import torch\n",
    "import json\n",
    "import wandb\n",
    "import gc\n",
    "import string\n",
    "from collections import defaultdict\n",
    "\n",
    "from torch.optim import AdamW, lr_scheduler\n",
    "\n",
    "# Suppress warnings\n",
    "import warnings\n",
    "warnings.filterwarnings(\"ignore\")\n",
    "\n",
    "# For descriptive error messages\n",
    "os.environ['CUDA_LAUNCH_BLOCKING'] = \"1\""
   ]
  },
  {
   "cell_type": "code",
   "execution_count": 46,
   "id": "6e38a12f",
   "metadata": {
    "execution": {
     "iopub.execute_input": "2023-08-13T14:33:16.247717Z",
     "iopub.status.busy": "2023-08-13T14:33:16.247314Z",
     "iopub.status.idle": "2023-08-13T14:33:16.325293Z",
     "shell.execute_reply": "2023-08-13T14:33:16.324272Z"
    },
    "papermill": {
     "duration": 0.130692,
     "end_time": "2023-08-13T14:33:16.327974",
     "exception": false,
     "start_time": "2023-08-13T14:33:16.197282",
     "status": "completed"
    },
    "tags": []
   },
   "outputs": [],
   "source": [
    "class CONFIG:\n",
    "    train= True #False #True\n",
    "    test = True\n",
    "    seed= 2023 #42\n",
    "    n_fold= 3\n",
    "    id2label= id2label\n",
    "    label2id= label2id\n",
    "    device= torch.device('cuda:0' if torch.cuda.is_available() else 'cpu')\n",
    "    \n",
    "    num_labels= 24\n",
    "    n_folds= 3\n",
    "    num_epochs= 50\n",
    "    \n",
    "    output_dir= \"./Models/\"\n",
    "    model_name_or_path= \"microsoft/deberta-v3-large\" #\"xlnet-base-cased\" #\"microsoft/deberta-v3-base\" # \"microsoft/deberta-v3-small\" #\"bert-large-uncased\" #\"bert-base-uncased\" # #\"bert-base-uncased\" # #\"prajjwal1/bert-small\"\n",
    "    model_checkpoint= \"./Models/Resume_classification_fold_0.bin\" # This have to be changed with proper path\n",
    "    token_max_length= 700 #1024 #512 # 1024 #bert-base-uncased must be run with 512 length\n",
    "    train_batch_size= 2\n",
    "    valid_batch_size= 2\n",
    "    test_batch_size= 2\n",
    "    num_workers= 2\n",
    "    \n",
    "    patience= 3\n",
    "    gradient_accumulation_steps= 1\n",
    "    learning_rate= 2e-5 #5e-5\n",
    "    weight_decay= 1e-1\n",
    "    scheduler= \"CosineAnnealingWarmRestarts\" #\"linear\"\n",
    "    T_max= 500\n",
    "    T_0= 500\n",
    "    min_lr= 1e-8\n",
    "    eps = 1e-6\n",
    "    betas= [0.9, 0.999]\n",
    "    \n",
    "    wandb= False\n",
    "    task= 'Resume_Classification'\n",
    "    _wandb_kernel= 'Virus_Proton'\n",
    "    \n",
    "    \n",
    "    "
   ]
  },
  {
   "cell_type": "code",
   "execution_count": 47,
   "id": "2bfc3af6",
   "metadata": {
    "execution": {
     "iopub.execute_input": "2023-08-13T14:33:16.423738Z",
     "iopub.status.busy": "2023-08-13T14:33:16.422704Z",
     "iopub.status.idle": "2023-08-13T14:33:16.430637Z",
     "shell.execute_reply": "2023-08-13T14:33:16.429649Z"
    },
    "papermill": {
     "duration": 0.057989,
     "end_time": "2023-08-13T14:33:16.432821",
     "exception": false,
     "start_time": "2023-08-13T14:33:16.374832",
     "status": "completed"
    },
    "tags": []
   },
   "outputs": [],
   "source": [
    "if CONFIG.wandb:\n",
    "    import wandb\n",
    "\n",
    "    from kaggle_secrets import UserSecretsClient\n",
    "    user_secrets= UserSecretsClient()\n",
    "    api_key= user_secrets.get_secret(\"wandb_api\")\n",
    "    wandb.login(key= api_key)\n",
    "\n",
    "    ## creating random Hash name for every training to save in W&B\n",
    "\n",
    "    def id_generator(size= 12, chars= string.ascii_lowercase+string.digits):\n",
    "        return ''.join(random.SystemRandom().choice(chars) for _ in range(size))\n",
    "\n",
    "    HASH_NAME= id_generator()\n",
    "    print(HASH_NAME)\n",
    "    \n",
    "    CONFIG.hash_name= HASH_NAME\n",
    "    CONFIG.group= f\"Resume_classification-{HASH_NAME}_\""
   ]
  },
  {
   "cell_type": "code",
   "execution_count": 48,
   "id": "28ca4ec4",
   "metadata": {
    "execution": {
     "iopub.execute_input": "2023-08-13T14:33:16.536353Z",
     "iopub.status.busy": "2023-08-13T14:33:16.535938Z",
     "iopub.status.idle": "2023-08-13T14:33:28.713598Z",
     "shell.execute_reply": "2023-08-13T14:33:28.712099Z"
    },
    "papermill": {
     "duration": 12.232905,
     "end_time": "2023-08-13T14:33:28.716349",
     "exception": false,
     "start_time": "2023-08-13T14:33:16.483444",
     "status": "completed"
    },
    "tags": []
   },
   "outputs": [],
   "source": [
    "!pip install -q jsons"
   ]
  },
  {
   "cell_type": "code",
   "execution_count": 49,
   "id": "90153345",
   "metadata": {
    "execution": {
     "iopub.execute_input": "2023-08-13T14:33:28.813070Z",
     "iopub.status.busy": "2023-08-13T14:33:28.812681Z",
     "iopub.status.idle": "2023-08-13T14:33:28.857254Z",
     "shell.execute_reply": "2023-08-13T14:33:28.856376Z"
    },
    "papermill": {
     "duration": 0.096869,
     "end_time": "2023-08-13T14:33:28.859717",
     "exception": false,
     "start_time": "2023-08-13T14:33:28.762848",
     "status": "completed"
    },
    "tags": []
   },
   "outputs": [
    {
     "data": {
      "text/plain": [
       "{'T_0': 500,\n",
       " 'T_max': 500,\n",
       " '_wandb_kernel': 'Virus_Proton',\n",
       " 'betas': [0.9, 0.999],\n",
       " 'device': {'index': 0, 'type': 'cuda'},\n",
       " 'eps': 1e-06,\n",
       " 'gradient_accumulation_steps': 1,\n",
       " 'id2label': {'0': 'ACCOUNTANT',\n",
       "  '1': 'ADVOCATE',\n",
       "  '2': 'AGRICULTURE',\n",
       "  '3': 'APPAREL',\n",
       "  '4': 'ARTS',\n",
       "  '5': 'AUTOMOBILE',\n",
       "  '6': 'AVIATION',\n",
       "  '7': 'BANKING',\n",
       "  '8': 'BPO',\n",
       "  '9': 'BUSINESS-DEVELOPMENT',\n",
       "  '10': 'CHEF',\n",
       "  '11': 'CONSTRUCTION',\n",
       "  '12': 'CONSULTANT',\n",
       "  '13': 'DESIGNER',\n",
       "  '14': 'DIGITAL-MEDIA',\n",
       "  '15': 'ENGINEERING',\n",
       "  '16': 'FINANCE',\n",
       "  '17': 'FITNESS',\n",
       "  '18': 'HEALTHCARE',\n",
       "  '19': 'HR',\n",
       "  '20': 'INFORMATION-TECHNOLOGY',\n",
       "  '21': 'PUBLIC-RELATIONS',\n",
       "  '22': 'SALES',\n",
       "  '23': 'TEACHER'},\n",
       " 'label2id': {'ACCOUNTANT': 0,\n",
       "  'ADVOCATE': 1,\n",
       "  'AGRICULTURE': 2,\n",
       "  'APPAREL': 3,\n",
       "  'ARTS': 4,\n",
       "  'AUTOMOBILE': 5,\n",
       "  'AVIATION': 6,\n",
       "  'BANKING': 7,\n",
       "  'BPO': 8,\n",
       "  'BUSINESS-DEVELOPMENT': 9,\n",
       "  'CHEF': 10,\n",
       "  'CONSTRUCTION': 11,\n",
       "  'CONSULTANT': 12,\n",
       "  'DESIGNER': 13,\n",
       "  'DIGITAL-MEDIA': 14,\n",
       "  'ENGINEERING': 15,\n",
       "  'FINANCE': 16,\n",
       "  'FITNESS': 17,\n",
       "  'HEALTHCARE': 18,\n",
       "  'HR': 19,\n",
       "  'INFORMATION-TECHNOLOGY': 20,\n",
       "  'PUBLIC-RELATIONS': 21,\n",
       "  'SALES': 22,\n",
       "  'TEACHER': 23},\n",
       " 'learning_rate': 2e-05,\n",
       " 'min_lr': 1e-08,\n",
       " 'model_checkpoint': './Models/Resume_classification_fold_0.bin',\n",
       " 'model_name_or_path': 'microsoft/deberta-v3-large',\n",
       " 'n_fold': 3,\n",
       " 'n_folds': 3,\n",
       " 'num_epochs': 50,\n",
       " 'num_labels': 24,\n",
       " 'num_workers': 2,\n",
       " 'output_dir': './Models/',\n",
       " 'patience': 3,\n",
       " 'scheduler': 'CosineAnnealingWarmRestarts',\n",
       " 'seed': 2023,\n",
       " 'task': 'Resume_Classification',\n",
       " 'test': True,\n",
       " 'test_batch_size': 2,\n",
       " 'token_max_length': 700,\n",
       " 'train': True,\n",
       " 'train_batch_size': 2,\n",
       " 'valid_batch_size': 2,\n",
       " 'wandb': False,\n",
       " 'weight_decay': 0.1}"
      ]
     },
     "metadata": {},
     "output_type": "display_data"
    }
   ],
   "source": [
    "import jsons\n",
    "#save the config \n",
    "with open('Configuration.json', 'w') as f:\n",
    "    conf= CONFIG()\n",
    "    conf= jsons.dump(conf)\n",
    "    json.dump(conf, f)\n",
    "\n",
    "display(conf)"
   ]
  },
  {
   "cell_type": "markdown",
   "id": "988b6356",
   "metadata": {
    "papermill": {
     "duration": 0.044106,
     "end_time": "2023-08-13T14:33:28.951510",
     "exception": false,
     "start_time": "2023-08-13T14:33:28.907404",
     "status": "completed"
    },
    "tags": []
   },
   "source": [
    "## CV split\n",
    "\n",
    "As there are some imbalance in dataset, for robustness of our model we will use cross-validation method for training our model and evaluating our model performance.\n",
    "\n",
    ">**We will make total 4 split and we will use first 3 splits for cross validation training and 1 spilt for final testing.**"
   ]
  },
  {
   "cell_type": "code",
   "execution_count": 50,
   "id": "2abb68ec",
   "metadata": {
    "execution": {
     "iopub.execute_input": "2023-08-13T14:33:29.044165Z",
     "iopub.status.busy": "2023-08-13T14:33:29.043801Z",
     "iopub.status.idle": "2023-08-13T14:33:29.081163Z",
     "shell.execute_reply": "2023-08-13T14:33:29.080023Z"
    },
    "papermill": {
     "duration": 0.087208,
     "end_time": "2023-08-13T14:33:29.083641",
     "exception": false,
     "start_time": "2023-08-13T14:33:28.996433",
     "status": "completed"
    },
    "tags": []
   },
   "outputs": [
    {
     "data": {
      "text/html": [
       "<div>\n",
       "<style scoped>\n",
       "    .dataframe tbody tr th:only-of-type {\n",
       "        vertical-align: middle;\n",
       "    }\n",
       "\n",
       "    .dataframe tbody tr th {\n",
       "        vertical-align: top;\n",
       "    }\n",
       "\n",
       "    .dataframe thead th {\n",
       "        text-align: right;\n",
       "    }\n",
       "</style>\n",
       "<table border=\"1\" class=\"dataframe\">\n",
       "  <thead>\n",
       "    <tr style=\"text-align: right;\">\n",
       "      <th></th>\n",
       "      <th>ID</th>\n",
       "      <th>Resume_str</th>\n",
       "      <th>Category</th>\n",
       "      <th>resume_length</th>\n",
       "      <th>no_words</th>\n",
       "      <th>Modified_Resume_str</th>\n",
       "      <th>modified_resume_length</th>\n",
       "      <th>modified_no_words</th>\n",
       "      <th>naive_predict</th>\n",
       "      <th>labels</th>\n",
       "      <th>kfold</th>\n",
       "    </tr>\n",
       "  </thead>\n",
       "  <tbody>\n",
       "    <tr>\n",
       "      <th>0</th>\n",
       "      <td>16852973</td>\n",
       "      <td>hr administrator/marketing associate hr admini...</td>\n",
       "      <td>HR</td>\n",
       "      <td>5442</td>\n",
       "      <td>674</td>\n",
       "      <td>HR ADMINISTRATOR/MARKETING ASSOCIATE HR ADMINI...</td>\n",
       "      <td>4577</td>\n",
       "      <td>617</td>\n",
       "      <td>HR</td>\n",
       "      <td>19</td>\n",
       "      <td>1</td>\n",
       "    </tr>\n",
       "    <tr>\n",
       "      <th>1</th>\n",
       "      <td>22323967</td>\n",
       "      <td>hr specialist, us hr operations summary versat...</td>\n",
       "      <td>HR</td>\n",
       "      <td>5572</td>\n",
       "      <td>708</td>\n",
       "      <td>HR SPECIALIST , US HR OPERATIONS Summary Versa...</td>\n",
       "      <td>4678</td>\n",
       "      <td>621</td>\n",
       "      <td>HR</td>\n",
       "      <td>19</td>\n",
       "      <td>2</td>\n",
       "    </tr>\n",
       "    <tr>\n",
       "      <th>2</th>\n",
       "      <td>33176873</td>\n",
       "      <td>hr director summary over 20 years experience i...</td>\n",
       "      <td>HR</td>\n",
       "      <td>7720</td>\n",
       "      <td>1017</td>\n",
       "      <td>HR DIRECTOR Summary Over 20 years experience r...</td>\n",
       "      <td>6368</td>\n",
       "      <td>846</td>\n",
       "      <td>HR</td>\n",
       "      <td>19</td>\n",
       "      <td>2</td>\n",
       "    </tr>\n",
       "    <tr>\n",
       "      <th>3</th>\n",
       "      <td>27018550</td>\n",
       "      <td>hr specialist summary dedicated, driven, and d...</td>\n",
       "      <td>HR</td>\n",
       "      <td>2855</td>\n",
       "      <td>379</td>\n",
       "      <td>HR SPECIALIST Summary Dedicated , Driven , Dyn...</td>\n",
       "      <td>2287</td>\n",
       "      <td>304</td>\n",
       "      <td>HR</td>\n",
       "      <td>19</td>\n",
       "      <td>0</td>\n",
       "    </tr>\n",
       "    <tr>\n",
       "      <th>4</th>\n",
       "      <td>17812897</td>\n",
       "      <td>hr manager skill highlights hr skills hr depar...</td>\n",
       "      <td>HR</td>\n",
       "      <td>9172</td>\n",
       "      <td>1206</td>\n",
       "      <td>HR MANAGER Skill Highlights HR SKILLS HR Depar...</td>\n",
       "      <td>7861</td>\n",
       "      <td>1076</td>\n",
       "      <td>HR</td>\n",
       "      <td>19</td>\n",
       "      <td>0</td>\n",
       "    </tr>\n",
       "    <tr>\n",
       "      <th>5</th>\n",
       "      <td>11592605</td>\n",
       "      <td>hr generalist summary dedicated and focused ad...</td>\n",
       "      <td>HR</td>\n",
       "      <td>5480</td>\n",
       "      <td>666</td>\n",
       "      <td>HR GENERALIST Summary Dedicated focused Admini...</td>\n",
       "      <td>4672</td>\n",
       "      <td>579</td>\n",
       "      <td>HR</td>\n",
       "      <td>19</td>\n",
       "      <td>2</td>\n",
       "    </tr>\n",
       "    <tr>\n",
       "      <th>6</th>\n",
       "      <td>25824789</td>\n",
       "      <td>hr manager summary human resources manager ext...</td>\n",
       "      <td>HR</td>\n",
       "      <td>5250</td>\n",
       "      <td>637</td>\n",
       "      <td>HR MANAGER Summary HUMAN RESOURCES MANAGER Ext...</td>\n",
       "      <td>4536</td>\n",
       "      <td>571</td>\n",
       "      <td>HR</td>\n",
       "      <td>19</td>\n",
       "      <td>0</td>\n",
       "    </tr>\n",
       "    <tr>\n",
       "      <th>7</th>\n",
       "      <td>15375009</td>\n",
       "      <td>hr manager professional summary senior hr prof...</td>\n",
       "      <td>HR</td>\n",
       "      <td>9033</td>\n",
       "      <td>1106</td>\n",
       "      <td>HR MANAGER Professional Summary Senior HR prof...</td>\n",
       "      <td>7730</td>\n",
       "      <td>951</td>\n",
       "      <td>HR</td>\n",
       "      <td>19</td>\n",
       "      <td>3</td>\n",
       "    </tr>\n",
       "    <tr>\n",
       "      <th>8</th>\n",
       "      <td>11847784</td>\n",
       "      <td>hr specialist summary possess 15+ years of exp...</td>\n",
       "      <td>HR</td>\n",
       "      <td>6720</td>\n",
       "      <td>796</td>\n",
       "      <td>HR SPECIALIST Summary Possess 15+ years experi...</td>\n",
       "      <td>5677</td>\n",
       "      <td>671</td>\n",
       "      <td>HR</td>\n",
       "      <td>19</td>\n",
       "      <td>3</td>\n",
       "    </tr>\n",
       "    <tr>\n",
       "      <th>9</th>\n",
       "      <td>32896934</td>\n",
       "      <td>hr clerk summary translates business vision in...</td>\n",
       "      <td>HR</td>\n",
       "      <td>5978</td>\n",
       "      <td>716</td>\n",
       "      <td>HR CLERK Summary Translates business vision HR...</td>\n",
       "      <td>5167</td>\n",
       "      <td>674</td>\n",
       "      <td>HR</td>\n",
       "      <td>19</td>\n",
       "      <td>2</td>\n",
       "    </tr>\n",
       "  </tbody>\n",
       "</table>\n",
       "</div>"
      ],
      "text/plain": [
       "         ID                                         Resume_str Category  \\\n",
       "0  16852973  hr administrator/marketing associate hr admini...       HR   \n",
       "1  22323967  hr specialist, us hr operations summary versat...       HR   \n",
       "2  33176873  hr director summary over 20 years experience i...       HR   \n",
       "3  27018550  hr specialist summary dedicated, driven, and d...       HR   \n",
       "4  17812897  hr manager skill highlights hr skills hr depar...       HR   \n",
       "5  11592605  hr generalist summary dedicated and focused ad...       HR   \n",
       "6  25824789  hr manager summary human resources manager ext...       HR   \n",
       "7  15375009  hr manager professional summary senior hr prof...       HR   \n",
       "8  11847784  hr specialist summary possess 15+ years of exp...       HR   \n",
       "9  32896934  hr clerk summary translates business vision in...       HR   \n",
       "\n",
       "   resume_length  no_words                                Modified_Resume_str  \\\n",
       "0           5442       674  HR ADMINISTRATOR/MARKETING ASSOCIATE HR ADMINI...   \n",
       "1           5572       708  HR SPECIALIST , US HR OPERATIONS Summary Versa...   \n",
       "2           7720      1017  HR DIRECTOR Summary Over 20 years experience r...   \n",
       "3           2855       379  HR SPECIALIST Summary Dedicated , Driven , Dyn...   \n",
       "4           9172      1206  HR MANAGER Skill Highlights HR SKILLS HR Depar...   \n",
       "5           5480       666  HR GENERALIST Summary Dedicated focused Admini...   \n",
       "6           5250       637  HR MANAGER Summary HUMAN RESOURCES MANAGER Ext...   \n",
       "7           9033      1106  HR MANAGER Professional Summary Senior HR prof...   \n",
       "8           6720       796  HR SPECIALIST Summary Possess 15+ years experi...   \n",
       "9           5978       716  HR CLERK Summary Translates business vision HR...   \n",
       "\n",
       "   modified_resume_length  modified_no_words naive_predict  labels  kfold  \n",
       "0                    4577                617            HR      19      1  \n",
       "1                    4678                621            HR      19      2  \n",
       "2                    6368                846            HR      19      2  \n",
       "3                    2287                304            HR      19      0  \n",
       "4                    7861               1076            HR      19      0  \n",
       "5                    4672                579            HR      19      2  \n",
       "6                    4536                571            HR      19      0  \n",
       "7                    7730                951            HR      19      3  \n",
       "8                    5677                671            HR      19      3  \n",
       "9                    5167                674            HR      19      2  "
      ]
     },
     "metadata": {},
     "output_type": "display_data"
    },
    {
     "data": {
      "text/plain": [
       "kfold\n",
       "0    621\n",
       "1    621\n",
       "2    621\n",
       "3    621\n",
       "dtype: int64"
      ]
     },
     "metadata": {},
     "output_type": "display_data"
    }
   ],
   "source": [
    "from sklearn.model_selection import StratifiedKFold\n",
    "\n",
    "skf = StratifiedKFold(n_splits= CONFIG.n_fold + 1, shuffle= True, random_state= CONFIG.seed)\n",
    "\n",
    "for fold, (_, val_) in enumerate(skf.split(X= data_df, y= data_df['labels'])):\n",
    "    data_df.loc[val_, \"kfold\"] = int(fold)\n",
    "\n",
    "data_df['kfold']= data_df['kfold'].astype(int)\n",
    "\n",
    "display(data_df.head(10))\n",
    "\n",
    "display(data_df.groupby('kfold').size())"
   ]
  },
  {
   "cell_type": "code",
   "execution_count": 51,
   "id": "1b3ddacb",
   "metadata": {
    "execution": {
     "iopub.execute_input": "2023-08-13T14:33:29.179987Z",
     "iopub.status.busy": "2023-08-13T14:33:29.179651Z",
     "iopub.status.idle": "2023-08-13T14:33:31.175067Z",
     "shell.execute_reply": "2023-08-13T14:33:31.174128Z"
    },
    "papermill": {
     "duration": 2.044487,
     "end_time": "2023-08-13T14:33:31.177243",
     "exception": false,
     "start_time": "2023-08-13T14:33:29.132756",
     "status": "completed"
    },
    "tags": []
   },
   "outputs": [
    {
     "data": {
      "image/png": "[encoded data removed]",
      "text/plain": [
       "<Figure size 1000x1600 with 4 Axes>"
      ]
     },
     "metadata": {},
     "output_type": "display_data"
    }
   ],
   "source": [
    "## lets see the data distribution for each split\n",
    "temp_df= data_df[['labels', 'kfold']]\n",
    "plt.figure(figsize= (10, 16))\n",
    "\n",
    "for i in range(CONFIG.n_fold + 1):\n",
    "    xlabels= temp_df[temp_df['kfold'] == i]['labels'].value_counts().index\n",
    "    xlabels= [id2label[str(id_)] for id_ in xlabels]\n",
    "    ylabels= temp_df[temp_df['kfold'] == i]['labels'].value_counts().values\n",
    "    \n",
    "    plt.subplot(CONFIG.n_fold + 1 ,1,i+1)\n",
    "    plt.bar(xlabels, height= ylabels, align= 'center')\n",
    "    \n",
    "    plt.tight_layout()\n",
    "    plt.title(f\"Data Distribution for {i+1} th kfold\")\n",
    "    plt.xticks(rotation = 'vertical')\n",
    "    plt.xlabel(\"Category\")\n",
    "    plt.ylabel(\"Frequency\")"
   ]
  },
  {
   "cell_type": "markdown",
   "id": "292b2c9c",
   "metadata": {
    "papermill": {
     "duration": 0.047505,
     "end_time": "2023-08-13T14:33:31.274450",
     "exception": false,
     "start_time": "2023-08-13T14:33:31.226945",
     "status": "completed"
    },
    "tags": []
   },
   "source": [
    "From the above distribution plots we can see that each splits has data from each categories. So, Our data is evenly distributed for training."
   ]
  },
  {
   "cell_type": "code",
   "execution_count": 52,
   "id": "e83a4f80",
   "metadata": {
    "execution": {
     "iopub.execute_input": "2023-08-13T14:33:31.373436Z",
     "iopub.status.busy": "2023-08-13T14:33:31.373090Z",
     "iopub.status.idle": "2023-08-13T14:33:32.041167Z",
     "shell.execute_reply": "2023-08-13T14:33:32.039747Z"
    },
    "papermill": {
     "duration": 0.720344,
     "end_time": "2023-08-13T14:33:32.043430",
     "exception": false,
     "start_time": "2023-08-13T14:33:31.323086",
     "status": "completed"
    },
    "tags": []
   },
   "outputs": [
    {
     "name": "stdout",
     "output_type": "stream",
     "text": [
      "Total data in train dataset: 1863\n",
      "Total data in test dataset: 621\n",
      "Train Data is saved to 'train_data.csv'\n",
      "Test Data is saved to 'test_data.csv'\n"
     ]
    }
   ],
   "source": [
    "test_df= data_df[data_df['kfold']== 3].reset_index(drop= True)\n",
    "train_df= data_df[data_df['kfold'] != 3].reset_index(drop= True)\n",
    "\n",
    "print(f\"Total data in train dataset: {len(train_df)}\")\n",
    "print(f\"Total data in test dataset: {len(test_df)}\")\n",
    "\n",
    "train_df= train_df[['ID', 'Resume_str', 'Category', 'labels', 'kfold']]\n",
    "test_df= test_df[['ID', 'Resume_str', 'Category', 'labels', 'kfold']]\n",
    "\n",
    "train_df.to_csv(\"train_data.csv\", index= False)\n",
    "print(\"Train Data is saved to 'train_data.csv'\")\n",
    "test_df.to_csv(\"test_data.csv\", index= False)\n",
    "print(\"Test Data is saved to 'test_data.csv'\")"
   ]
  },
  {
   "cell_type": "code",
   "execution_count": 53,
   "id": "fe341786",
   "metadata": {
    "execution": {
     "iopub.execute_input": "2023-08-13T14:33:32.143981Z",
     "iopub.status.busy": "2023-08-13T14:33:32.143000Z",
     "iopub.status.idle": "2023-08-13T14:33:32.154497Z",
     "shell.execute_reply": "2023-08-13T14:33:32.153624Z"
    },
    "papermill": {
     "duration": 0.063932,
     "end_time": "2023-08-13T14:33:32.156598",
     "exception": false,
     "start_time": "2023-08-13T14:33:32.092666",
     "status": "completed"
    },
    "tags": []
   },
   "outputs": [],
   "source": [
    "def set_seed(seed= 42):\n",
    "    \n",
    "    np.random.seed(seed)\n",
    "    torch.manual_seed(seed)\n",
    "    torch.cuda.manual_seed(seed)\n",
    "    # When running on the CuDNN backend, two further options must be set\n",
    "    torch.backends.cudnn.deterministic= True\n",
    "    torch.backends.cudnn.benchmark= False\n",
    "    # Set a fixed value for the hash seed\n",
    "    os.environ['PYTHONHASHSEED'] = str(seed)\n",
    "\n",
    "\n",
    "set_seed(CONFIG.seed)\n"
   ]
  },
  {
   "cell_type": "code",
   "execution_count": 54,
   "id": "4879bdc3",
   "metadata": {
    "execution": {
     "iopub.execute_input": "2023-08-13T14:33:32.254470Z",
     "iopub.status.busy": "2023-08-13T14:33:32.253834Z",
     "iopub.status.idle": "2023-08-13T14:33:42.252884Z",
     "shell.execute_reply": "2023-08-13T14:33:42.251826Z"
    },
    "papermill": {
     "duration": 10.050918,
     "end_time": "2023-08-13T14:33:42.255314",
     "exception": false,
     "start_time": "2023-08-13T14:33:32.204396",
     "status": "completed"
    },
    "tags": []
   },
   "outputs": [],
   "source": [
    "from torch.utils.data import DataLoader\n",
    "from datasets import Dataset, DatasetDict\n",
    "from transformers import AutoModel, AutoModelForSequenceClassification, AutoConfig, AutoTokenizer, Trainer, TrainingArguments, DataCollatorWithPadding"
   ]
  },
  {
   "cell_type": "code",
   "execution_count": 55,
   "id": "a50e6597",
   "metadata": {
    "execution": {
     "iopub.execute_input": "2023-08-13T14:33:42.353794Z",
     "iopub.status.busy": "2023-08-13T14:33:42.353114Z",
     "iopub.status.idle": "2023-08-13T14:33:42.358336Z",
     "shell.execute_reply": "2023-08-13T14:33:42.357301Z"
    },
    "papermill": {
     "duration": 0.056328,
     "end_time": "2023-08-13T14:33:42.360469",
     "exception": false,
     "start_time": "2023-08-13T14:33:42.304141",
     "status": "completed"
    },
    "tags": []
   },
   "outputs": [],
   "source": [
    "# data= train_df[train_df[\"Resume_str\", 'labels', 'kfold']]\n",
    "# valid= data[data['kfold'] == 0]['']"
   ]
  },
  {
   "cell_type": "code",
   "execution_count": 56,
   "id": "317a90ad",
   "metadata": {
    "execution": {
     "iopub.execute_input": "2023-08-13T14:33:42.456388Z",
     "iopub.status.busy": "2023-08-13T14:33:42.456054Z",
     "iopub.status.idle": "2023-08-13T14:33:44.322297Z",
     "shell.execute_reply": "2023-08-13T14:33:44.321143Z"
    },
    "papermill": {
     "duration": 1.917742,
     "end_time": "2023-08-13T14:33:44.324792",
     "exception": false,
     "start_time": "2023-08-13T14:33:42.407050",
     "status": "completed"
    },
    "tags": []
   },
   "outputs": [
    {
     "data": {
      "application/vnd.jupyter.widget-view+json": {
       "model_id": "c5204f2de82348ca930036d2da620955",
       "version_major": 2,
       "version_minor": 0
      },
      "text/plain": [
       "Downloading (…)okenizer_config.json:   0%|          | 0.00/52.0 [00:00<?, ?B/s]"
      ]
     },
     "metadata": {},
     "output_type": "display_data"
    },
    {
     "data": {
      "application/vnd.jupyter.widget-view+json": {
       "model_id": "91e8a57ec5ac444bbef3b9243dd22ab5",
       "version_major": 2,
       "version_minor": 0
      },
      "text/plain": [
       "Downloading (…)lve/main/config.json:   0%|          | 0.00/580 [00:00<?, ?B/s]"
      ]
     },
     "metadata": {},
     "output_type": "display_data"
    },
    {
     "data": {
      "application/vnd.jupyter.widget-view+json": {
       "model_id": "271bf0f6bedf462d9acb4f79a9c53bdb",
       "version_major": 2,
       "version_minor": 0
      },
      "text/plain": [
       "Downloading spm.model:   0%|          | 0.00/2.46M [00:00<?, ?B/s]"
      ]
     },
     "metadata": {},
     "output_type": "display_data"
    },
    {
     "name": "stderr",
     "output_type": "stream",
     "text": [
      "Special tokens have been added in the vocabulary, make sure the associated word embeddings are fine-tuned or trained.\n",
      "Special tokens have been added in the vocabulary, make sure the associated word embeddings are fine-tuned or trained.\n"
     ]
    }
   ],
   "source": [
    "tokenizer= AutoTokenizer.from_pretrained(CONFIG.model_name_or_path)\n"
   ]
  },
  {
   "cell_type": "code",
   "execution_count": 57,
   "id": "ce21ac5b",
   "metadata": {
    "execution": {
     "iopub.execute_input": "2023-08-13T14:33:44.423747Z",
     "iopub.status.busy": "2023-08-13T14:33:44.423038Z",
     "iopub.status.idle": "2023-08-13T14:33:44.430065Z",
     "shell.execute_reply": "2023-08-13T14:33:44.429177Z"
    },
    "papermill": {
     "duration": 0.058123,
     "end_time": "2023-08-13T14:33:44.432199",
     "exception": false,
     "start_time": "2023-08-13T14:33:44.374076",
     "status": "completed"
    },
    "tags": []
   },
   "outputs": [
    {
     "data": {
      "text/plain": [
       "'hr administrator/marketing associate hr administrator summary dedicated customer service manager with 15+ years of experience in hospitality and customer service management. respected builder and leader of customer-focused teams; strives to instill a shared, enthusiastic commitment to customer service. highlights focused on customer satisfaction team management marketing savvy conflict resolution techniques training and development skilled multi-tasker client relations specialist accomplishments missouri dot supervisor training certification certified by ihg in customer loyalty and marketing by segment hilton worldwide general manager training certification accomplished trainer for cross server hospitality systems such as hilton onq , micros opera pms , fidelio opera reservation system (ors) , holidex completed courses and seminars in customer service, sales strategies, inventory control, loss prevention, safety, time management, leadership and performance assessment. experience hr administrator/marketing associate hr administrator dec 2013 to current company name city , state helps to develop policies, directs and coordinates activities such as employment, compensation, labor relations, benefits, training, and employee services. prepares employee separation notices and related documentation keeps records of benefits plans participation such as insurance and pension plan, personnel transactions such as hires, promotions, transfers, performance reviews, and terminations, and employee statistics for government reporting. advises management in appropriate resolution of employee relations issues. administers benefits programs such as life, health, dental, insurance, pension plans, vacation, sick leave, leave of absence, and employee assistance. marketing associate designed and created marketing collateral for sales meetings, trade shows and company executives. managed the in-house advertising program consisting of print and media collateral pieces. assisted in the complete design and launch of the company s website in 2 months. created an official company page on facebook to facilitate interaction with customers. analyzed ratings and programming features of competitors to evaluate the effectiveness of marketing strategies. advanced medical claims analyst mar 2012 to dec 2013 company name city , state reviewed medical bills for the accuracy of the treatments, tests, and hospital stays prior to sanctioning the claims. trained to interpret the codes (icd-9, cpt) and terminology commonly used in medical billing to fully understand the paperwork that is submitted by healthcare providers. required to have organizational and analytical skills as well as computer skills, knowledge of medical terminology and procedures, statistics, billing standards, data analysis and laws regarding medical billing. assistant general manager jun 2010 to dec 2010 company name city , state performed duties including but not limited to, budgeting and financial management, accounting, human resources, payroll and purchasing. established and maintained close working relationships with all departments of the hotel to ensure maximum operation, productivity, morale and guest service. handled daily operations and reported directly to the corporate office. hired and trained staff on overall objectives and goals with an emphasis on high customer service. marketing and advertising, working on public relations with the media, government and local businesses and chamber of commerce. executive support / marketing assistant jul 2007 to jun 2010 company name city , state provided assistance to various department heads - executive, marketing, customer service, human resources. managed front-end operations to ensure friendly and efficient transactions. ensured the swift resolution of customer issues to preserve customer loyalty while complying with company policies. exemplified the second-to-none customer service delivery in all interactions with customers and potential clients. reservation front office manager jun 2004 to jul 2007 company name city , state owner/ partner dec 2001 to may 2004 company name city , state price integrity coordinator aug 1999 to dec 2001 company name city , state education n/a , business administration 1999 jefferson college city , state business administration marketing / advertising high school diploma , college prep. studies 1998 sainte genevieve senior high city , state awarded american shrubel leadership scholarship to jefferson college skills accounting, ads, advertising, analytical skills, benefits, billing, budgeting, clients, customer service, data analysis, delivery, documentation, employee relations, financial management, government relations, human resources, insurance, labor relations, layout, marketing, marketing collateral, medical billing, medical terminology, office, organizational, payroll, performance reviews, personnel, policies, posters, presentations, public relations, purchasing, reporting, statistics, website.'"
      ]
     },
     "execution_count": 57,
     "metadata": {},
     "output_type": "execute_result"
    }
   ],
   "source": [
    "train_df['Resume_str'].values[0]"
   ]
  },
  {
   "cell_type": "code",
   "execution_count": 58,
   "id": "4bd236df",
   "metadata": {
    "execution": {
     "iopub.execute_input": "2023-08-13T14:33:44.530666Z",
     "iopub.status.busy": "2023-08-13T14:33:44.529901Z",
     "iopub.status.idle": "2023-08-13T14:33:44.538819Z",
     "shell.execute_reply": "2023-08-13T14:33:44.537811Z"
    },
    "papermill": {
     "duration": 0.059872,
     "end_time": "2023-08-13T14:33:44.540717",
     "exception": false,
     "start_time": "2023-08-13T14:33:44.480845",
     "status": "completed"
    },
    "tags": []
   },
   "outputs": [],
   "source": [
    "class CustomDataset(Dataset):\n",
    "    def __init__(self, df, tokenizer, cfg= CONFIG):\n",
    "        self.df= df\n",
    "        self.max_len= cfg.token_max_length\n",
    "        self.tokenizer= tokenizer\n",
    "        self.full_text= df['Resume_str'].values\n",
    "        self.labels= df['labels'].values\n",
    "        \n",
    "    def __len__(self):\n",
    "        return len(self.df)\n",
    "    \n",
    "    def __getitem__(self, index):\n",
    "        text= self.full_text[index]\n",
    "\n",
    "        # tokenizer.encode_plus from huggingface.\n",
    "        inputs= self.tokenizer.encode_plus(\n",
    "            text,\n",
    "            truncation= True,\n",
    "            add_special_tokens= True,\n",
    "            max_length= self.max_len,\n",
    "            padding= False, \n",
    "        )\n",
    "        \n",
    "        input_ids= inputs['input_ids']\n",
    "        if len(input_ids) > self.max_len -1 :\n",
    "            input_ids= input_ids[:self.max_len -1]\n",
    "        \n",
    "        input_ids = input_ids + [self.tokenizer.sep_token_id]\n",
    "        \n",
    "        attention_mask= [1] * len(input_ids)\n",
    "        labels= self.labels[index]\n",
    "        \n",
    "        return {\n",
    "            'input_ids' : input_ids,\n",
    "            'attention_mask' : attention_mask,\n",
    "            'targets' : labels\n",
    "        }"
   ]
  },
  {
   "cell_type": "code",
   "execution_count": 59,
   "id": "d6402768",
   "metadata": {
    "execution": {
     "iopub.execute_input": "2023-08-13T14:33:44.640190Z",
     "iopub.status.busy": "2023-08-13T14:33:44.639266Z",
     "iopub.status.idle": "2023-08-13T14:33:44.644344Z",
     "shell.execute_reply": "2023-08-13T14:33:44.643320Z"
    },
    "papermill": {
     "duration": 0.057212,
     "end_time": "2023-08-13T14:33:44.646431",
     "exception": false,
     "start_time": "2023-08-13T14:33:44.589219",
     "status": "completed"
    },
    "tags": []
   },
   "outputs": [],
   "source": [
    "collate_fn= DataCollatorWithPadding(tokenizer, padding= True, max_length= CONFIG.token_max_length, return_tensors= 'pt')"
   ]
  },
  {
   "cell_type": "code",
   "execution_count": 60,
   "id": "efffcc77",
   "metadata": {
    "execution": {
     "iopub.execute_input": "2023-08-13T14:33:44.759002Z",
     "iopub.status.busy": "2023-08-13T14:33:44.758644Z",
     "iopub.status.idle": "2023-08-13T14:33:44.767296Z",
     "shell.execute_reply": "2023-08-13T14:33:44.766202Z"
    },
    "papermill": {
     "duration": 0.068305,
     "end_time": "2023-08-13T14:33:44.769765",
     "exception": false,
     "start_time": "2023-08-13T14:33:44.701460",
     "status": "completed"
    },
    "tags": []
   },
   "outputs": [],
   "source": [
    "def prepare_loader(df, fold, cfg= CONFIG):\n",
    "    df_train= df[df.kfold != fold].reset_index(drop= True) # 2 fold out of 3 fold is used as training data, and 1 fold for validation.\n",
    "    df_valid= df[df.kfold == fold].reset_index(drop= True)\n",
    "    valid_labels = df_valid['labels'].values\n",
    "    \n",
    "    # converting dataFrame to dataset.\n",
    "    train_dataset= CustomDataset(df_train, tokenizer, cfg)\n",
    "    valid_dataset= CustomDataset(df_valid, tokenizer, cfg)\n",
    "    \n",
    "    train_loader= DataLoader(train_dataset, \n",
    "                             batch_size= cfg.train_batch_size, \n",
    "                             collate_fn= collate_fn, #merges a list of samples to form a mini-batch of Tensors\n",
    "                             num_workers= cfg.num_workers, # how many subprocesses to use for data loading\n",
    "                             shuffle= True, \n",
    "                             pin_memory= True,\n",
    "                             drop_last= False, )\n",
    "    \n",
    "    valid_loader= DataLoader(valid_dataset, \n",
    "                            batch_size= cfg.valid_batch_size,\n",
    "                            collate_fn= collate_fn, \n",
    "                            num_workers= cfg.num_workers,\n",
    "                            shuffle= False,\n",
    "                            pin_memory= True, #If True, the data loader will copy Tensors into device/CUDA pinned memory before returning them\n",
    "                            drop_last= False,\n",
    "                            )\n",
    "    \n",
    "    return train_loader, valid_loader #, df_train, df_valid, valid_labels"
   ]
  },
  {
   "cell_type": "code",
   "execution_count": 61,
   "id": "d8a6d0a0",
   "metadata": {
    "execution": {
     "iopub.execute_input": "2023-08-13T14:33:44.875405Z",
     "iopub.status.busy": "2023-08-13T14:33:44.874325Z",
     "iopub.status.idle": "2023-08-13T14:33:44.879467Z",
     "shell.execute_reply": "2023-08-13T14:33:44.878587Z"
    },
    "papermill": {
     "duration": 0.057853,
     "end_time": "2023-08-13T14:33:44.881512",
     "exception": false,
     "start_time": "2023-08-13T14:33:44.823659",
     "status": "completed"
    },
    "tags": []
   },
   "outputs": [],
   "source": [
    "# training_args = TrainingArguments(\n",
    "#     output_dir=\"./checkpoints\",\n",
    "#     evaluation_strategy=\"epoch\",\n",
    "#     learning_rate=2e-5,\n",
    "#     per_device_train_batch_size=2,\n",
    "#     per_device_eval_batch_size=2,\n",
    "#     metric_for_best_model=\"F1\",\n",
    "#     num_train_epochs=1,\n",
    "#     weight_decay=0.01,\n",
    "#     include_inputs_for_metrics =True,\n",
    "#     seed = 0,\n",
    "#     save_steps=3500\n",
    "# )\n"
   ]
  },
  {
   "cell_type": "code",
   "execution_count": 62,
   "id": "81346a90",
   "metadata": {
    "execution": {
     "iopub.execute_input": "2023-08-13T14:33:44.981826Z",
     "iopub.status.busy": "2023-08-13T14:33:44.980793Z",
     "iopub.status.idle": "2023-08-13T14:33:44.986008Z",
     "shell.execute_reply": "2023-08-13T14:33:44.985082Z"
    },
    "papermill": {
     "duration": 0.058591,
     "end_time": "2023-08-13T14:33:44.988163",
     "exception": false,
     "start_time": "2023-08-13T14:33:44.929572",
     "status": "completed"
    },
    "tags": []
   },
   "outputs": [],
   "source": [
    "import torch.optim as optim\n",
    "import torch.nn as nn\n",
    "import gc"
   ]
  },
  {
   "cell_type": "code",
   "execution_count": 63,
   "id": "08f37b47",
   "metadata": {
    "execution": {
     "iopub.execute_input": "2023-08-13T14:33:45.093948Z",
     "iopub.status.busy": "2023-08-13T14:33:45.092887Z",
     "iopub.status.idle": "2023-08-13T14:33:45.099973Z",
     "shell.execute_reply": "2023-08-13T14:33:45.099026Z"
    },
    "papermill": {
     "duration": 0.062456,
     "end_time": "2023-08-13T14:33:45.102107",
     "exception": false,
     "start_time": "2023-08-13T14:33:45.039651",
     "status": "completed"
    },
    "tags": []
   },
   "outputs": [],
   "source": [
    "class MeanPooling(nn.Module):\n",
    "    def __init__(self):\n",
    "        super(MeanPooling, self).__init__()\n",
    "    \n",
    "    def forward(self, last_hidden_state, attention_mask):\n",
    "        input_mask_expanded= attention_mask.unsqueeze(-1).expand(last_hidden_state.size()).float()\n",
    "        sum_embeddings= torch.sum(last_hidden_state * input_mask_expanded, 1)\n",
    "        sum_mask= input_mask_expanded.sum(1)\n",
    "        sum_mask= torch.clamp(sum_mask, min= 1e-9)\n",
    "        mean_embeddings= sum_embeddings/sum_mask\n",
    "        return mean_embeddings"
   ]
  },
  {
   "cell_type": "code",
   "execution_count": 64,
   "id": "0c1d77ac",
   "metadata": {
    "execution": {
     "iopub.execute_input": "2023-08-13T14:33:45.246583Z",
     "iopub.status.busy": "2023-08-13T14:33:45.245874Z",
     "iopub.status.idle": "2023-08-13T14:33:45.254085Z",
     "shell.execute_reply": "2023-08-13T14:33:45.253157Z"
    },
    "papermill": {
     "duration": 0.105022,
     "end_time": "2023-08-13T14:33:45.256232",
     "exception": false,
     "start_time": "2023-08-13T14:33:45.151210",
     "status": "completed"
    },
    "tags": []
   },
   "outputs": [],
   "source": [
    "class ResumeClassifier(nn.Module):\n",
    "    def __init__(self, model_name = CONFIG.model_name_or_path):\n",
    "        super(ResumeClassifier, self).__init__()\n",
    "        \n",
    "        self.num_labels= CONFIG.num_labels\n",
    "        self.config= AutoConfig.from_pretrained(model_name) #, max_position_embeddings= CONFIG['max_length']\n",
    "        self.model= AutoModel.from_pretrained(model_name, config= self.config)\n",
    "#         self.model.gradient_checkpointing_enable() #for gradient checkpointing.\n",
    "        \n",
    "        self.drop= nn.Dropout(0.0)\n",
    "        self.pooler= MeanPooling()\n",
    "        self.fc= nn.Linear(self.config.hidden_size, self.num_labels)#\n",
    "        \n",
    "        \n",
    "    def forward(self, input_ids, attention_mask): # forward : Defines the computation performed at every call.\n",
    "        out= self.model(input_ids= input_ids, \n",
    "                        attention_mask= attention_mask,\n",
    "                        output_hidden_states= True,)#False\n",
    "        out= self.pooler(out.last_hidden_state, attention_mask)\n",
    "#         out= out[1] #.pooler_output #[1] \n",
    "        #out= self.drop(out)\n",
    "        outputs= self.fc(out)\n",
    "        \n",
    "        return outputs\n",
    "    "
   ]
  },
  {
   "cell_type": "code",
   "execution_count": 65,
   "id": "56ab67ae",
   "metadata": {
    "execution": {
     "iopub.execute_input": "2023-08-13T14:33:45.355924Z",
     "iopub.status.busy": "2023-08-13T14:33:45.354967Z",
     "iopub.status.idle": "2023-08-13T14:33:54.994946Z",
     "shell.execute_reply": "2023-08-13T14:33:54.993518Z"
    },
    "papermill": {
     "duration": 9.694352,
     "end_time": "2023-08-13T14:33:54.999888",
     "exception": false,
     "start_time": "2023-08-13T14:33:45.305536",
     "status": "completed"
    },
    "tags": []
   },
   "outputs": [
    {
     "data": {
      "application/vnd.jupyter.widget-view+json": {
       "model_id": "c1a3d1aa997d477e9650c940fe0b26b2",
       "version_major": 2,
       "version_minor": 0
      },
      "text/plain": [
       "Downloading pytorch_model.bin:   0%|          | 0.00/874M [00:00<?, ?B/s]"
      ]
     },
     "metadata": {},
     "output_type": "display_data"
    },
    {
     "name": "stderr",
     "output_type": "stream",
     "text": [
      "Some weights of the model checkpoint at microsoft/deberta-v3-large were not used when initializing DebertaV2Model: ['lm_predictions.lm_head.LayerNorm.bias', 'lm_predictions.lm_head.bias', 'lm_predictions.lm_head.LayerNorm.weight', 'mask_predictions.classifier.bias', 'lm_predictions.lm_head.dense.weight', 'lm_predictions.lm_head.dense.bias', 'mask_predictions.LayerNorm.weight', 'mask_predictions.dense.bias', 'mask_predictions.LayerNorm.bias', 'mask_predictions.classifier.weight', 'mask_predictions.dense.weight']\n",
      "- This IS expected if you are initializing DebertaV2Model from the checkpoint of a model trained on another task or with another architecture (e.g. initializing a BertForSequenceClassification model from a BertForPreTraining model).\n",
      "- This IS NOT expected if you are initializing DebertaV2Model from the checkpoint of a model that you expect to be exactly identical (initializing a BertForSequenceClassification model from a BertForSequenceClassification model).\n"
     ]
    },
    {
     "data": {
      "text/plain": [
       "ResumeClassifier(\n",
       "  (model): DebertaV2Model(\n",
       "    (embeddings): DebertaV2Embeddings(\n",
       "      (word_embeddings): Embedding(128100, 1024, padding_idx=0)\n",
       "      (LayerNorm): LayerNorm((1024,), eps=1e-07, elementwise_affine=True)\n",
       "      (dropout): StableDropout()\n",
       "    )\n",
       "    (encoder): DebertaV2Encoder(\n",
       "      (layer): ModuleList(\n",
       "        (0-23): 24 x DebertaV2Layer(\n",
       "          (attention): DebertaV2Attention(\n",
       "            (self): DisentangledSelfAttention(\n",
       "              (query_proj): Linear(in_features=1024, out_features=1024, bias=True)\n",
       "              (key_proj): Linear(in_features=1024, out_features=1024, bias=True)\n",
       "              (value_proj): Linear(in_features=1024, out_features=1024, bias=True)\n",
       "              (pos_dropout): StableDropout()\n",
       "              (dropout): StableDropout()\n",
       "            )\n",
       "            (output): DebertaV2SelfOutput(\n",
       "              (dense): Linear(in_features=1024, out_features=1024, bias=True)\n",
       "              (LayerNorm): LayerNorm((1024,), eps=1e-07, elementwise_affine=True)\n",
       "              (dropout): StableDropout()\n",
       "            )\n",
       "          )\n",
       "          (intermediate): DebertaV2Intermediate(\n",
       "            (dense): Linear(in_features=1024, out_features=4096, bias=True)\n",
       "            (intermediate_act_fn): GELUActivation()\n",
       "          )\n",
       "          (output): DebertaV2Output(\n",
       "            (dense): Linear(in_features=4096, out_features=1024, bias=True)\n",
       "            (LayerNorm): LayerNorm((1024,), eps=1e-07, elementwise_affine=True)\n",
       "            (dropout): StableDropout()\n",
       "          )\n",
       "        )\n",
       "      )\n",
       "      (rel_embeddings): Embedding(512, 1024)\n",
       "      (LayerNorm): LayerNorm((1024,), eps=1e-07, elementwise_affine=True)\n",
       "    )\n",
       "  )\n",
       "  (drop): Dropout(p=0.0, inplace=False)\n",
       "  (pooler): MeanPooling()\n",
       "  (fc): Linear(in_features=1024, out_features=24, bias=True)\n",
       ")"
      ]
     },
     "execution_count": 65,
     "metadata": {},
     "output_type": "execute_result"
    }
   ],
   "source": [
    "model= ResumeClassifier(CONFIG.model_name_or_path)\n",
    "model"
   ]
  },
  {
   "cell_type": "code",
   "execution_count": 66,
   "id": "0600eb79",
   "metadata": {
    "execution": {
     "iopub.execute_input": "2023-08-13T14:33:55.187138Z",
     "iopub.status.busy": "2023-08-13T14:33:55.186638Z",
     "iopub.status.idle": "2023-08-13T14:33:55.196149Z",
     "shell.execute_reply": "2023-08-13T14:33:55.195143Z"
    },
    "papermill": {
     "duration": 0.105337,
     "end_time": "2023-08-13T14:33:55.199082",
     "exception": false,
     "start_time": "2023-08-13T14:33:55.093745",
     "status": "completed"
    },
    "tags": []
   },
   "outputs": [],
   "source": [
    "from sklearn.metrics import f1_score, accuracy_score\n",
    "def get_score(y_true, y_pred):\n",
    "    return f1_score(y_true, y_pred, average= 'macro')\n",
    "def get_accuracy(y_true, y_pred):\n",
    "    return accuracy_score(y_true, y_pred)"
   ]
  },
  {
   "cell_type": "code",
   "execution_count": 67,
   "id": "32bc79d6",
   "metadata": {
    "execution": {
     "iopub.execute_input": "2023-08-13T14:33:55.387725Z",
     "iopub.status.busy": "2023-08-13T14:33:55.387029Z",
     "iopub.status.idle": "2023-08-13T14:33:55.393059Z",
     "shell.execute_reply": "2023-08-13T14:33:55.391931Z"
    },
    "papermill": {
     "duration": 0.107366,
     "end_time": "2023-08-13T14:33:55.397212",
     "exception": false,
     "start_time": "2023-08-13T14:33:55.289846",
     "status": "completed"
    },
    "tags": []
   },
   "outputs": [],
   "source": [
    "y= [10, 15, 10]\n",
    "x= [10, 10, 10]\n",
    "x = y"
   ]
  },
  {
   "cell_type": "code",
   "execution_count": 68,
   "id": "d242b5c4",
   "metadata": {
    "execution": {
     "iopub.execute_input": "2023-08-13T14:33:55.581876Z",
     "iopub.status.busy": "2023-08-13T14:33:55.580935Z",
     "iopub.status.idle": "2023-08-13T14:33:55.587415Z",
     "shell.execute_reply": "2023-08-13T14:33:55.586185Z"
    },
    "papermill": {
     "duration": 0.102632,
     "end_time": "2023-08-13T14:33:55.590683",
     "exception": false,
     "start_time": "2023-08-13T14:33:55.488051",
     "status": "completed"
    },
    "tags": []
   },
   "outputs": [],
   "source": [
    "def get_optimizer(parameters, cfg= CONFIG):\n",
    "    return AdamW(params=parameters, lr= cfg.learning_rate, weight_decay= cfg.weight_decay, eps= cfg.eps, betas= cfg.betas)"
   ]
  },
  {
   "cell_type": "code",
   "execution_count": 69,
   "id": "6ac4e5b2",
   "metadata": {
    "execution": {
     "iopub.execute_input": "2023-08-13T14:33:55.705065Z",
     "iopub.status.busy": "2023-08-13T14:33:55.704736Z",
     "iopub.status.idle": "2023-08-13T14:33:55.711439Z",
     "shell.execute_reply": "2023-08-13T14:33:55.710438Z"
    },
    "papermill": {
     "duration": 0.062487,
     "end_time": "2023-08-13T14:33:55.713534",
     "exception": false,
     "start_time": "2023-08-13T14:33:55.651047",
     "status": "completed"
    },
    "tags": []
   },
   "outputs": [],
   "source": [
    "def fetch_scheduler(optimizer, cfg= CONFIG):\n",
    "    \"\"\"\n",
    "    Gets leanring rate schedular for given optimizer\n",
    "    \"\"\"\n",
    "    if cfg.scheduler == \"CosineAnnealingLR\":\n",
    "        scheduler= lr_scheduler.CosineAnnealingLR(optimizer, T_max= cfg.T_max, eta_min= cfg.min_lr)\n",
    "    elif cfg.scheduler == \"CosineAnnealingWarmRestarts\":\n",
    "        scheduler= lr_scheduler.CosineAnnealingWarmRestarts(optimizer, T_0= cfg.T_0, eta_min= cfg.min_lr)\n",
    "    elif cfg.scheduler== \"linear\":\n",
    "        scheduler= lr_scheduler.LinearLR(optimizer, start_factor= 0.01, end_factor= 1.0, total_iters= 100)\n",
    "    elif cfg.scheduler == None:\n",
    "        return None\n",
    "\n",
    "    return scheduler"
   ]
  },
  {
   "cell_type": "code",
   "execution_count": 70,
   "id": "c32c2527",
   "metadata": {
    "execution": {
     "iopub.execute_input": "2023-08-13T14:33:55.815650Z",
     "iopub.status.busy": "2023-08-13T14:33:55.814698Z",
     "iopub.status.idle": "2023-08-13T14:33:55.825158Z",
     "shell.execute_reply": "2023-08-13T14:33:55.824293Z"
    },
    "papermill": {
     "duration": 0.06334,
     "end_time": "2023-08-13T14:33:55.827074",
     "exception": false,
     "start_time": "2023-08-13T14:33:55.763734",
     "status": "completed"
    },
    "tags": []
   },
   "outputs": [],
   "source": [
    "def train_one_epoch(model, optimizer, scheduler, dataloader, epoch, device):\n",
    "    \n",
    "    model.train()\n",
    "    dataset_size= 0\n",
    "    running_loss= 0.0\n",
    "    \n",
    "    steps= len(dataloader)\n",
    "    bar= tqdm(enumerate(dataloader), total= len(dataloader))\n",
    "    \n",
    "    for step, data in bar:\n",
    "        # sending data to cpu or gpu if cuda avaiable.\n",
    "        ids= data[\"input_ids\"].to(device, dtype= torch.long)\n",
    "        masks= data[\"attention_mask\"].to(device, dtype= torch.long)\n",
    "        targets= data[\"targets\"].to(device, dtype= torch.long)\n",
    "        \n",
    "        batch_size= ids.size(0)\n",
    "        \n",
    "        #computing model output\n",
    "        outputs= model(ids, masks)\n",
    "        \n",
    "        #loss calcuation\n",
    "        loss= nn.CrossEntropyLoss()(outputs, targets)\n",
    "        if CONFIG.gradient_accumulation_steps > 1:\n",
    "            loss= loss / CONFIG.gradient_accumulation_steps\n",
    "        \n",
    "        loss.backward()\n",
    "        \n",
    "        ## Gradient Accumulation\n",
    "        if (step + 1) % CONFIG.gradient_accumulation_steps == 0 or step == steps - 1:\n",
    "            \n",
    "            optimizer.step() #Performs a single optimization step (parameter update)\n",
    "            \n",
    "            # clear out the gradients of all Variables \n",
    "            # in this optimizer (i.e. W, b)\n",
    "            optimizer.zero_grad()\n",
    "            \n",
    "            if scheduler is not None:\n",
    "                scheduler.step()\n",
    "        \n",
    "        running_loss += (loss.item() * batch_size)\n",
    "        dataset_size += batch_size\n",
    "        \n",
    "        epoch_loss= running_loss / dataset_size\n",
    "        \n",
    "        bar.set_postfix(Epoch= epoch, \n",
    "                        Train_Loss = epoch_loss,\n",
    "                        LR= optimizer.param_groups[0]['lr'],\n",
    "                       )\n",
    "    return epoch_loss"
   ]
  },
  {
   "cell_type": "code",
   "execution_count": 71,
   "id": "93ee7bed",
   "metadata": {
    "execution": {
     "iopub.execute_input": "2023-08-13T14:33:55.925498Z",
     "iopub.status.busy": "2023-08-13T14:33:55.925170Z",
     "iopub.status.idle": "2023-08-13T14:33:55.935148Z",
     "shell.execute_reply": "2023-08-13T14:33:55.934300Z"
    },
    "papermill": {
     "duration": 0.061297,
     "end_time": "2023-08-13T14:33:55.937215",
     "exception": false,
     "start_time": "2023-08-13T14:33:55.875918",
     "status": "completed"
    },
    "tags": []
   },
   "outputs": [],
   "source": [
    "@torch.no_grad()\n",
    "\n",
    "def valid_one_epoch(model, dataloader, epoch, device):\n",
    "    model.eval()\n",
    "    \n",
    "    dataset_size= 0\n",
    "    running_loss= 0.0\n",
    "    \n",
    "    preds= []\n",
    "    labels= []\n",
    "\n",
    "    bar= tqdm(enumerate(dataloader), total= len(dataloader))\n",
    "    \n",
    "    for step, data in bar:\n",
    "        ids= data[\"input_ids\"].to(device, dtype= torch.long)\n",
    "        masks= data[\"attention_mask\"].to(device, dtype= torch.long)\n",
    "        targets= data[\"targets\"].to(device, dtype= torch.long)\n",
    "        \n",
    "        batch_size= ids.size(0)\n",
    "        \n",
    "        outputs= model(ids, masks)\n",
    "        \n",
    "        loss= nn.CrossEntropyLoss()(outputs, targets)\n",
    "        \n",
    "        running_loss += (loss.item() * batch_size)\n",
    "        dataset_size += batch_size\n",
    "        \n",
    "        epoch_loss= running_loss / dataset_size\n",
    "        \n",
    "        preds.append(outputs.argmax(axis=1).to('cpu').numpy())\n",
    "        labels.append(targets.to('cpu').numpy())\n",
    "        bar.set_postfix(Epoch= epoch, \n",
    "                        Valid_Loss = epoch_loss,\n",
    "                       )\n",
    "    predictions= np.concatenate(preds)\n",
    "    true_labels= np.concatenate(labels)\n",
    "    f1score= get_score(true_labels, predictions)\n",
    "    accuracy= get_accuracy(true_labels, predictions)\n",
    "    \n",
    "    return epoch_loss, f1score, accuracy"
   ]
  },
  {
   "cell_type": "code",
   "execution_count": 72,
   "id": "6c6b34d8",
   "metadata": {
    "execution": {
     "iopub.execute_input": "2023-08-13T14:33:56.039359Z",
     "iopub.status.busy": "2023-08-13T14:33:56.039015Z",
     "iopub.status.idle": "2023-08-13T14:33:56.043448Z",
     "shell.execute_reply": "2023-08-13T14:33:56.042325Z"
    },
    "papermill": {
     "duration": 0.059613,
     "end_time": "2023-08-13T14:33:56.045634",
     "exception": false,
     "start_time": "2023-08-13T14:33:55.986021",
     "status": "completed"
    },
    "tags": []
   },
   "outputs": [],
   "source": [
    "import pickle"
   ]
  },
  {
   "cell_type": "code",
   "execution_count": 73,
   "id": "064359d8",
   "metadata": {
    "execution": {
     "iopub.execute_input": "2023-08-13T14:33:56.147797Z",
     "iopub.status.busy": "2023-08-13T14:33:56.147286Z",
     "iopub.status.idle": "2023-08-13T14:33:56.161777Z",
     "shell.execute_reply": "2023-08-13T14:33:56.160834Z"
    },
    "papermill": {
     "duration": 0.069164,
     "end_time": "2023-08-13T14:33:56.163905",
     "exception": false,
     "start_time": "2023-08-13T14:33:56.094741",
     "status": "completed"
    },
    "tags": []
   },
   "outputs": [],
   "source": [
    "def training_loop(model, train_loader, valid_loader, optimizer, scheduler, fold, num_epochs, cfg= CONFIG, patience= 3):\n",
    "\n",
    "    if torch.cuda.is_available():\n",
    "        print(\"Training with GPU\\n\")\n",
    "    else:\n",
    "        Print(\"Training with CPU \\n\")\n",
    "    \n",
    "    start= time.time()\n",
    "    best_score= - np.inf\n",
    "    trigger_times= 0 # for early stoping\n",
    "    \n",
    "    history= defaultdict(list)\n",
    "\n",
    "    for epoch in range(1, num_epochs + 1):\n",
    "\n",
    "        train_epoch_loss= train_one_epoch(model, optimizer, scheduler, dataloader= train_loader, epoch= epoch, device= cfg.device)\n",
    "        val_epoch_loss, f1score, accuracy= valid_one_epoch(model, valid_loader, epoch= epoch, device= cfg.device)\n",
    "        \n",
    "        history['train_loss'].append(train_epoch_loss)\n",
    "        history['valid_loss'].append(val_epoch_loss)\n",
    "        history['F1_score'].append(f1score)\n",
    "        history['Accuracy'].append(accuracy)\n",
    "        \n",
    "        \n",
    "        # Log the metrics for W&B\n",
    "        if cfg.wandb:\n",
    "            wandb.log({\"epoch\": epoch ,\"Train Loss\": train_epoch_loss, \"Valid Loss\": val_epoch_loss})\n",
    "\n",
    "\n",
    "        if f1score >= best_score:\n",
    "            \n",
    "            trigger_times= 0 #for early stop\n",
    "            print(f\"Validation Score Improved ({best_score :.4f} ---> {f1score :.4f})\")\n",
    "            print(f\"Validation Accuracy: {accuracy :.4f}\")\n",
    "            \n",
    "            best_score= f1score\n",
    "            \n",
    "            \n",
    "            # copy and save model\n",
    "            best_model_wts= copy.deepcopy(model.state_dict())\n",
    "            PATH= f\"Resume_Classification_fold-{fold}.bin\"\n",
    "            torch.save(model.state_dict(), PATH)\n",
    "\n",
    "            print(f\"Model Saved to {PATH}\")\n",
    "            \n",
    "            if cfg.wandb:\n",
    "                run.summary['Best Score'] = best_score # for w&b summary\n",
    "                run.summary['Accuracy'] = accuracy\n",
    "        \n",
    "        else:\n",
    "            trigger_times += 1\n",
    "            \n",
    "            if trigger_times >= patience:\n",
    "                print(\"Early stoping \\n\")\n",
    "                break\n",
    "\n",
    "        \n",
    "    end= time.time()\n",
    "    time_elapsed= end - start\n",
    "    print('Training complete in {:.0f}h {:.0f}m {:.0f}s'.format(\n",
    "        time_elapsed // 3600, (time_elapsed % 3600) // 60, (time_elapsed % 3600) % 60))\n",
    "    \n",
    "    print(f\"Best F1 Score: {best_score:.4f}\")\n",
    "    \n",
    "    # load best model weights\n",
    "    model.load_state_dict(best_model_wts)\n",
    "    \n",
    "    if cfg.wandb:\n",
    "        run.join()\n",
    "\n",
    "    return model, history, best_score, accuracy\n"
   ]
  },
  {
   "cell_type": "code",
   "execution_count": 74,
   "id": "af0d1c03",
   "metadata": {
    "execution": {
     "iopub.execute_input": "2023-08-13T14:33:56.266512Z",
     "iopub.status.busy": "2023-08-13T14:33:56.266108Z",
     "iopub.status.idle": "2023-08-13T14:33:56.278215Z",
     "shell.execute_reply": "2023-08-13T14:33:56.277273Z"
    },
    "papermill": {
     "duration": 0.065952,
     "end_time": "2023-08-13T14:33:56.280324",
     "exception": false,
     "start_time": "2023-08-13T14:33:56.214372",
     "status": "completed"
    },
    "tags": []
   },
   "outputs": [],
   "source": [
    "import copy\n",
    "def main():\n",
    "    scores = []\n",
    "    accuracy= []\n",
    "    for fold in range(0, CONFIG.n_fold):\n",
    "        print(\"=\"*10 + f\" Training fold {fold} \" + \"=\"*10)\n",
    "        \n",
    "        if CONFIG.wandb:\n",
    "            run = wandb.init(project='Resueme Classification', \n",
    "                             job_type='Train',\n",
    "                             group=CONFIG.group,\n",
    "                             tags=[CONFIG.model_name_or_path, f'{HASH_NAME}'],\n",
    "                             name=f'Resume_class-{HASH_NAME}-fold-{fold}',\n",
    "                             anonymous='must')\n",
    "\n",
    "    #     artifact = wandb.Artifact('model', type='model')\n",
    "\n",
    "        # Create Dataloaders\n",
    "        train_loader, valid_loader = prepare_loader(train_df, fold= fold, cfg= CONFIG)\n",
    "\n",
    "        # Model\n",
    "        model= ResumeClassifier(model_name= CONFIG.model_name_or_path)\n",
    "        model.to(device= CONFIG.device)\n",
    "\n",
    "        # Optimizer\n",
    "        optimizer= get_optimizer(model.parameters(), cfg= CONFIG)\n",
    "        \n",
    "        scheduler= fetch_scheduler(optimizer, cfg= CONFIG)\n",
    "        \n",
    "        criterion= nn.CrossEntropyLoss()\n",
    "        model, history, fold_best_score, fold_accuracy= training_loop(model, train_loader, valid_loader,\n",
    "                                                                      optimizer, \n",
    "                                                                      scheduler,\n",
    "                                                                      num_epochs= CONFIG.num_epochs, \n",
    "                                                                      fold= fold,\n",
    "                                                                      patience= 3,\n",
    "                                                                      cfg= CONFIG\n",
    "                                                                      )\n",
    "        \n",
    "        \n",
    "        scores.append(fold_best_score)\n",
    "        accuracy.append(fold_accuracy)\n",
    "#         history.to_csv(f\"history_fold{fold}.csv\", index= False)\n",
    "        with open(f'history_fold_{fold}.pickle', 'wb') as f:\n",
    "            pickle.dump(history, f)\n",
    "        \n",
    "        if CONFIG.wandb:\n",
    "            run.finish() # for w&b\n",
    "        \n",
    "        print(\"=\"*10 + f\"Fold {fold} best score\" + '=' * 10)\n",
    "        print(f\"F1 Score: {fold_best_score :.4f}\")\n",
    "        print(f\"Accuracy: {fold_accuracy: .4f}\")\n",
    "        print(\"=\"* 30)\n",
    "\n",
    "        del model, history, train_loader, valid_loader\n",
    "        gc.collect()\n",
    "    \n",
    "\n",
    "    print(\"=\"*10 + \"Ovaerall Performance\" + '=' * 10)\n",
    "    print(f\"F1 Score: {np.mean(scores):.4f}\")\n",
    "    print(f\"Accuracy: {np.mean(accuracy): .4f}\")\n",
    "    print(\"=\"* 30)\n",
    "    \n",
    "    return np.mean(scores)"
   ]
  },
  {
   "cell_type": "code",
   "execution_count": 75,
   "id": "9a7bf218",
   "metadata": {
    "execution": {
     "iopub.execute_input": "2023-08-13T14:33:56.381570Z",
     "iopub.status.busy": "2023-08-13T14:33:56.380627Z",
     "iopub.status.idle": "2023-08-13T14:46:40.528858Z",
     "shell.execute_reply": "2023-08-13T14:46:40.527214Z"
    },
    "papermill": {
     "duration": 764.200637,
     "end_time": "2023-08-13T14:46:40.530720",
     "exception": true,
     "start_time": "2023-08-13T14:33:56.330083",
     "status": "failed"
    },
    "tags": []
   },
   "outputs": [
    {
     "name": "stdout",
     "output_type": "stream",
     "text": [
      "========== Training fold 0 ==========\n"
     ]
    },
    {
     "name": "stderr",
     "output_type": "stream",
     "text": [
      "Some weights of the model checkpoint at microsoft/deberta-v3-large were not used when initializing DebertaV2Model: ['lm_predictions.lm_head.LayerNorm.bias', 'lm_predictions.lm_head.bias', 'lm_predictions.lm_head.LayerNorm.weight', 'mask_predictions.classifier.bias', 'lm_predictions.lm_head.dense.weight', 'lm_predictions.lm_head.dense.bias', 'mask_predictions.LayerNorm.weight', 'mask_predictions.dense.bias', 'mask_predictions.LayerNorm.bias', 'mask_predictions.classifier.weight', 'mask_predictions.dense.weight']\n",
      "- This IS expected if you are initializing DebertaV2Model from the checkpoint of a model trained on another task or with another architecture (e.g. initializing a BertForSequenceClassification model from a BertForPreTraining model).\n",
      "- This IS NOT expected if you are initializing DebertaV2Model from the checkpoint of a model that you expect to be exactly identical (initializing a BertForSequenceClassification model from a BertForSequenceClassification model).\n"
     ]
    },
    {
     "name": "stdout",
     "output_type": "stream",
     "text": [
      "Training with GPU\n",
      "\n"
     ]
    },
    {
     "name": "stderr",
     "output_type": "stream",
     "text": [
      "  0%|          | 0/621 [00:00<?, ?it/s]You're using a DebertaV2TokenizerFast tokenizer. Please note that with a fast tokenizer, using the `__call__` method is faster than using a method to encode the text followed by a call to the `pad` method to get a padded encoding.\n",
      "You're using a DebertaV2TokenizerFast tokenizer. Please note that with a fast tokenizer, using the `__call__` method is faster than using a method to encode the text followed by a call to the `pad` method to get a padded encoding.\n",
      "100%|██████████| 621/621 [10:37<00:00,  1.03s/it, Epoch=1, LR=1.72e-5, Train_Loss=3.23]\n",
      "  0%|          | 0/311 [00:00<?, ?it/s]You're using a DebertaV2TokenizerFast tokenizer. Please note that with a fast tokenizer, using the `__call__` method is faster than using a method to encode the text followed by a call to the `pad` method to get a padded encoding.\n",
      "You're using a DebertaV2TokenizerFast tokenizer. Please note that with a fast tokenizer, using the `__call__` method is faster than using a method to encode the text followed by a call to the `pad` method to get a padded encoding.\n",
      "100%|██████████| 311/311 [01:43<00:00,  2.99it/s, Epoch=1, Valid_Loss=3.2]\n"
     ]
    },
    {
     "name": "stdout",
     "output_type": "stream",
     "text": [
      "Validation Score Improved (-inf ---> 0.0032)\n",
      "Validation Accuracy: 0.0403\n",
      "Model Saved to Resume_Classification_fold-0.bin\n"
     ]
    },
    {
     "name": "stderr",
     "output_type": "stream",
     "text": [
      "  0%|          | 0/621 [00:00<?, ?it/s]You're using a DebertaV2TokenizerFast tokenizer. Please note that with a fast tokenizer, using the `__call__` method is faster than using a method to encode the text followed by a call to the `pad` method to get a padded encoding.\n",
      "You're using a DebertaV2TokenizerFast tokenizer. Please note that with a fast tokenizer, using the `__call__` method is faster than using a method to encode the text followed by a call to the `pad` method to get a padded encoding.\n",
      "  1%|          | 4/621 [00:06<15:41,  1.53s/it, Epoch=2, LR=1.71e-5, Train_Loss=3.21]\n"
     ]
    },
    {
     "data": {
      "text/html": [
       "<pre style=\"white-space:pre;overflow-x:auto;line-height:normal;font-family:Menlo,'DejaVu Sans Mono',consolas,'Courier New',monospace\"><span style=\"color: #800000; text-decoration-color: #800000\">╭─────────────────────────────── </span><span style=\"color: #800000; text-decoration-color: #800000; font-weight: bold\">Traceback </span><span style=\"color: #bf7f7f; text-decoration-color: #bf7f7f; font-weight: bold\">(most recent call last)</span><span style=\"color: #800000; text-decoration-color: #800000\"> ────────────────────────────────╮</span>\n",
       "<span style=\"color: #800000; text-decoration-color: #800000\">│</span> in <span style=\"color: #00ff00; text-decoration-color: #00ff00\">&lt;module&gt;</span>:<span style=\"color: #0000ff; text-decoration-color: #0000ff\">3</span>                                                                                    <span style=\"color: #800000; text-decoration-color: #800000\">│</span>\n",
       "<span style=\"color: #800000; text-decoration-color: #800000\">│</span>                                                                                                  <span style=\"color: #800000; text-decoration-color: #800000\">│</span>\n",
       "<span style=\"color: #800000; text-decoration-color: #800000\">│</span>   <span style=\"color: #7f7f7f; text-decoration-color: #7f7f7f\">1 </span><span style=\"color: #0000ff; text-decoration-color: #0000ff\">if</span> <span style=\"color: #ff0000; text-decoration-color: #ff0000\">__name__</span> == <span style=\"color: #808000; text-decoration-color: #808000\">\"__main__\"</span>:                                                                   <span style=\"color: #800000; text-decoration-color: #800000\">│</span>\n",
       "<span style=\"color: #800000; text-decoration-color: #800000\">│</span>   <span style=\"color: #7f7f7f; text-decoration-color: #7f7f7f\">2 </span><span style=\"color: #7f7f7f; text-decoration-color: #7f7f7f\">│   </span><span style=\"color: #0000ff; text-decoration-color: #0000ff\">if</span> CONFIG.train:                                                                         <span style=\"color: #800000; text-decoration-color: #800000\">│</span>\n",
       "<span style=\"color: #800000; text-decoration-color: #800000\">│</span> <span style=\"color: #800000; text-decoration-color: #800000\">❱ </span>3 <span style=\"color: #7f7f7f; text-decoration-color: #7f7f7f\">│   │   </span>main()                                                                               <span style=\"color: #800000; text-decoration-color: #800000\">│</span>\n",
       "<span style=\"color: #800000; text-decoration-color: #800000\">│</span>   <span style=\"color: #7f7f7f; text-decoration-color: #7f7f7f\">4 </span>                                                                                             <span style=\"color: #800000; text-decoration-color: #800000\">│</span>\n",
       "<span style=\"color: #800000; text-decoration-color: #800000\">│</span>   <span style=\"color: #7f7f7f; text-decoration-color: #7f7f7f\">5 </span>                                                                                             <span style=\"color: #800000; text-decoration-color: #800000\">│</span>\n",
       "<span style=\"color: #800000; text-decoration-color: #800000\">│</span>                                                                                                  <span style=\"color: #800000; text-decoration-color: #800000\">│</span>\n",
       "<span style=\"color: #800000; text-decoration-color: #800000\">│</span> in <span style=\"color: #00ff00; text-decoration-color: #00ff00\">main</span>:<span style=\"color: #0000ff; text-decoration-color: #0000ff\">31</span>                                                                                       <span style=\"color: #800000; text-decoration-color: #800000\">│</span>\n",
       "<span style=\"color: #800000; text-decoration-color: #800000\">│</span>                                                                                                  <span style=\"color: #800000; text-decoration-color: #800000\">│</span>\n",
       "<span style=\"color: #800000; text-decoration-color: #800000\">│</span>   <span style=\"color: #7f7f7f; text-decoration-color: #7f7f7f\">28 </span><span style=\"color: #7f7f7f; text-decoration-color: #7f7f7f\">│   │   </span>scheduler= fetch_scheduler(optimizer, cfg= CONFIG)                                  <span style=\"color: #800000; text-decoration-color: #800000\">│</span>\n",
       "<span style=\"color: #800000; text-decoration-color: #800000\">│</span>   <span style=\"color: #7f7f7f; text-decoration-color: #7f7f7f\">29 </span><span style=\"color: #7f7f7f; text-decoration-color: #7f7f7f\">│   │   </span>                                                                                    <span style=\"color: #800000; text-decoration-color: #800000\">│</span>\n",
       "<span style=\"color: #800000; text-decoration-color: #800000\">│</span>   <span style=\"color: #7f7f7f; text-decoration-color: #7f7f7f\">30 </span><span style=\"color: #7f7f7f; text-decoration-color: #7f7f7f\">│   │   </span>criterion= nn.CrossEntropyLoss()                                                    <span style=\"color: #800000; text-decoration-color: #800000\">│</span>\n",
       "<span style=\"color: #800000; text-decoration-color: #800000\">│</span> <span style=\"color: #800000; text-decoration-color: #800000\">❱ </span>31 <span style=\"color: #7f7f7f; text-decoration-color: #7f7f7f\">│   │   </span>model, history, fold_best_score, fold_accuracy= training_loop(model, train_loade    <span style=\"color: #800000; text-decoration-color: #800000\">│</span>\n",
       "<span style=\"color: #800000; text-decoration-color: #800000\">│</span>   <span style=\"color: #7f7f7f; text-decoration-color: #7f7f7f\">32 </span><span style=\"color: #7f7f7f; text-decoration-color: #7f7f7f\">│   │   │   │   │   │   │   │   │   │   │   │   │   │   │   │   │     </span>optimizer,            <span style=\"color: #800000; text-decoration-color: #800000\">│</span>\n",
       "<span style=\"color: #800000; text-decoration-color: #800000\">│</span>   <span style=\"color: #7f7f7f; text-decoration-color: #7f7f7f\">33 </span><span style=\"color: #7f7f7f; text-decoration-color: #7f7f7f\">│   │   │   │   │   │   │   │   │   │   │   │   │   │   │   │   │     </span>scheduler,            <span style=\"color: #800000; text-decoration-color: #800000\">│</span>\n",
       "<span style=\"color: #800000; text-decoration-color: #800000\">│</span>   <span style=\"color: #7f7f7f; text-decoration-color: #7f7f7f\">34 </span><span style=\"color: #7f7f7f; text-decoration-color: #7f7f7f\">│   │   │   │   │   │   │   │   │   │   │   │   │   │   │   │   │     </span>num_epochs= CONFIG    <span style=\"color: #800000; text-decoration-color: #800000\">│</span>\n",
       "<span style=\"color: #800000; text-decoration-color: #800000\">│</span>                                                                                                  <span style=\"color: #800000; text-decoration-color: #800000\">│</span>\n",
       "<span style=\"color: #800000; text-decoration-color: #800000\">│</span> in <span style=\"color: #00ff00; text-decoration-color: #00ff00\">training_loop</span>:<span style=\"color: #0000ff; text-decoration-color: #0000ff\">16</span>                                                                              <span style=\"color: #800000; text-decoration-color: #800000\">│</span>\n",
       "<span style=\"color: #800000; text-decoration-color: #800000\">│</span>                                                                                                  <span style=\"color: #800000; text-decoration-color: #800000\">│</span>\n",
       "<span style=\"color: #800000; text-decoration-color: #800000\">│</span>   <span style=\"color: #7f7f7f; text-decoration-color: #7f7f7f\">13 </span><span style=\"color: #7f7f7f; text-decoration-color: #7f7f7f\">│   </span>                                                                                        <span style=\"color: #800000; text-decoration-color: #800000\">│</span>\n",
       "<span style=\"color: #800000; text-decoration-color: #800000\">│</span>   <span style=\"color: #7f7f7f; text-decoration-color: #7f7f7f\">14 </span><span style=\"color: #7f7f7f; text-decoration-color: #7f7f7f\">│   </span><span style=\"color: #0000ff; text-decoration-color: #0000ff\">for</span> epoch <span style=\"color: #ff00ff; text-decoration-color: #ff00ff\">in</span> <span style=\"color: #00ffff; text-decoration-color: #00ffff\">range</span>(<span style=\"color: #0000ff; text-decoration-color: #0000ff\">1</span>, num_epochs + <span style=\"color: #0000ff; text-decoration-color: #0000ff\">1</span>):                                                  <span style=\"color: #800000; text-decoration-color: #800000\">│</span>\n",
       "<span style=\"color: #800000; text-decoration-color: #800000\">│</span>   <span style=\"color: #7f7f7f; text-decoration-color: #7f7f7f\">15 </span><span style=\"color: #7f7f7f; text-decoration-color: #7f7f7f\">│   │   </span>                                                                                    <span style=\"color: #800000; text-decoration-color: #800000\">│</span>\n",
       "<span style=\"color: #800000; text-decoration-color: #800000\">│</span> <span style=\"color: #800000; text-decoration-color: #800000\">❱ </span>16 <span style=\"color: #7f7f7f; text-decoration-color: #7f7f7f\">│   │   </span>train_epoch_loss= train_one_epoch(model, optimizer, scheduler, dataloader= train    <span style=\"color: #800000; text-decoration-color: #800000\">│</span>\n",
       "<span style=\"color: #800000; text-decoration-color: #800000\">│</span>   <span style=\"color: #7f7f7f; text-decoration-color: #7f7f7f\">17 </span><span style=\"color: #7f7f7f; text-decoration-color: #7f7f7f\">│   │   </span>val_epoch_loss, f1score, accuracy= valid_one_epoch(model, valid_loader, epoch= e    <span style=\"color: #800000; text-decoration-color: #800000\">│</span>\n",
       "<span style=\"color: #800000; text-decoration-color: #800000\">│</span>   <span style=\"color: #7f7f7f; text-decoration-color: #7f7f7f\">18 </span><span style=\"color: #7f7f7f; text-decoration-color: #7f7f7f\">│   │   </span>                                                                                    <span style=\"color: #800000; text-decoration-color: #800000\">│</span>\n",
       "<span style=\"color: #800000; text-decoration-color: #800000\">│</span>   <span style=\"color: #7f7f7f; text-decoration-color: #7f7f7f\">19 </span><span style=\"color: #7f7f7f; text-decoration-color: #7f7f7f\">│   │   </span>history[<span style=\"color: #808000; text-decoration-color: #808000\">'train_loss'</span>].append(train_epoch_loss)                                      <span style=\"color: #800000; text-decoration-color: #800000\">│</span>\n",
       "<span style=\"color: #800000; text-decoration-color: #800000\">│</span>                                                                                                  <span style=\"color: #800000; text-decoration-color: #800000\">│</span>\n",
       "<span style=\"color: #800000; text-decoration-color: #800000\">│</span> in <span style=\"color: #00ff00; text-decoration-color: #00ff00\">train_one_epoch</span>:<span style=\"color: #0000ff; text-decoration-color: #0000ff\">31</span>                                                                            <span style=\"color: #800000; text-decoration-color: #800000\">│</span>\n",
       "<span style=\"color: #800000; text-decoration-color: #800000\">│</span>                                                                                                  <span style=\"color: #800000; text-decoration-color: #800000\">│</span>\n",
       "<span style=\"color: #800000; text-decoration-color: #800000\">│</span>   <span style=\"color: #7f7f7f; text-decoration-color: #7f7f7f\">28 </span><span style=\"color: #7f7f7f; text-decoration-color: #7f7f7f\">│   │   </span><span style=\"color: #7f7f7f; text-decoration-color: #7f7f7f\">## Gradient Accumulation</span>                                                            <span style=\"color: #800000; text-decoration-color: #800000\">│</span>\n",
       "<span style=\"color: #800000; text-decoration-color: #800000\">│</span>   <span style=\"color: #7f7f7f; text-decoration-color: #7f7f7f\">29 </span><span style=\"color: #7f7f7f; text-decoration-color: #7f7f7f\">│   │   </span><span style=\"color: #0000ff; text-decoration-color: #0000ff\">if</span> (step + <span style=\"color: #0000ff; text-decoration-color: #0000ff\">1</span>) % CONFIG.gradient_accumulation_steps == <span style=\"color: #0000ff; text-decoration-color: #0000ff\">0</span> <span style=\"color: #ff00ff; text-decoration-color: #ff00ff\">or</span> step == steps - <span style=\"color: #0000ff; text-decoration-color: #0000ff\">1</span>:       <span style=\"color: #800000; text-decoration-color: #800000\">│</span>\n",
       "<span style=\"color: #800000; text-decoration-color: #800000\">│</span>   <span style=\"color: #7f7f7f; text-decoration-color: #7f7f7f\">30 </span><span style=\"color: #7f7f7f; text-decoration-color: #7f7f7f\">│   │   │   </span>                                                                                <span style=\"color: #800000; text-decoration-color: #800000\">│</span>\n",
       "<span style=\"color: #800000; text-decoration-color: #800000\">│</span> <span style=\"color: #800000; text-decoration-color: #800000\">❱ </span>31 <span style=\"color: #7f7f7f; text-decoration-color: #7f7f7f\">│   │   │   </span>optimizer.step() <span style=\"color: #7f7f7f; text-decoration-color: #7f7f7f\">#Performs a single optimization step (parameter update)</span>        <span style=\"color: #800000; text-decoration-color: #800000\">│</span>\n",
       "<span style=\"color: #800000; text-decoration-color: #800000\">│</span>   <span style=\"color: #7f7f7f; text-decoration-color: #7f7f7f\">32 </span><span style=\"color: #7f7f7f; text-decoration-color: #7f7f7f\">│   │   │   </span>                                                                                <span style=\"color: #800000; text-decoration-color: #800000\">│</span>\n",
       "<span style=\"color: #800000; text-decoration-color: #800000\">│</span>   <span style=\"color: #7f7f7f; text-decoration-color: #7f7f7f\">33 </span><span style=\"color: #7f7f7f; text-decoration-color: #7f7f7f\">│   │   │   </span><span style=\"color: #7f7f7f; text-decoration-color: #7f7f7f\"># clear out the gradients of all Variables </span>                                     <span style=\"color: #800000; text-decoration-color: #800000\">│</span>\n",
       "<span style=\"color: #800000; text-decoration-color: #800000\">│</span>   <span style=\"color: #7f7f7f; text-decoration-color: #7f7f7f\">34 </span><span style=\"color: #7f7f7f; text-decoration-color: #7f7f7f\">│   │   │   </span><span style=\"color: #7f7f7f; text-decoration-color: #7f7f7f\"># in this optimizer (i.e. W, b)</span>                                                 <span style=\"color: #800000; text-decoration-color: #800000\">│</span>\n",
       "<span style=\"color: #800000; text-decoration-color: #800000\">│</span>                                                                                                  <span style=\"color: #800000; text-decoration-color: #800000\">│</span>\n",
       "<span style=\"color: #800000; text-decoration-color: #800000\">│</span> <span style=\"color: #bfbf7f; text-decoration-color: #bfbf7f\">/opt/conda/lib/python3.10/site-packages/torch/optim/</span><span style=\"color: #808000; text-decoration-color: #808000; font-weight: bold\">lr_scheduler.py</span>:<span style=\"color: #0000ff; text-decoration-color: #0000ff\">69</span> in <span style=\"color: #00ff00; text-decoration-color: #00ff00\">wrapper</span>                <span style=\"color: #800000; text-decoration-color: #800000\">│</span>\n",
       "<span style=\"color: #800000; text-decoration-color: #800000\">│</span>                                                                                                  <span style=\"color: #800000; text-decoration-color: #800000\">│</span>\n",
       "<span style=\"color: #800000; text-decoration-color: #800000\">│</span>   <span style=\"color: #7f7f7f; text-decoration-color: #7f7f7f\">  66 </span><span style=\"color: #7f7f7f; text-decoration-color: #7f7f7f\">│   │   │   │   </span>instance = instance_ref()                                                 <span style=\"color: #800000; text-decoration-color: #800000\">│</span>\n",
       "<span style=\"color: #800000; text-decoration-color: #800000\">│</span>   <span style=\"color: #7f7f7f; text-decoration-color: #7f7f7f\">  67 </span><span style=\"color: #7f7f7f; text-decoration-color: #7f7f7f\">│   │   │   │   </span>instance._step_count += <span style=\"color: #0000ff; text-decoration-color: #0000ff\">1</span>                                                 <span style=\"color: #800000; text-decoration-color: #800000\">│</span>\n",
       "<span style=\"color: #800000; text-decoration-color: #800000\">│</span>   <span style=\"color: #7f7f7f; text-decoration-color: #7f7f7f\">  68 </span><span style=\"color: #7f7f7f; text-decoration-color: #7f7f7f\">│   │   │   │   </span>wrapped = func.<span style=\"color: #00ff00; text-decoration-color: #00ff00\">__get__</span>(instance, <span style=\"color: #00ffff; text-decoration-color: #00ffff\">cls</span>)                                     <span style=\"color: #800000; text-decoration-color: #800000\">│</span>\n",
       "<span style=\"color: #800000; text-decoration-color: #800000\">│</span> <span style=\"color: #800000; text-decoration-color: #800000\">❱ </span>  69 <span style=\"color: #7f7f7f; text-decoration-color: #7f7f7f\">│   │   │   │   </span><span style=\"color: #0000ff; text-decoration-color: #0000ff\">return</span> wrapped(*args, **kwargs)                                           <span style=\"color: #800000; text-decoration-color: #800000\">│</span>\n",
       "<span style=\"color: #800000; text-decoration-color: #800000\">│</span>   <span style=\"color: #7f7f7f; text-decoration-color: #7f7f7f\">  70 </span><span style=\"color: #7f7f7f; text-decoration-color: #7f7f7f\">│   │   │   </span>                                                                              <span style=\"color: #800000; text-decoration-color: #800000\">│</span>\n",
       "<span style=\"color: #800000; text-decoration-color: #800000\">│</span>   <span style=\"color: #7f7f7f; text-decoration-color: #7f7f7f\">  71 </span><span style=\"color: #7f7f7f; text-decoration-color: #7f7f7f\">│   │   │   </span><span style=\"color: #7f7f7f; text-decoration-color: #7f7f7f\"># Note that the returned function here is no longer a bound method,</span>           <span style=\"color: #800000; text-decoration-color: #800000\">│</span>\n",
       "<span style=\"color: #800000; text-decoration-color: #800000\">│</span>   <span style=\"color: #7f7f7f; text-decoration-color: #7f7f7f\">  72 </span><span style=\"color: #7f7f7f; text-decoration-color: #7f7f7f\">│   │   │   </span><span style=\"color: #7f7f7f; text-decoration-color: #7f7f7f\"># so attributes like `__func__` and `__self__` no longer exist.</span>               <span style=\"color: #800000; text-decoration-color: #800000\">│</span>\n",
       "<span style=\"color: #800000; text-decoration-color: #800000\">│</span>                                                                                                  <span style=\"color: #800000; text-decoration-color: #800000\">│</span>\n",
       "<span style=\"color: #800000; text-decoration-color: #800000\">│</span> <span style=\"color: #bfbf7f; text-decoration-color: #bfbf7f\">/opt/conda/lib/python3.10/site-packages/torch/optim/</span><span style=\"color: #808000; text-decoration-color: #808000; font-weight: bold\">optimizer.py</span>:<span style=\"color: #0000ff; text-decoration-color: #0000ff\">280</span> in <span style=\"color: #00ff00; text-decoration-color: #00ff00\">wrapper</span>                  <span style=\"color: #800000; text-decoration-color: #800000\">│</span>\n",
       "<span style=\"color: #800000; text-decoration-color: #800000\">│</span>                                                                                                  <span style=\"color: #800000; text-decoration-color: #800000\">│</span>\n",
       "<span style=\"color: #800000; text-decoration-color: #800000\">│</span>   <span style=\"color: #7f7f7f; text-decoration-color: #7f7f7f\">277 </span><span style=\"color: #7f7f7f; text-decoration-color: #7f7f7f\">│   │   │   │   │   │   │   </span><span style=\"color: #0000ff; text-decoration-color: #0000ff\">raise</span> <span style=\"color: #00ffff; text-decoration-color: #00ffff\">RuntimeError</span>(<span style=\"color: #808000; text-decoration-color: #808000\">f\"{</span>func<span style=\"color: #808000; text-decoration-color: #808000\">} must return None or a tuple of (</span>   <span style=\"color: #800000; text-decoration-color: #800000\">│</span>\n",
       "<span style=\"color: #800000; text-decoration-color: #800000\">│</span>   <span style=\"color: #7f7f7f; text-decoration-color: #7f7f7f\">278 </span><span style=\"color: #7f7f7f; text-decoration-color: #7f7f7f\">│   │   │   │   │   │   │   │   │   │   │      </span><span style=\"color: #808000; text-decoration-color: #808000\">f\"but got {</span>result<span style=\"color: #808000; text-decoration-color: #808000\">}.\"</span>)                       <span style=\"color: #800000; text-decoration-color: #800000\">│</span>\n",
       "<span style=\"color: #800000; text-decoration-color: #800000\">│</span>   <span style=\"color: #7f7f7f; text-decoration-color: #7f7f7f\">279 </span><span style=\"color: #7f7f7f; text-decoration-color: #7f7f7f\">│   │   │   │   </span>                                                                           <span style=\"color: #800000; text-decoration-color: #800000\">│</span>\n",
       "<span style=\"color: #800000; text-decoration-color: #800000\">│</span> <span style=\"color: #800000; text-decoration-color: #800000\">❱ </span>280 <span style=\"color: #7f7f7f; text-decoration-color: #7f7f7f\">│   │   │   │   </span>out = func(*args, **kwargs)                                                <span style=\"color: #800000; text-decoration-color: #800000\">│</span>\n",
       "<span style=\"color: #800000; text-decoration-color: #800000\">│</span>   <span style=\"color: #7f7f7f; text-decoration-color: #7f7f7f\">281 </span><span style=\"color: #7f7f7f; text-decoration-color: #7f7f7f\">│   │   │   │   </span><span style=\"color: #00ffff; text-decoration-color: #00ffff\">self</span>._optimizer_step_code()                                                <span style=\"color: #800000; text-decoration-color: #800000\">│</span>\n",
       "<span style=\"color: #800000; text-decoration-color: #800000\">│</span>   <span style=\"color: #7f7f7f; text-decoration-color: #7f7f7f\">282 </span><span style=\"color: #7f7f7f; text-decoration-color: #7f7f7f\">│   │   │   │   </span>                                                                           <span style=\"color: #800000; text-decoration-color: #800000\">│</span>\n",
       "<span style=\"color: #800000; text-decoration-color: #800000\">│</span>   <span style=\"color: #7f7f7f; text-decoration-color: #7f7f7f\">283 </span><span style=\"color: #7f7f7f; text-decoration-color: #7f7f7f\">│   │   │   │   </span><span style=\"color: #7f7f7f; text-decoration-color: #7f7f7f\"># call optimizer step post hooks</span>                                           <span style=\"color: #800000; text-decoration-color: #800000\">│</span>\n",
       "<span style=\"color: #800000; text-decoration-color: #800000\">│</span>                                                                                                  <span style=\"color: #800000; text-decoration-color: #800000\">│</span>\n",
       "<span style=\"color: #800000; text-decoration-color: #800000\">│</span> <span style=\"color: #bfbf7f; text-decoration-color: #bfbf7f\">/opt/conda/lib/python3.10/site-packages/torch/optim/</span><span style=\"color: #808000; text-decoration-color: #808000; font-weight: bold\">optimizer.py</span>:<span style=\"color: #0000ff; text-decoration-color: #0000ff\">33</span> in <span style=\"color: #00ff00; text-decoration-color: #00ff00\">_use_grad</span>                 <span style=\"color: #800000; text-decoration-color: #800000\">│</span>\n",
       "<span style=\"color: #800000; text-decoration-color: #800000\">│</span>                                                                                                  <span style=\"color: #800000; text-decoration-color: #800000\">│</span>\n",
       "<span style=\"color: #800000; text-decoration-color: #800000\">│</span>   <span style=\"color: #7f7f7f; text-decoration-color: #7f7f7f\"> 30 </span><span style=\"color: #7f7f7f; text-decoration-color: #7f7f7f\">│   │   </span>prev_grad = torch.is_grad_enabled()                                                <span style=\"color: #800000; text-decoration-color: #800000\">│</span>\n",
       "<span style=\"color: #800000; text-decoration-color: #800000\">│</span>   <span style=\"color: #7f7f7f; text-decoration-color: #7f7f7f\"> 31 </span><span style=\"color: #7f7f7f; text-decoration-color: #7f7f7f\">│   │   </span><span style=\"color: #0000ff; text-decoration-color: #0000ff\">try</span>:                                                                               <span style=\"color: #800000; text-decoration-color: #800000\">│</span>\n",
       "<span style=\"color: #800000; text-decoration-color: #800000\">│</span>   <span style=\"color: #7f7f7f; text-decoration-color: #7f7f7f\"> 32 </span><span style=\"color: #7f7f7f; text-decoration-color: #7f7f7f\">│   │   │   </span>torch.set_grad_enabled(<span style=\"color: #00ffff; text-decoration-color: #00ffff\">self</span>.defaults[<span style=\"color: #808000; text-decoration-color: #808000\">'differentiable'</span>])                        <span style=\"color: #800000; text-decoration-color: #800000\">│</span>\n",
       "<span style=\"color: #800000; text-decoration-color: #800000\">│</span> <span style=\"color: #800000; text-decoration-color: #800000\">❱ </span> 33 <span style=\"color: #7f7f7f; text-decoration-color: #7f7f7f\">│   │   │   </span>ret = func(<span style=\"color: #00ffff; text-decoration-color: #00ffff\">self</span>, *args, **kwargs)                                              <span style=\"color: #800000; text-decoration-color: #800000\">│</span>\n",
       "<span style=\"color: #800000; text-decoration-color: #800000\">│</span>   <span style=\"color: #7f7f7f; text-decoration-color: #7f7f7f\"> 34 </span><span style=\"color: #7f7f7f; text-decoration-color: #7f7f7f\">│   │   </span><span style=\"color: #0000ff; text-decoration-color: #0000ff\">finally</span>:                                                                           <span style=\"color: #800000; text-decoration-color: #800000\">│</span>\n",
       "<span style=\"color: #800000; text-decoration-color: #800000\">│</span>   <span style=\"color: #7f7f7f; text-decoration-color: #7f7f7f\"> 35 </span><span style=\"color: #7f7f7f; text-decoration-color: #7f7f7f\">│   │   │   </span>torch.set_grad_enabled(prev_grad)                                              <span style=\"color: #800000; text-decoration-color: #800000\">│</span>\n",
       "<span style=\"color: #800000; text-decoration-color: #800000\">│</span>   <span style=\"color: #7f7f7f; text-decoration-color: #7f7f7f\"> 36 </span><span style=\"color: #7f7f7f; text-decoration-color: #7f7f7f\">│   │   </span><span style=\"color: #0000ff; text-decoration-color: #0000ff\">return</span> ret                                                                         <span style=\"color: #800000; text-decoration-color: #800000\">│</span>\n",
       "<span style=\"color: #800000; text-decoration-color: #800000\">│</span>                                                                                                  <span style=\"color: #800000; text-decoration-color: #800000\">│</span>\n",
       "<span style=\"color: #800000; text-decoration-color: #800000\">│</span> <span style=\"color: #bfbf7f; text-decoration-color: #bfbf7f\">/opt/conda/lib/python3.10/site-packages/torch/optim/</span><span style=\"color: #808000; text-decoration-color: #808000; font-weight: bold\">adamw.py</span>:<span style=\"color: #0000ff; text-decoration-color: #0000ff\">171</span> in <span style=\"color: #00ff00; text-decoration-color: #00ff00\">step</span>                         <span style=\"color: #800000; text-decoration-color: #800000\">│</span>\n",
       "<span style=\"color: #800000; text-decoration-color: #800000\">│</span>                                                                                                  <span style=\"color: #800000; text-decoration-color: #800000\">│</span>\n",
       "<span style=\"color: #800000; text-decoration-color: #800000\">│</span>   <span style=\"color: #7f7f7f; text-decoration-color: #7f7f7f\">168 </span><span style=\"color: #7f7f7f; text-decoration-color: #7f7f7f\">│   │   │   │   </span>state_steps,                                                               <span style=\"color: #800000; text-decoration-color: #800000\">│</span>\n",
       "<span style=\"color: #800000; text-decoration-color: #800000\">│</span>   <span style=\"color: #7f7f7f; text-decoration-color: #7f7f7f\">169 </span><span style=\"color: #7f7f7f; text-decoration-color: #7f7f7f\">│   │   │   </span>)                                                                              <span style=\"color: #800000; text-decoration-color: #800000\">│</span>\n",
       "<span style=\"color: #800000; text-decoration-color: #800000\">│</span>   <span style=\"color: #7f7f7f; text-decoration-color: #7f7f7f\">170 </span><span style=\"color: #7f7f7f; text-decoration-color: #7f7f7f\">│   │   │   </span>                                                                               <span style=\"color: #800000; text-decoration-color: #800000\">│</span>\n",
       "<span style=\"color: #800000; text-decoration-color: #800000\">│</span> <span style=\"color: #800000; text-decoration-color: #800000\">❱ </span>171 <span style=\"color: #7f7f7f; text-decoration-color: #7f7f7f\">│   │   │   </span>adamw(                                                                         <span style=\"color: #800000; text-decoration-color: #800000\">│</span>\n",
       "<span style=\"color: #800000; text-decoration-color: #800000\">│</span>   <span style=\"color: #7f7f7f; text-decoration-color: #7f7f7f\">172 </span><span style=\"color: #7f7f7f; text-decoration-color: #7f7f7f\">│   │   │   │   </span>params_with_grad,                                                          <span style=\"color: #800000; text-decoration-color: #800000\">│</span>\n",
       "<span style=\"color: #800000; text-decoration-color: #800000\">│</span>   <span style=\"color: #7f7f7f; text-decoration-color: #7f7f7f\">173 </span><span style=\"color: #7f7f7f; text-decoration-color: #7f7f7f\">│   │   │   │   </span>grads,                                                                     <span style=\"color: #800000; text-decoration-color: #800000\">│</span>\n",
       "<span style=\"color: #800000; text-decoration-color: #800000\">│</span>   <span style=\"color: #7f7f7f; text-decoration-color: #7f7f7f\">174 </span><span style=\"color: #7f7f7f; text-decoration-color: #7f7f7f\">│   │   │   │   </span>exp_avgs,                                                                  <span style=\"color: #800000; text-decoration-color: #800000\">│</span>\n",
       "<span style=\"color: #800000; text-decoration-color: #800000\">│</span>                                                                                                  <span style=\"color: #800000; text-decoration-color: #800000\">│</span>\n",
       "<span style=\"color: #800000; text-decoration-color: #800000\">│</span> <span style=\"color: #bfbf7f; text-decoration-color: #bfbf7f\">/opt/conda/lib/python3.10/site-packages/torch/optim/</span><span style=\"color: #808000; text-decoration-color: #808000; font-weight: bold\">adamw.py</span>:<span style=\"color: #0000ff; text-decoration-color: #0000ff\">321</span> in <span style=\"color: #00ff00; text-decoration-color: #00ff00\">adamw</span>                        <span style=\"color: #800000; text-decoration-color: #800000\">│</span>\n",
       "<span style=\"color: #800000; text-decoration-color: #800000\">│</span>                                                                                                  <span style=\"color: #800000; text-decoration-color: #800000\">│</span>\n",
       "<span style=\"color: #800000; text-decoration-color: #800000\">│</span>   <span style=\"color: #7f7f7f; text-decoration-color: #7f7f7f\">318 </span><span style=\"color: #7f7f7f; text-decoration-color: #7f7f7f\">│   </span><span style=\"color: #0000ff; text-decoration-color: #0000ff\">else</span>:                                                                                  <span style=\"color: #800000; text-decoration-color: #800000\">│</span>\n",
       "<span style=\"color: #800000; text-decoration-color: #800000\">│</span>   <span style=\"color: #7f7f7f; text-decoration-color: #7f7f7f\">319 </span><span style=\"color: #7f7f7f; text-decoration-color: #7f7f7f\">│   │   </span>func = _single_tensor_adamw                                                        <span style=\"color: #800000; text-decoration-color: #800000\">│</span>\n",
       "<span style=\"color: #800000; text-decoration-color: #800000\">│</span>   <span style=\"color: #7f7f7f; text-decoration-color: #7f7f7f\">320 </span><span style=\"color: #7f7f7f; text-decoration-color: #7f7f7f\">│   </span>                                                                                       <span style=\"color: #800000; text-decoration-color: #800000\">│</span>\n",
       "<span style=\"color: #800000; text-decoration-color: #800000\">│</span> <span style=\"color: #800000; text-decoration-color: #800000\">❱ </span>321 <span style=\"color: #7f7f7f; text-decoration-color: #7f7f7f\">│   </span>func(                                                                                  <span style=\"color: #800000; text-decoration-color: #800000\">│</span>\n",
       "<span style=\"color: #800000; text-decoration-color: #800000\">│</span>   <span style=\"color: #7f7f7f; text-decoration-color: #7f7f7f\">322 </span><span style=\"color: #7f7f7f; text-decoration-color: #7f7f7f\">│   │   </span>params,                                                                            <span style=\"color: #800000; text-decoration-color: #800000\">│</span>\n",
       "<span style=\"color: #800000; text-decoration-color: #800000\">│</span>   <span style=\"color: #7f7f7f; text-decoration-color: #7f7f7f\">323 </span><span style=\"color: #7f7f7f; text-decoration-color: #7f7f7f\">│   │   </span>grads,                                                                             <span style=\"color: #800000; text-decoration-color: #800000\">│</span>\n",
       "<span style=\"color: #800000; text-decoration-color: #800000\">│</span>   <span style=\"color: #7f7f7f; text-decoration-color: #7f7f7f\">324 </span><span style=\"color: #7f7f7f; text-decoration-color: #7f7f7f\">│   │   </span>exp_avgs,                                                                          <span style=\"color: #800000; text-decoration-color: #800000\">│</span>\n",
       "<span style=\"color: #800000; text-decoration-color: #800000\">│</span>                                                                                                  <span style=\"color: #800000; text-decoration-color: #800000\">│</span>\n",
       "<span style=\"color: #800000; text-decoration-color: #800000\">│</span> <span style=\"color: #bfbf7f; text-decoration-color: #bfbf7f\">/opt/conda/lib/python3.10/site-packages/torch/optim/</span><span style=\"color: #808000; text-decoration-color: #808000; font-weight: bold\">adamw.py</span>:<span style=\"color: #0000ff; text-decoration-color: #0000ff\">564</span> in <span style=\"color: #00ff00; text-decoration-color: #00ff00\">_multi_tensor_adamw</span>          <span style=\"color: #800000; text-decoration-color: #800000\">│</span>\n",
       "<span style=\"color: #800000; text-decoration-color: #800000\">│</span>                                                                                                  <span style=\"color: #800000; text-decoration-color: #800000\">│</span>\n",
       "<span style=\"color: #800000; text-decoration-color: #800000\">│</span>   <span style=\"color: #7f7f7f; text-decoration-color: #7f7f7f\">561 </span><span style=\"color: #7f7f7f; text-decoration-color: #7f7f7f\">│   │   │   │   </span>torch._foreach_div_(max_exp_avg_sq_sqrt, bias_correction2_sqrt)            <span style=\"color: #800000; text-decoration-color: #800000\">│</span>\n",
       "<span style=\"color: #800000; text-decoration-color: #800000\">│</span>   <span style=\"color: #7f7f7f; text-decoration-color: #7f7f7f\">562 </span><span style=\"color: #7f7f7f; text-decoration-color: #7f7f7f\">│   │   │   │   </span>denom = torch._foreach_add(max_exp_avg_sq_sqrt, eps)                       <span style=\"color: #800000; text-decoration-color: #800000\">│</span>\n",
       "<span style=\"color: #800000; text-decoration-color: #800000\">│</span>   <span style=\"color: #7f7f7f; text-decoration-color: #7f7f7f\">563 </span><span style=\"color: #7f7f7f; text-decoration-color: #7f7f7f\">│   │   │   </span><span style=\"color: #0000ff; text-decoration-color: #0000ff\">else</span>:                                                                          <span style=\"color: #800000; text-decoration-color: #800000\">│</span>\n",
       "<span style=\"color: #800000; text-decoration-color: #800000\">│</span> <span style=\"color: #800000; text-decoration-color: #800000\">❱ </span>564 <span style=\"color: #7f7f7f; text-decoration-color: #7f7f7f\">│   │   │   │   </span>exp_avg_sq_sqrt = torch._foreach_sqrt(device_exp_avg_sqs)                  <span style=\"color: #800000; text-decoration-color: #800000\">│</span>\n",
       "<span style=\"color: #800000; text-decoration-color: #800000\">│</span>   <span style=\"color: #7f7f7f; text-decoration-color: #7f7f7f\">565 </span><span style=\"color: #7f7f7f; text-decoration-color: #7f7f7f\">│   │   │   │   </span>torch._foreach_div_(exp_avg_sq_sqrt, bias_correction2_sqrt)                <span style=\"color: #800000; text-decoration-color: #800000\">│</span>\n",
       "<span style=\"color: #800000; text-decoration-color: #800000\">│</span>   <span style=\"color: #7f7f7f; text-decoration-color: #7f7f7f\">566 </span><span style=\"color: #7f7f7f; text-decoration-color: #7f7f7f\">│   │   │   │   </span>denom = torch._foreach_add(exp_avg_sq_sqrt, eps)                           <span style=\"color: #800000; text-decoration-color: #800000\">│</span>\n",
       "<span style=\"color: #800000; text-decoration-color: #800000\">│</span>   <span style=\"color: #7f7f7f; text-decoration-color: #7f7f7f\">567 </span>                                                                                           <span style=\"color: #800000; text-decoration-color: #800000\">│</span>\n",
       "<span style=\"color: #800000; text-decoration-color: #800000\">╰──────────────────────────────────────────────────────────────────────────────────────────────────╯</span>\n",
       "<span style=\"color: #ff0000; text-decoration-color: #ff0000; font-weight: bold\">OutOfMemoryError: </span>CUDA out of memory. Tried to allocate <span style=\"color: #008080; text-decoration-color: #008080; font-weight: bold\">502.00</span> MiB <span style=\"font-weight: bold\">(</span>GPU <span style=\"color: #008080; text-decoration-color: #008080; font-weight: bold\">0</span>; <span style=\"color: #008080; text-decoration-color: #008080; font-weight: bold\">15.90</span> GiB total capacity; <span style=\"color: #008080; text-decoration-color: #008080; font-weight: bold\">8.11</span> GiB \n",
       "already allocated; <span style=\"color: #008080; text-decoration-color: #008080; font-weight: bold\">307.75</span> MiB free; <span style=\"color: #008080; text-decoration-color: #008080; font-weight: bold\">14.71</span> GiB reserved in total by PyTorch<span style=\"font-weight: bold\">)</span> If reserved memory is &gt;&gt; allocated \n",
       "memory try setting max_split_size_mb to avoid fragmentation.  See documentation for Memory Management and \n",
       "PYTORCH_CUDA_ALLOC_CONF\n",
       "</pre>\n"
      ],
      "text/plain": [
       "\u001b[31m╭─\u001b[0m\u001b[31m──────────────────────────────\u001b[0m\u001b[31m \u001b[0m\u001b[1;31mTraceback \u001b[0m\u001b[1;2;31m(most recent call last)\u001b[0m\u001b[31m \u001b[0m\u001b[31m───────────────────────────────\u001b[0m\u001b[31m─╮\u001b[0m\n",
       "\u001b[31m│\u001b[0m in \u001b[92m<module>\u001b[0m:\u001b[94m3\u001b[0m                                                                                    \u001b[31m│\u001b[0m\n",
       "\u001b[31m│\u001b[0m                                                                                                  \u001b[31m│\u001b[0m\n",
       "\u001b[31m│\u001b[0m   \u001b[2m1 \u001b[0m\u001b[94mif\u001b[0m \u001b[91m__name__\u001b[0m == \u001b[33m\"\u001b[0m\u001b[33m__main__\u001b[0m\u001b[33m\"\u001b[0m:                                                                   \u001b[31m│\u001b[0m\n",
       "\u001b[31m│\u001b[0m   \u001b[2m2 \u001b[0m\u001b[2m│   \u001b[0m\u001b[94mif\u001b[0m CONFIG.train:                                                                         \u001b[31m│\u001b[0m\n",
       "\u001b[31m│\u001b[0m \u001b[31m❱ \u001b[0m3 \u001b[2m│   │   \u001b[0mmain()                                                                               \u001b[31m│\u001b[0m\n",
       "\u001b[31m│\u001b[0m   \u001b[2m4 \u001b[0m                                                                                             \u001b[31m│\u001b[0m\n",
       "\u001b[31m│\u001b[0m   \u001b[2m5 \u001b[0m                                                                                             \u001b[31m│\u001b[0m\n",
       "\u001b[31m│\u001b[0m                                                                                                  \u001b[31m│\u001b[0m\n",
       "\u001b[31m│\u001b[0m in \u001b[92mmain\u001b[0m:\u001b[94m31\u001b[0m                                                                                       \u001b[31m│\u001b[0m\n",
       "\u001b[31m│\u001b[0m                                                                                                  \u001b[31m│\u001b[0m\n",
       "\u001b[31m│\u001b[0m   \u001b[2m28 \u001b[0m\u001b[2m│   │   \u001b[0mscheduler= fetch_scheduler(optimizer, cfg= CONFIG)                                  \u001b[31m│\u001b[0m\n",
       "\u001b[31m│\u001b[0m   \u001b[2m29 \u001b[0m\u001b[2m│   │   \u001b[0m                                                                                    \u001b[31m│\u001b[0m\n",
       "\u001b[31m│\u001b[0m   \u001b[2m30 \u001b[0m\u001b[2m│   │   \u001b[0mcriterion= nn.CrossEntropyLoss()                                                    \u001b[31m│\u001b[0m\n",
       "\u001b[31m│\u001b[0m \u001b[31m❱ \u001b[0m31 \u001b[2m│   │   \u001b[0mmodel, history, fold_best_score, fold_accuracy= training_loop(model, train_loade    \u001b[31m│\u001b[0m\n",
       "\u001b[31m│\u001b[0m   \u001b[2m32 \u001b[0m\u001b[2m│   │   │   │   │   │   │   │   │   │   │   │   │   │   │   │   │     \u001b[0moptimizer,            \u001b[31m│\u001b[0m\n",
       "\u001b[31m│\u001b[0m   \u001b[2m33 \u001b[0m\u001b[2m│   │   │   │   │   │   │   │   │   │   │   │   │   │   │   │   │     \u001b[0mscheduler,            \u001b[31m│\u001b[0m\n",
       "\u001b[31m│\u001b[0m   \u001b[2m34 \u001b[0m\u001b[2m│   │   │   │   │   │   │   │   │   │   │   │   │   │   │   │   │     \u001b[0mnum_epochs= CONFIG    \u001b[31m│\u001b[0m\n",
       "\u001b[31m│\u001b[0m                                                                                                  \u001b[31m│\u001b[0m\n",
       "\u001b[31m│\u001b[0m in \u001b[92mtraining_loop\u001b[0m:\u001b[94m16\u001b[0m                                                                              \u001b[31m│\u001b[0m\n",
       "\u001b[31m│\u001b[0m                                                                                                  \u001b[31m│\u001b[0m\n",
       "\u001b[31m│\u001b[0m   \u001b[2m13 \u001b[0m\u001b[2m│   \u001b[0m                                                                                        \u001b[31m│\u001b[0m\n",
       "\u001b[31m│\u001b[0m   \u001b[2m14 \u001b[0m\u001b[2m│   \u001b[0m\u001b[94mfor\u001b[0m epoch \u001b[95min\u001b[0m \u001b[96mrange\u001b[0m(\u001b[94m1\u001b[0m, num_epochs + \u001b[94m1\u001b[0m):                                                  \u001b[31m│\u001b[0m\n",
       "\u001b[31m│\u001b[0m   \u001b[2m15 \u001b[0m\u001b[2m│   │   \u001b[0m                                                                                    \u001b[31m│\u001b[0m\n",
       "\u001b[31m│\u001b[0m \u001b[31m❱ \u001b[0m16 \u001b[2m│   │   \u001b[0mtrain_epoch_loss= train_one_epoch(model, optimizer, scheduler, dataloader= train    \u001b[31m│\u001b[0m\n",
       "\u001b[31m│\u001b[0m   \u001b[2m17 \u001b[0m\u001b[2m│   │   \u001b[0mval_epoch_loss, f1score, accuracy= valid_one_epoch(model, valid_loader, epoch= e    \u001b[31m│\u001b[0m\n",
       "\u001b[31m│\u001b[0m   \u001b[2m18 \u001b[0m\u001b[2m│   │   \u001b[0m                                                                                    \u001b[31m│\u001b[0m\n",
       "\u001b[31m│\u001b[0m   \u001b[2m19 \u001b[0m\u001b[2m│   │   \u001b[0mhistory[\u001b[33m'\u001b[0m\u001b[33mtrain_loss\u001b[0m\u001b[33m'\u001b[0m].append(train_epoch_loss)                                      \u001b[31m│\u001b[0m\n",
       "\u001b[31m│\u001b[0m                                                                                                  \u001b[31m│\u001b[0m\n",
       "\u001b[31m│\u001b[0m in \u001b[92mtrain_one_epoch\u001b[0m:\u001b[94m31\u001b[0m                                                                            \u001b[31m│\u001b[0m\n",
       "\u001b[31m│\u001b[0m                                                                                                  \u001b[31m│\u001b[0m\n",
       "\u001b[31m│\u001b[0m   \u001b[2m28 \u001b[0m\u001b[2m│   │   \u001b[0m\u001b[2m## Gradient Accumulation\u001b[0m                                                            \u001b[31m│\u001b[0m\n",
       "\u001b[31m│\u001b[0m   \u001b[2m29 \u001b[0m\u001b[2m│   │   \u001b[0m\u001b[94mif\u001b[0m (step + \u001b[94m1\u001b[0m) % CONFIG.gradient_accumulation_steps == \u001b[94m0\u001b[0m \u001b[95mor\u001b[0m step == steps - \u001b[94m1\u001b[0m:       \u001b[31m│\u001b[0m\n",
       "\u001b[31m│\u001b[0m   \u001b[2m30 \u001b[0m\u001b[2m│   │   │   \u001b[0m                                                                                \u001b[31m│\u001b[0m\n",
       "\u001b[31m│\u001b[0m \u001b[31m❱ \u001b[0m31 \u001b[2m│   │   │   \u001b[0moptimizer.step() \u001b[2m#Performs a single optimization step (parameter update)\u001b[0m        \u001b[31m│\u001b[0m\n",
       "\u001b[31m│\u001b[0m   \u001b[2m32 \u001b[0m\u001b[2m│   │   │   \u001b[0m                                                                                \u001b[31m│\u001b[0m\n",
       "\u001b[31m│\u001b[0m   \u001b[2m33 \u001b[0m\u001b[2m│   │   │   \u001b[0m\u001b[2m# clear out the gradients of all Variables \u001b[0m                                     \u001b[31m│\u001b[0m\n",
       "\u001b[31m│\u001b[0m   \u001b[2m34 \u001b[0m\u001b[2m│   │   │   \u001b[0m\u001b[2m# in this optimizer (i.e. W, b)\u001b[0m                                                 \u001b[31m│\u001b[0m\n",
       "\u001b[31m│\u001b[0m                                                                                                  \u001b[31m│\u001b[0m\n",
       "\u001b[31m│\u001b[0m \u001b[2;33m/opt/conda/lib/python3.10/site-packages/torch/optim/\u001b[0m\u001b[1;33mlr_scheduler.py\u001b[0m:\u001b[94m69\u001b[0m in \u001b[92mwrapper\u001b[0m                \u001b[31m│\u001b[0m\n",
       "\u001b[31m│\u001b[0m                                                                                                  \u001b[31m│\u001b[0m\n",
       "\u001b[31m│\u001b[0m   \u001b[2m  66 \u001b[0m\u001b[2m│   │   │   │   \u001b[0minstance = instance_ref()                                                 \u001b[31m│\u001b[0m\n",
       "\u001b[31m│\u001b[0m   \u001b[2m  67 \u001b[0m\u001b[2m│   │   │   │   \u001b[0minstance._step_count += \u001b[94m1\u001b[0m                                                 \u001b[31m│\u001b[0m\n",
       "\u001b[31m│\u001b[0m   \u001b[2m  68 \u001b[0m\u001b[2m│   │   │   │   \u001b[0mwrapped = func.\u001b[92m__get__\u001b[0m(instance, \u001b[96mcls\u001b[0m)                                     \u001b[31m│\u001b[0m\n",
       "\u001b[31m│\u001b[0m \u001b[31m❱ \u001b[0m  69 \u001b[2m│   │   │   │   \u001b[0m\u001b[94mreturn\u001b[0m wrapped(*args, **kwargs)                                           \u001b[31m│\u001b[0m\n",
       "\u001b[31m│\u001b[0m   \u001b[2m  70 \u001b[0m\u001b[2m│   │   │   \u001b[0m                                                                              \u001b[31m│\u001b[0m\n",
       "\u001b[31m│\u001b[0m   \u001b[2m  71 \u001b[0m\u001b[2m│   │   │   \u001b[0m\u001b[2m# Note that the returned function here is no longer a bound method,\u001b[0m           \u001b[31m│\u001b[0m\n",
       "\u001b[31m│\u001b[0m   \u001b[2m  72 \u001b[0m\u001b[2m│   │   │   \u001b[0m\u001b[2m# so attributes like `__func__` and `__self__` no longer exist.\u001b[0m               \u001b[31m│\u001b[0m\n",
       "\u001b[31m│\u001b[0m                                                                                                  \u001b[31m│\u001b[0m\n",
       "\u001b[31m│\u001b[0m \u001b[2;33m/opt/conda/lib/python3.10/site-packages/torch/optim/\u001b[0m\u001b[1;33moptimizer.py\u001b[0m:\u001b[94m280\u001b[0m in \u001b[92mwrapper\u001b[0m                  \u001b[31m│\u001b[0m\n",
       "\u001b[31m│\u001b[0m                                                                                                  \u001b[31m│\u001b[0m\n",
       "\u001b[31m│\u001b[0m   \u001b[2m277 \u001b[0m\u001b[2m│   │   │   │   │   │   │   \u001b[0m\u001b[94mraise\u001b[0m \u001b[96mRuntimeError\u001b[0m(\u001b[33mf\u001b[0m\u001b[33m\"\u001b[0m\u001b[33m{\u001b[0mfunc\u001b[33m}\u001b[0m\u001b[33m must return None or a tuple of (\u001b[0m   \u001b[31m│\u001b[0m\n",
       "\u001b[31m│\u001b[0m   \u001b[2m278 \u001b[0m\u001b[2m│   │   │   │   │   │   │   │   │   │   │      \u001b[0m\u001b[33mf\u001b[0m\u001b[33m\"\u001b[0m\u001b[33mbut got \u001b[0m\u001b[33m{\u001b[0mresult\u001b[33m}\u001b[0m\u001b[33m.\u001b[0m\u001b[33m\"\u001b[0m)                       \u001b[31m│\u001b[0m\n",
       "\u001b[31m│\u001b[0m   \u001b[2m279 \u001b[0m\u001b[2m│   │   │   │   \u001b[0m                                                                           \u001b[31m│\u001b[0m\n",
       "\u001b[31m│\u001b[0m \u001b[31m❱ \u001b[0m280 \u001b[2m│   │   │   │   \u001b[0mout = func(*args, **kwargs)                                                \u001b[31m│\u001b[0m\n",
       "\u001b[31m│\u001b[0m   \u001b[2m281 \u001b[0m\u001b[2m│   │   │   │   \u001b[0m\u001b[96mself\u001b[0m._optimizer_step_code()                                                \u001b[31m│\u001b[0m\n",
       "\u001b[31m│\u001b[0m   \u001b[2m282 \u001b[0m\u001b[2m│   │   │   │   \u001b[0m                                                                           \u001b[31m│\u001b[0m\n",
       "\u001b[31m│\u001b[0m   \u001b[2m283 \u001b[0m\u001b[2m│   │   │   │   \u001b[0m\u001b[2m# call optimizer step post hooks\u001b[0m                                           \u001b[31m│\u001b[0m\n",
       "\u001b[31m│\u001b[0m                                                                                                  \u001b[31m│\u001b[0m\n",
       "\u001b[31m│\u001b[0m \u001b[2;33m/opt/conda/lib/python3.10/site-packages/torch/optim/\u001b[0m\u001b[1;33moptimizer.py\u001b[0m:\u001b[94m33\u001b[0m in \u001b[92m_use_grad\u001b[0m                 \u001b[31m│\u001b[0m\n",
       "\u001b[31m│\u001b[0m                                                                                                  \u001b[31m│\u001b[0m\n",
       "\u001b[31m│\u001b[0m   \u001b[2m 30 \u001b[0m\u001b[2m│   │   \u001b[0mprev_grad = torch.is_grad_enabled()                                                \u001b[31m│\u001b[0m\n",
       "\u001b[31m│\u001b[0m   \u001b[2m 31 \u001b[0m\u001b[2m│   │   \u001b[0m\u001b[94mtry\u001b[0m:                                                                               \u001b[31m│\u001b[0m\n",
       "\u001b[31m│\u001b[0m   \u001b[2m 32 \u001b[0m\u001b[2m│   │   │   \u001b[0mtorch.set_grad_enabled(\u001b[96mself\u001b[0m.defaults[\u001b[33m'\u001b[0m\u001b[33mdifferentiable\u001b[0m\u001b[33m'\u001b[0m])                        \u001b[31m│\u001b[0m\n",
       "\u001b[31m│\u001b[0m \u001b[31m❱ \u001b[0m 33 \u001b[2m│   │   │   \u001b[0mret = func(\u001b[96mself\u001b[0m, *args, **kwargs)                                              \u001b[31m│\u001b[0m\n",
       "\u001b[31m│\u001b[0m   \u001b[2m 34 \u001b[0m\u001b[2m│   │   \u001b[0m\u001b[94mfinally\u001b[0m:                                                                           \u001b[31m│\u001b[0m\n",
       "\u001b[31m│\u001b[0m   \u001b[2m 35 \u001b[0m\u001b[2m│   │   │   \u001b[0mtorch.set_grad_enabled(prev_grad)                                              \u001b[31m│\u001b[0m\n",
       "\u001b[31m│\u001b[0m   \u001b[2m 36 \u001b[0m\u001b[2m│   │   \u001b[0m\u001b[94mreturn\u001b[0m ret                                                                         \u001b[31m│\u001b[0m\n",
       "\u001b[31m│\u001b[0m                                                                                                  \u001b[31m│\u001b[0m\n",
       "\u001b[31m│\u001b[0m \u001b[2;33m/opt/conda/lib/python3.10/site-packages/torch/optim/\u001b[0m\u001b[1;33madamw.py\u001b[0m:\u001b[94m171\u001b[0m in \u001b[92mstep\u001b[0m                         \u001b[31m│\u001b[0m\n",
       "\u001b[31m│\u001b[0m                                                                                                  \u001b[31m│\u001b[0m\n",
       "\u001b[31m│\u001b[0m   \u001b[2m168 \u001b[0m\u001b[2m│   │   │   │   \u001b[0mstate_steps,                                                               \u001b[31m│\u001b[0m\n",
       "\u001b[31m│\u001b[0m   \u001b[2m169 \u001b[0m\u001b[2m│   │   │   \u001b[0m)                                                                              \u001b[31m│\u001b[0m\n",
       "\u001b[31m│\u001b[0m   \u001b[2m170 \u001b[0m\u001b[2m│   │   │   \u001b[0m                                                                               \u001b[31m│\u001b[0m\n",
       "\u001b[31m│\u001b[0m \u001b[31m❱ \u001b[0m171 \u001b[2m│   │   │   \u001b[0madamw(                                                                         \u001b[31m│\u001b[0m\n",
       "\u001b[31m│\u001b[0m   \u001b[2m172 \u001b[0m\u001b[2m│   │   │   │   \u001b[0mparams_with_grad,                                                          \u001b[31m│\u001b[0m\n",
       "\u001b[31m│\u001b[0m   \u001b[2m173 \u001b[0m\u001b[2m│   │   │   │   \u001b[0mgrads,                                                                     \u001b[31m│\u001b[0m\n",
       "\u001b[31m│\u001b[0m   \u001b[2m174 \u001b[0m\u001b[2m│   │   │   │   \u001b[0mexp_avgs,                                                                  \u001b[31m│\u001b[0m\n",
       "\u001b[31m│\u001b[0m                                                                                                  \u001b[31m│\u001b[0m\n",
       "\u001b[31m│\u001b[0m \u001b[2;33m/opt/conda/lib/python3.10/site-packages/torch/optim/\u001b[0m\u001b[1;33madamw.py\u001b[0m:\u001b[94m321\u001b[0m in \u001b[92madamw\u001b[0m                        \u001b[31m│\u001b[0m\n",
       "\u001b[31m│\u001b[0m                                                                                                  \u001b[31m│\u001b[0m\n",
       "\u001b[31m│\u001b[0m   \u001b[2m318 \u001b[0m\u001b[2m│   \u001b[0m\u001b[94melse\u001b[0m:                                                                                  \u001b[31m│\u001b[0m\n",
       "\u001b[31m│\u001b[0m   \u001b[2m319 \u001b[0m\u001b[2m│   │   \u001b[0mfunc = _single_tensor_adamw                                                        \u001b[31m│\u001b[0m\n",
       "\u001b[31m│\u001b[0m   \u001b[2m320 \u001b[0m\u001b[2m│   \u001b[0m                                                                                       \u001b[31m│\u001b[0m\n",
       "\u001b[31m│\u001b[0m \u001b[31m❱ \u001b[0m321 \u001b[2m│   \u001b[0mfunc(                                                                                  \u001b[31m│\u001b[0m\n",
       "\u001b[31m│\u001b[0m   \u001b[2m322 \u001b[0m\u001b[2m│   │   \u001b[0mparams,                                                                            \u001b[31m│\u001b[0m\n",
       "\u001b[31m│\u001b[0m   \u001b[2m323 \u001b[0m\u001b[2m│   │   \u001b[0mgrads,                                                                             \u001b[31m│\u001b[0m\n",
       "\u001b[31m│\u001b[0m   \u001b[2m324 \u001b[0m\u001b[2m│   │   \u001b[0mexp_avgs,                                                                          \u001b[31m│\u001b[0m\n",
       "\u001b[31m│\u001b[0m                                                                                                  \u001b[31m│\u001b[0m\n",
       "\u001b[31m│\u001b[0m \u001b[2;33m/opt/conda/lib/python3.10/site-packages/torch/optim/\u001b[0m\u001b[1;33madamw.py\u001b[0m:\u001b[94m564\u001b[0m in \u001b[92m_multi_tensor_adamw\u001b[0m          \u001b[31m│\u001b[0m\n",
       "\u001b[31m│\u001b[0m                                                                                                  \u001b[31m│\u001b[0m\n",
       "\u001b[31m│\u001b[0m   \u001b[2m561 \u001b[0m\u001b[2m│   │   │   │   \u001b[0mtorch._foreach_div_(max_exp_avg_sq_sqrt, bias_correction2_sqrt)            \u001b[31m│\u001b[0m\n",
       "\u001b[31m│\u001b[0m   \u001b[2m562 \u001b[0m\u001b[2m│   │   │   │   \u001b[0mdenom = torch._foreach_add(max_exp_avg_sq_sqrt, eps)                       \u001b[31m│\u001b[0m\n",
       "\u001b[31m│\u001b[0m   \u001b[2m563 \u001b[0m\u001b[2m│   │   │   \u001b[0m\u001b[94melse\u001b[0m:                                                                          \u001b[31m│\u001b[0m\n",
       "\u001b[31m│\u001b[0m \u001b[31m❱ \u001b[0m564 \u001b[2m│   │   │   │   \u001b[0mexp_avg_sq_sqrt = torch._foreach_sqrt(device_exp_avg_sqs)                  \u001b[31m│\u001b[0m\n",
       "\u001b[31m│\u001b[0m   \u001b[2m565 \u001b[0m\u001b[2m│   │   │   │   \u001b[0mtorch._foreach_div_(exp_avg_sq_sqrt, bias_correction2_sqrt)                \u001b[31m│\u001b[0m\n",
       "\u001b[31m│\u001b[0m   \u001b[2m566 \u001b[0m\u001b[2m│   │   │   │   \u001b[0mdenom = torch._foreach_add(exp_avg_sq_sqrt, eps)                           \u001b[31m│\u001b[0m\n",
       "\u001b[31m│\u001b[0m   \u001b[2m567 \u001b[0m                                                                                           \u001b[31m│\u001b[0m\n",
       "\u001b[31m╰──────────────────────────────────────────────────────────────────────────────────────────────────╯\u001b[0m\n",
       "\u001b[1;91mOutOfMemoryError: \u001b[0mCUDA out of memory. Tried to allocate \u001b[1;36m502.00\u001b[0m MiB \u001b[1m(\u001b[0mGPU \u001b[1;36m0\u001b[0m; \u001b[1;36m15.90\u001b[0m GiB total capacity; \u001b[1;36m8.11\u001b[0m GiB \n",
       "already allocated; \u001b[1;36m307.75\u001b[0m MiB free; \u001b[1;36m14.71\u001b[0m GiB reserved in total by PyTorch\u001b[1m)\u001b[0m If reserved memory is >> allocated \n",
       "memory try setting max_split_size_mb to avoid fragmentation.  See documentation for Memory Management and \n",
       "PYTORCH_CUDA_ALLOC_CONF\n"
      ]
     },
     "metadata": {},
     "output_type": "display_data"
    }
   ],
   "source": [
    "if __name__ == \"__main__\":\n",
    "    if CONFIG.train:\n",
    "        main()\n",
    "    "
   ]
  },
  {
   "cell_type": "code",
   "execution_count": null,
   "id": "d0f1c370",
   "metadata": {
    "execution": {
     "iopub.status.busy": "2023-08-13T14:31:26.311882Z",
     "iopub.status.idle": "2023-08-13T14:31:26.312672Z",
     "shell.execute_reply": "2023-08-13T14:31:26.312430Z",
     "shell.execute_reply.started": "2023-08-13T14:31:26.312403Z"
    },
    "papermill": {
     "duration": null,
     "end_time": null,
     "exception": null,
     "start_time": null,
     "status": "pending"
    },
    "tags": []
   },
   "outputs": [],
   "source": [
    "# history"
   ]
  },
  {
   "cell_type": "code",
   "execution_count": null,
   "id": "1a7e8f08",
   "metadata": {
    "execution": {
     "iopub.status.busy": "2023-08-13T14:31:26.314115Z",
     "iopub.status.idle": "2023-08-13T14:31:26.314881Z",
     "shell.execute_reply": "2023-08-13T14:31:26.314642Z",
     "shell.execute_reply.started": "2023-08-13T14:31:26.314616Z"
    },
    "papermill": {
     "duration": null,
     "end_time": null,
     "exception": null,
     "start_time": null,
     "status": "pending"
    },
    "tags": []
   },
   "outputs": [],
   "source": [
    "# from tqdm import tqdm\n",
    "# train_dataloader, valid_dataloader= prepare_loader(data_df, fold= 0)\n",
    "# model= CustomModel(CONFIG.model_name_or_path)\n",
    "# model.to(CONFIG.device)\n",
    "# model.train()\n",
    "# optimizer = optim.SGD(model.parameters(), lr=0.0001)\n",
    "\n",
    "# prog_bar= tqdm(enumerate(train_dataloader), total= len(train_dataloader))\n",
    "# device= CONFIG.device\n",
    "\n",
    "# for setp, data in prog_bar:\n",
    "#     optimizer.zero_grad()\n",
    "#     ids= data['input_ids'].to(device)#, dtype= torch.long\n",
    "#     masks= data[\"attention_mask\"].to(device)#, dtype= torch.long\n",
    "#     targets= data[\"targets\"].to(device)#, dtype= torch.long\n",
    "    \n",
    "#     outputs= model(input_ids = ids, \n",
    "#                    attention_mask= masks)\n",
    "    \n",
    "#     loss = criterion(outputs, targets)\n",
    "\n",
    "#     loss.backward()\n",
    "#     optimizer.step()\n",
    "\n",
    "# torch.save(model.state_dict(), f'model.pt')"
   ]
  },
  {
   "cell_type": "code",
   "execution_count": null,
   "id": "14451164",
   "metadata": {
    "execution": {
     "iopub.status.busy": "2023-08-13T14:31:26.316298Z",
     "iopub.status.idle": "2023-08-13T14:31:26.317023Z",
     "shell.execute_reply": "2023-08-13T14:31:26.316794Z",
     "shell.execute_reply.started": "2023-08-13T14:31:26.316770Z"
    },
    "papermill": {
     "duration": null,
     "end_time": null,
     "exception": null,
     "start_time": null,
     "status": "pending"
    },
    "tags": []
   },
   "outputs": [],
   "source": [
    "# inputs= tokenizer.encode_plus(test_df['Resume_str'][0],\n",
    "#                               truncation= True, \n",
    "#                               max_length= CONFIG.token_max_length, \n",
    "#                               return_token_type_ids= False,\n",
    "#                               return_tensors= 'pt'\n",
    "#                              ).to(CONFIG.device)\n",
    "# inputs, test_df['labels'][0]"
   ]
  },
  {
   "cell_type": "code",
   "execution_count": null,
   "id": "1d6c51b6",
   "metadata": {
    "execution": {
     "iopub.status.busy": "2023-08-13T14:31:26.318354Z",
     "iopub.status.idle": "2023-08-13T14:31:26.319070Z",
     "shell.execute_reply": "2023-08-13T14:31:26.318846Z",
     "shell.execute_reply.started": "2023-08-13T14:31:26.318822Z"
    },
    "papermill": {
     "duration": null,
     "end_time": null,
     "exception": null,
     "start_time": null,
     "status": "pending"
    },
    "tags": []
   },
   "outputs": [],
   "source": [
    "# # model.eval()\n",
    "# model(**inputs).argmax(axis=1)[0]"
   ]
  },
  {
   "cell_type": "markdown",
   "id": "ba323fc6",
   "metadata": {
    "papermill": {
     "duration": null,
     "end_time": null,
     "exception": null,
     "start_time": null,
     "status": "pending"
    },
    "tags": []
   },
   "source": [
    "## Testing"
   ]
  },
  {
   "cell_type": "code",
   "execution_count": null,
   "id": "47f5579d",
   "metadata": {
    "execution": {
     "iopub.status.busy": "2023-08-13T14:31:26.320413Z",
     "iopub.status.idle": "2023-08-13T14:31:26.321130Z",
     "shell.execute_reply": "2023-08-13T14:31:26.320899Z",
     "shell.execute_reply.started": "2023-08-13T14:31:26.320875Z"
    },
    "papermill": {
     "duration": null,
     "end_time": null,
     "exception": null,
     "start_time": null,
     "status": "pending"
    },
    "tags": []
   },
   "outputs": [],
   "source": [
    "def testing_loop(model, dataloader, device):\n",
    "    model.eval()\n",
    "    \n",
    "    preds= []\n",
    "    labels= []\n",
    "\n",
    "    bar= tqdm(enumerate(dataloader), total= len(dataloader))\n",
    "    \n",
    "    for step, data in bar:\n",
    "        ids= data[\"input_ids\"].to(device, dtype= torch.long)\n",
    "        masks= data[\"attention_mask\"].to(device, dtype= torch.long)\n",
    "        targets= data[\"targets\"].to(device, dtype= torch.long)\n",
    "        \n",
    "        batch_size= ids.size(0)\n",
    "        \n",
    "        with torch.no_grad():\n",
    "            outputs= model(ids, masks)\n",
    "\n",
    "        preds.append(outputs.argmax(axis=1).to('cpu').numpy())\n",
    "        labels.append(targets.to('cpu').numpy())\n",
    "        bar.set_postfix(F1_score= get_score(np.concatenate(labels), np.concatenate(preds)))\n",
    "\n",
    "    predictions= np.concatenate(preds)\n",
    "    true_labels= np.concatenate(labels)\n",
    "    f1score= get_score(true_labels, predictions)\n",
    "    accuracy= get_accuracy(true_labels, predictions)\n",
    "\n",
    "    print(f\"====== xxxx ======\")\n",
    "    print(f\"Overall F1 Score: {f1score}\")\n",
    "    print(f\"Overall  Accuracy: {accuracy}\")\n",
    "    print(f\"====== xxxx ======\")\n",
    "    \n",
    "    return predictions, f1score, accuracy"
   ]
  },
  {
   "cell_type": "code",
   "execution_count": null,
   "id": "722e0755",
   "metadata": {
    "execution": {
     "iopub.status.busy": "2023-08-13T14:31:26.322468Z",
     "iopub.status.idle": "2023-08-13T14:31:26.323186Z",
     "shell.execute_reply": "2023-08-13T14:31:26.322956Z",
     "shell.execute_reply.started": "2023-08-13T14:31:26.322931Z"
    },
    "papermill": {
     "duration": null,
     "end_time": null,
     "exception": null,
     "start_time": null,
     "status": "pending"
    },
    "tags": []
   },
   "outputs": [],
   "source": [
    "!pip install -q dotmap\n",
    "\n",
    "from dotmap import DotMap"
   ]
  },
  {
   "cell_type": "code",
   "execution_count": null,
   "id": "42a18664",
   "metadata": {
    "execution": {
     "iopub.status.busy": "2023-08-13T14:31:26.324554Z",
     "iopub.status.idle": "2023-08-13T14:31:26.325290Z",
     "shell.execute_reply": "2023-08-13T14:31:26.325047Z",
     "shell.execute_reply.started": "2023-08-13T14:31:26.325023Z"
    },
    "papermill": {
     "duration": null,
     "end_time": null,
     "exception": null,
     "start_time": null,
     "status": "pending"
    },
    "tags": []
   },
   "outputs": [],
   "source": [
    "model_checkpoints= [\n",
    "    \"/kaggle/input/resume-classification-task-model-weights/Resume_Classification-0.bin\",\n",
    "    \"/kaggle/input/resume-classification-task-model-weights/Resume_Classification-1.bin\",\n",
    "    \"/kaggle/input/resume-classification-task-model-weights/Resume_Classification-2.bin\"\n",
    "]\n",
    "\n",
    "configuration_path= \"/kaggle/working/Configuration.json\" #\"/kaggle/input/resume-classification-task-model-weights/Configuration.json\"\n",
    "\n",
    "# with open(configuration_path) as f:\n",
    "#     CONFIG= DotMap(json.load(f))\n",
    "\n",
    "# id2label= CONFIG.id2label"
   ]
  },
  {
   "cell_type": "code",
   "execution_count": null,
   "id": "27e6ebd2",
   "metadata": {
    "execution": {
     "iopub.status.busy": "2023-08-13T14:31:26.326615Z",
     "iopub.status.idle": "2023-08-13T14:31:26.327362Z",
     "shell.execute_reply": "2023-08-13T14:31:26.327109Z",
     "shell.execute_reply.started": "2023-08-13T14:31:26.327085Z"
    },
    "papermill": {
     "duration": null,
     "end_time": null,
     "exception": null,
     "start_time": null,
     "status": "pending"
    },
    "tags": []
   },
   "outputs": [],
   "source": [
    "test_dataset= CustomDataset(test_df, tokenizer, CONFIG)\n",
    "test_loader= DataLoader(test_dataset, \n",
    "                        batch_size= CONFIG.test_batch_size,\n",
    "                        collate_fn= collate_fn, \n",
    "                        num_workers= CONFIG.num_workers,\n",
    "                        shuffle= False,\n",
    "                        pin_memory= True, #If True, the data loader will copy Tensors into device/CUDA pinned memory before returning them\n",
    "                        drop_last= False,\n",
    "                        )"
   ]
  },
  {
   "cell_type": "code",
   "execution_count": null,
   "id": "1a4bc0b8",
   "metadata": {
    "execution": {
     "iopub.status.busy": "2023-08-13T14:31:26.328730Z",
     "iopub.status.idle": "2023-08-13T14:31:26.329469Z",
     "shell.execute_reply": "2023-08-13T14:31:26.329219Z",
     "shell.execute_reply.started": "2023-08-13T14:31:26.329195Z"
    },
    "papermill": {
     "duration": null,
     "end_time": null,
     "exception": null,
     "start_time": null,
     "status": "pending"
    },
    "tags": []
   },
   "outputs": [],
   "source": [
    "CONFIG.test = True\n",
    "model_checkpoint= \"/kaggle/working/Resume_Classification_fold-0.bin\" #model_checkpoints[0]\n",
    "\n",
    "if CONFIG.test:\n",
    "    with open(configuration_path) as f:\n",
    "        CONFIG= DotMap(json.load(f))\n",
    "    id2label= dict(CONFIG.id2label)\n",
    "    test_dataset= CustomDataset(test_df, tokenizer, CONFIG)\n",
    "    test_loader= DataLoader(test_dataset, \n",
    "                            batch_size= CONFIG.test_batch_size,\n",
    "                            collate_fn= collate_fn, \n",
    "                            num_workers= CONFIG.num_workers,\n",
    "                            shuffle= False,\n",
    "                            pin_memory= True, #If True, the data loader will copy Tensors into device/CUDA pinned memory before returning them\n",
    "                            drop_last= False,\n",
    "                            )\n",
    "    \n",
    "    device= torch.device(\"cuda\" if torch.cuda.is_available else 'cpu')\n",
    "\n",
    "    tokenizer = AutoTokenizer.from_pretrained(CONFIG.model_name_or_path)\n",
    "    model= ResumeClassifier(CONFIG.model_name_or_path)\n",
    "    model.load_state_dict(torch.load(model_checkpoint, map_location=  device))\n",
    "    model.to(device)\n",
    "    \n",
    "    predictions, test_f1_score, test_accuracy= testing_loop(model, test_loader, device)\n",
    "    predictions= [id2label[str(p)] for p in predictions]\n",
    "    test_df['Model_predictions']= predictions\n",
    "    test_df= test_df[[\"ID\", \"Resume_str\", \"Category\", \"Model_predictions\" ]]\n",
    "    test_df.to_csv(\"Results.csv\", index= False)"
   ]
  },
  {
   "cell_type": "code",
   "execution_count": null,
   "id": "2ddc152c",
   "metadata": {
    "execution": {
     "iopub.status.busy": "2023-08-13T14:31:26.330749Z",
     "iopub.status.idle": "2023-08-13T14:31:26.331485Z",
     "shell.execute_reply": "2023-08-13T14:31:26.331251Z",
     "shell.execute_reply.started": "2023-08-13T14:31:26.331210Z"
    },
    "papermill": {
     "duration": null,
     "end_time": null,
     "exception": null,
     "start_time": null,
     "status": "pending"
    },
    "tags": []
   },
   "outputs": [],
   "source": [
    "# temp= test_df[[\"ID\"]]\n",
    "# temp# dict(id2label)"
   ]
  },
  {
   "cell_type": "markdown",
   "id": "6fd82676",
   "metadata": {
    "papermill": {
     "duration": null,
     "end_time": null,
     "exception": null,
     "start_time": null,
     "status": "pending"
    },
    "tags": []
   },
   "source": [
    "##  End-to-End Prediction"
   ]
  },
  {
   "cell_type": "code",
   "execution_count": null,
   "id": "c5aa10ed",
   "metadata": {
    "execution": {
     "iopub.status.busy": "2023-08-13T14:31:26.332782Z",
     "iopub.status.idle": "2023-08-13T14:31:26.333516Z",
     "shell.execute_reply": "2023-08-13T14:31:26.333281Z",
     "shell.execute_reply.started": "2023-08-13T14:31:26.333256Z"
    },
    "papermill": {
     "duration": null,
     "end_time": null,
     "exception": null,
     "start_time": null,
     "status": "pending"
    },
    "tags": []
   },
   "outputs": [],
   "source": [
    "!pip install -q dotmap\n",
    "\n",
    "from dotmap import DotMap"
   ]
  },
  {
   "cell_type": "code",
   "execution_count": null,
   "id": "af287b81",
   "metadata": {
    "execution": {
     "iopub.status.busy": "2023-08-13T14:31:26.334891Z",
     "iopub.status.idle": "2023-08-13T14:31:26.335642Z",
     "shell.execute_reply": "2023-08-13T14:31:26.335417Z",
     "shell.execute_reply.started": "2023-08-13T14:31:26.335393Z"
    },
    "papermill": {
     "duration": null,
     "end_time": null,
     "exception": null,
     "start_time": null,
     "status": "pending"
    },
    "tags": []
   },
   "outputs": [],
   "source": [
    "model_checkpoints= [\n",
    "    \"/kaggle/input/resume-classification-task-model-weights/Resume_Classification-0.bin\",\n",
    "    \"/kaggle/input/resume-classification-task-model-weights/Resume_Classification-1.bin\",\n",
    "    \"/kaggle/input/resume-classification-task-model-weights/Resume_Classification-2.bin\"\n",
    "]\n",
    "configuration_path= \"/kaggle/input/resume-classification-task-model-weights/Configuration.json\"\n",
    "\n",
    "with open(configuration_path) as f:\n",
    "    CONFIG= DotMap(json.load(f))\n",
    "\n",
    "id2label= CONFIG.id2label"
   ]
  },
  {
   "cell_type": "code",
   "execution_count": null,
   "id": "6d52ecaa",
   "metadata": {
    "execution": {
     "iopub.status.busy": "2023-08-13T14:31:26.337020Z",
     "iopub.status.idle": "2023-08-13T14:31:26.337761Z",
     "shell.execute_reply": "2023-08-13T14:31:26.337533Z",
     "shell.execute_reply.started": "2023-08-13T14:31:26.337508Z"
    },
    "papermill": {
     "duration": null,
     "end_time": null,
     "exception": null,
     "start_time": null,
     "status": "pending"
    },
    "tags": []
   },
   "outputs": [],
   "source": [
    "def run_prediction(text, model, tokenizer, device ,cfg= CONFIG):\n",
    "    inputs= tokenizer.encode_plus(text, padding=True, truncation=True, return_tensors=\"pt\")\n",
    "    outputs= model(inputs['input_ids'].to(device), inputs['attention_mask'].to(device))\n",
    "    outputs= outputs.detach().cpu().numpy().argmax(axis= -1)[0]\n",
    "    \n",
    "    return id2label[str(outputs)]\n",
    "\n",
    "def inference_fn(text, model_name= None, model_checkpoint= None, cfg= CONFIG):\n",
    "    \n",
    "    device= torch.device(\"cuda\" if torch.cuda.is_available else 'cpu')\n",
    "    # loading model and weights\n",
    "    if model_name is not None:\n",
    "        tokenizer = AutoTokenizer.from_pretrained(model_name)\n",
    "        model= ResumeClassifier(model_name= model_name)\n",
    "    else:\n",
    "        tokenizer = AutoTokenizer.from_pretrained(cfg.model_name_or_path)\n",
    "        model= ResumeClassifier(cfg.model_name_or_path)\n",
    "        \n",
    "    if model_checkpoint != None:\n",
    "        model.load_state_dict(torch.load(model_checkpoint, map_location=  device))\n",
    "    else:\n",
    "        model.load_state_dict(torch.load(cfg.model_checkpoint, map_location=  device))\n",
    "    \n",
    "    model.to(device)\n",
    "    ## processing inputs\n",
    "    if type(text) == str:\n",
    "        output= run_prediction(text, model, tokenizer, device, cfg)\n",
    "        print(f\"Predicted class for the given resume is {output}\")\n",
    "    else:\n",
    "        output= None\n",
    "        print(\"Please give input in proper format\")\n",
    "    \n",
    "    return output"
   ]
  },
  {
   "cell_type": "code",
   "execution_count": null,
   "id": "fafbb923",
   "metadata": {
    "execution": {
     "iopub.status.busy": "2023-08-13T14:31:26.339048Z",
     "iopub.status.idle": "2023-08-13T14:31:26.339827Z",
     "shell.execute_reply": "2023-08-13T14:31:26.339598Z",
     "shell.execute_reply.started": "2023-08-13T14:31:26.339571Z"
    },
    "papermill": {
     "duration": null,
     "end_time": null,
     "exception": null,
     "start_time": null,
     "status": "pending"
    },
    "tags": []
   },
   "outputs": [],
   "source": [
    "idx= 50\n",
    "text= test_df['Resume_str'][idx]\n",
    "model_checkpoint= model_checkpoints[0]\n",
    "\n",
    "pred_class= inference_fn(text, CONFIG.model_name_or_path, model_checkpoint, cfg= CONFIG)\n",
    "true_class= test_df[\"Category\"][idx]\n",
    "\n",
    "print()"
   ]
  },
  {
   "cell_type": "code",
   "execution_count": null,
   "id": "0bd540ea",
   "metadata": {
    "papermill": {
     "duration": null,
     "end_time": null,
     "exception": null,
     "start_time": null,
     "status": "pending"
    },
    "tags": []
   },
   "outputs": [],
   "source": []
  }
 ],
 "metadata": {
  "kernelspec": {
   "display_name": "Python 3",
   "language": "python",
   "name": "python3"
  },
  "language_info": {
   "codemirror_mode": {
    "name": "ipython",
    "version": 3
   },
   "file_extension": ".py",
   "mimetype": "text/x-python",
   "name": "python",
   "nbconvert_exporter": "python",
   "pygments_lexer": "ipython3",
   "version": "3.10.12"
  },
  "papermill": {
   "default_parameters": {},
   "duration": 892.969246,
   "end_time": "2023-08-13T14:46:43.710570",
   "environment_variables": {},
   "exception": true,
   "input_path": "__notebook__.ipynb",
   "output_path": "__notebook__.ipynb",
   "parameters": {},
   "start_time": "2023-08-13T14:31:50.741324",
   "version": "2.4.0"
  },
  "widgets": {
   "application/vnd.jupyter.widget-state+json": {
    "state": {
     "020437a9c7304362af88decad8fef035": {
      "model_module": "@jupyter-widgets/base",
      "model_module_version": "1.2.0",
      "model_name": "LayoutModel",
      "state": {
       "_model_module": "@jupyter-widgets/base",
       "_model_module_version": "1.2.0",
       "_model_name": "LayoutModel",
       "_view_count": null,
       "_view_module": "@jupyter-widgets/base",
       "_view_module_version": "1.2.0",
       "_view_name": "LayoutView",
       "align_content": null,
       "align_items": null,
       "align_self": null,
       "border": null,
       "bottom": null,
       "display": null,
       "flex": null,
       "flex_flow": null,
       "grid_area": null,
       "grid_auto_columns": null,
       "grid_auto_flow": null,
       "grid_auto_rows": null,
       "grid_column": null,
       "grid_gap": null,
       "grid_row": null,
       "grid_template_areas": null,
       "grid_template_columns": null,
       "grid_template_rows": null,
       "height": null,
       "justify_content": null,
       "justify_items": null,
       "left": null,
       "margin": null,
       "max_height": null,
       "max_width": null,
       "min_height": null,
       "min_width": null,
       "object_fit": null,
       "object_position": null,
       "order": null,
       "overflow": null,
       "overflow_x": null,
       "overflow_y": null,
       "padding": null,
       "right": null,
       "top": null,
       "visibility": null,
       "width": null
      }
     },
     "055ae9e4904e4d069dd390a7ed157be6": {
      "model_module": "@jupyter-widgets/base",
      "model_module_version": "1.2.0",
      "model_name": "LayoutModel",
      "state": {
       "_model_module": "@jupyter-widgets/base",
       "_model_module_version": "1.2.0",
       "_model_name": "LayoutModel",
       "_view_count": null,
       "_view_module": "@jupyter-widgets/base",
       "_view_module_version": "1.2.0",
       "_view_name": "LayoutView",
       "align_content": null,
       "align_items": null,
       "align_self": null,
       "border": null,
       "bottom": null,
       "display": null,
       "flex": null,
       "flex_flow": null,
       "grid_area": null,
       "grid_auto_columns": null,
       "grid_auto_flow": null,
       "grid_auto_rows": null,
       "grid_column": null,
       "grid_gap": null,
       "grid_row": null,
       "grid_template_areas": null,
       "grid_template_columns": null,
       "grid_template_rows": null,
       "height": null,
       "justify_content": null,
       "justify_items": null,
       "left": null,
       "margin": null,
       "max_height": null,
       "max_width": null,
       "min_height": null,
       "min_width": null,
       "object_fit": null,
       "object_position": null,
       "order": null,
       "overflow": null,
       "overflow_x": null,
       "overflow_y": null,
       "padding": null,
       "right": null,
       "top": null,
       "visibility": null,
       "width": null
      }
     },
     "1095747f26be450aac395e1b1dd5fcb7": {
      "model_module": "@jupyter-widgets/controls",
      "model_module_version": "1.5.0",
      "model_name": "DescriptionStyleModel",
      "state": {
       "_model_module": "@jupyter-widgets/controls",
       "_model_module_version": "1.5.0",
       "_model_name": "DescriptionStyleModel",
       "_view_count": null,
       "_view_module": "@jupyter-widgets/base",
       "_view_module_version": "1.2.0",
       "_view_name": "StyleView",
       "description_width": ""
      }
     },
     "15dc11116c64408eb517a3942abeab16": {
      "model_module": "@jupyter-widgets/base",
      "model_module_version": "1.2.0",
      "model_name": "LayoutModel",
      "state": {
       "_model_module": "@jupyter-widgets/base",
       "_model_module_version": "1.2.0",
       "_model_name": "LayoutModel",
       "_view_count": null,
       "_view_module": "@jupyter-widgets/base",
       "_view_module_version": "1.2.0",
       "_view_name": "LayoutView",
       "align_content": null,
       "align_items": null,
       "align_self": null,
       "border": null,
       "bottom": null,
       "display": null,
       "flex": null,
       "flex_flow": null,
       "grid_area": null,
       "grid_auto_columns": null,
       "grid_auto_flow": null,
       "grid_auto_rows": null,
       "grid_column": null,
       "grid_gap": null,
       "grid_row": null,
       "grid_template_areas": null,
       "grid_template_columns": null,
       "grid_template_rows": null,
       "height": null,
       "justify_content": null,
       "justify_items": null,
       "left": null,
       "margin": null,
       "max_height": null,
       "max_width": null,
       "min_height": null,
       "min_width": null,
       "object_fit": null,
       "object_position": null,
       "order": null,
       "overflow": null,
       "overflow_x": null,
       "overflow_y": null,
       "padding": null,
       "right": null,
       "top": null,
       "visibility": null,
       "width": null
      }
     },
     "1d9a8dcdc7364d6b8ef5d7a217bed9f8": {
      "model_module": "@jupyter-widgets/base",
      "model_module_version": "1.2.0",
      "model_name": "LayoutModel",
      "state": {
       "_model_module": "@jupyter-widgets/base",
       "_model_module_version": "1.2.0",
       "_model_name": "LayoutModel",
       "_view_count": null,
       "_view_module": "@jupyter-widgets/base",
       "_view_module_version": "1.2.0",
       "_view_name": "LayoutView",
       "align_content": null,
       "align_items": null,
       "align_self": null,
       "border": null,
       "bottom": null,
       "display": null,
       "flex": null,
       "flex_flow": null,
       "grid_area": null,
       "grid_auto_columns": null,
       "grid_auto_flow": null,
       "grid_auto_rows": null,
       "grid_column": null,
       "grid_gap": null,
       "grid_row": null,
       "grid_template_areas": null,
       "grid_template_columns": null,
       "grid_template_rows": null,
       "height": null,
       "justify_content": null,
       "justify_items": null,
       "left": null,
       "margin": null,
       "max_height": null,
       "max_width": null,
       "min_height": null,
       "min_width": null,
       "object_fit": null,
       "object_position": null,
       "order": null,
       "overflow": null,
       "overflow_x": null,
       "overflow_y": null,
       "padding": null,
       "right": null,
       "top": null,
       "visibility": null,
       "width": null
      }
     },
     "22f54a5f454b4b4aaba2b6ebb05c2186": {
      "model_module": "@jupyter-widgets/controls",
      "model_module_version": "1.5.0",
      "model_name": "ProgressStyleModel",
      "state": {
       "_model_module": "@jupyter-widgets/controls",
       "_model_module_version": "1.5.0",
       "_model_name": "ProgressStyleModel",
       "_view_count": null,
       "_view_module": "@jupyter-widgets/base",
       "_view_module_version": "1.2.0",
       "_view_name": "StyleView",
       "bar_color": null,
       "description_width": ""
      }
     },
     "25b66e9c62224e0b97433fa39164c4c2": {
      "model_module": "@jupyter-widgets/base",
      "model_module_version": "1.2.0",
      "model_name": "LayoutModel",
      "state": {
       "_model_module": "@jupyter-widgets/base",
       "_model_module_version": "1.2.0",
       "_model_name": "LayoutModel",
       "_view_count": null,
       "_view_module": "@jupyter-widgets/base",
       "_view_module_version": "1.2.0",
       "_view_name": "LayoutView",
       "align_content": null,
       "align_items": null,
       "align_self": null,
       "border": null,
       "bottom": null,
       "display": null,
       "flex": null,
       "flex_flow": null,
       "grid_area": null,
       "grid_auto_columns": null,
       "grid_auto_flow": null,
       "grid_auto_rows": null,
       "grid_column": null,
       "grid_gap": null,
       "grid_row": null,
       "grid_template_areas": null,
       "grid_template_columns": null,
       "grid_template_rows": null,
       "height": null,
       "justify_content": null,
       "justify_items": null,
       "left": null,
       "margin": null,
       "max_height": null,
       "max_width": null,
       "min_height": null,
       "min_width": null,
       "object_fit": null,
       "object_position": null,
       "order": null,
       "overflow": null,
       "overflow_x": null,
       "overflow_y": null,
       "padding": null,
       "right": null,
       "top": null,
       "visibility": null,
       "width": null
      }
     },
     "271bf0f6bedf462d9acb4f79a9c53bdb": {
      "model_module": "@jupyter-widgets/controls",
      "model_module_version": "1.5.0",
      "model_name": "HBoxModel",
      "state": {
       "_dom_classes": [],
       "_model_module": "@jupyter-widgets/controls",
       "_model_module_version": "1.5.0",
       "_model_name": "HBoxModel",
       "_view_count": null,
       "_view_module": "@jupyter-widgets/controls",
       "_view_module_version": "1.5.0",
       "_view_name": "HBoxView",
       "box_style": "",
       "children": [
        "IPY_MODEL_acc141aaa7134d518cfaa6434d8b5d4e",
        "IPY_MODEL_e40b63dcb2324e14954a7ffd2e71fe58",
        "IPY_MODEL_eb64ba1c8c164a2b958125a1513e93cc"
       ],
       "layout": "IPY_MODEL_1d9a8dcdc7364d6b8ef5d7a217bed9f8"
      }
     },
     "30a5b159e96d41c89b45a68ba7b37342": {
      "model_module": "@jupyter-widgets/base",
      "model_module_version": "1.2.0",
      "model_name": "LayoutModel",
      "state": {
       "_model_module": "@jupyter-widgets/base",
       "_model_module_version": "1.2.0",
       "_model_name": "LayoutModel",
       "_view_count": null,
       "_view_module": "@jupyter-widgets/base",
       "_view_module_version": "1.2.0",
       "_view_name": "LayoutView",
       "align_content": null,
       "align_items": null,
       "align_self": null,
       "border": null,
       "bottom": null,
       "display": null,
       "flex": null,
       "flex_flow": null,
       "grid_area": null,
       "grid_auto_columns": null,
       "grid_auto_flow": null,
       "grid_auto_rows": null,
       "grid_column": null,
       "grid_gap": null,
       "grid_row": null,
       "grid_template_areas": null,
       "grid_template_columns": null,
       "grid_template_rows": null,
       "height": null,
       "justify_content": null,
       "justify_items": null,
       "left": null,
       "margin": null,
       "max_height": null,
       "max_width": null,
       "min_height": null,
       "min_width": null,
       "object_fit": null,
       "object_position": null,
       "order": null,
       "overflow": null,
       "overflow_x": null,
       "overflow_y": null,
       "padding": null,
       "right": null,
       "top": null,
       "visibility": null,
       "width": null
      }
     },
     "31f8b2ea5b2843c89ef83ddc9b9d3ada": {
      "model_module": "@jupyter-widgets/base",
      "model_module_version": "1.2.0",
      "model_name": "LayoutModel",
      "state": {
       "_model_module": "@jupyter-widgets/base",
       "_model_module_version": "1.2.0",
       "_model_name": "LayoutModel",
       "_view_count": null,
       "_view_module": "@jupyter-widgets/base",
       "_view_module_version": "1.2.0",
       "_view_name": "LayoutView",
       "align_content": null,
       "align_items": null,
       "align_self": null,
       "border": null,
       "bottom": null,
       "display": null,
       "flex": null,
       "flex_flow": null,
       "grid_area": null,
       "grid_auto_columns": null,
       "grid_auto_flow": null,
       "grid_auto_rows": null,
       "grid_column": null,
       "grid_gap": null,
       "grid_row": null,
       "grid_template_areas": null,
       "grid_template_columns": null,
       "grid_template_rows": null,
       "height": null,
       "justify_content": null,
       "justify_items": null,
       "left": null,
       "margin": null,
       "max_height": null,
       "max_width": null,
       "min_height": null,
       "min_width": null,
       "object_fit": null,
       "object_position": null,
       "order": null,
       "overflow": null,
       "overflow_x": null,
       "overflow_y": null,
       "padding": null,
       "right": null,
       "top": null,
       "visibility": null,
       "width": null
      }
     },
     "3846df97d70a4be1986f1c4de552e057": {
      "model_module": "@jupyter-widgets/base",
      "model_module_version": "1.2.0",
      "model_name": "LayoutModel",
      "state": {
       "_model_module": "@jupyter-widgets/base",
       "_model_module_version": "1.2.0",
       "_model_name": "LayoutModel",
       "_view_count": null,
       "_view_module": "@jupyter-widgets/base",
       "_view_module_version": "1.2.0",
       "_view_name": "LayoutView",
       "align_content": null,
       "align_items": null,
       "align_self": null,
       "border": null,
       "bottom": null,
       "display": null,
       "flex": null,
       "flex_flow": null,
       "grid_area": null,
       "grid_auto_columns": null,
       "grid_auto_flow": null,
       "grid_auto_rows": null,
       "grid_column": null,
       "grid_gap": null,
       "grid_row": null,
       "grid_template_areas": null,
       "grid_template_columns": null,
       "grid_template_rows": null,
       "height": null,
       "justify_content": null,
       "justify_items": null,
       "left": null,
       "margin": null,
       "max_height": null,
       "max_width": null,
       "min_height": null,
       "min_width": null,
       "object_fit": null,
       "object_position": null,
       "order": null,
       "overflow": null,
       "overflow_x": null,
       "overflow_y": null,
       "padding": null,
       "right": null,
       "top": null,
       "visibility": null,
       "width": null
      }
     },
     "4212e5f5cb684cecae3518baba2bb2d4": {
      "model_module": "@jupyter-widgets/controls",
      "model_module_version": "1.5.0",
      "model_name": "ProgressStyleModel",
      "state": {
       "_model_module": "@jupyter-widgets/controls",
       "_model_module_version": "1.5.0",
       "_model_name": "ProgressStyleModel",
       "_view_count": null,
       "_view_module": "@jupyter-widgets/base",
       "_view_module_version": "1.2.0",
       "_view_name": "StyleView",
       "bar_color": null,
       "description_width": ""
      }
     },
     "48aec1d9cb7c46468f5e08a5ba2526a8": {
      "model_module": "@jupyter-widgets/controls",
      "model_module_version": "1.5.0",
      "model_name": "HTMLModel",
      "state": {
       "_dom_classes": [],
       "_model_module": "@jupyter-widgets/controls",
       "_model_module_version": "1.5.0",
       "_model_name": "HTMLModel",
       "_view_count": null,
       "_view_module": "@jupyter-widgets/controls",
       "_view_module_version": "1.5.0",
       "_view_name": "HTMLView",
       "description": "",
       "description_tooltip": null,
       "layout": "IPY_MODEL_15dc11116c64408eb517a3942abeab16",
       "placeholder": "​",
       "style": "IPY_MODEL_5fc782ec029f4414afee2ebe649f3e67",
       "value": "Downloading (…)lve/main/config.json: 100%"
      }
     },
     "4f971dabc33949f3a489a5959686d882": {
      "model_module": "@jupyter-widgets/base",
      "model_module_version": "1.2.0",
      "model_name": "LayoutModel",
      "state": {
       "_model_module": "@jupyter-widgets/base",
       "_model_module_version": "1.2.0",
       "_model_name": "LayoutModel",
       "_view_count": null,
       "_view_module": "@jupyter-widgets/base",
       "_view_module_version": "1.2.0",
       "_view_name": "LayoutView",
       "align_content": null,
       "align_items": null,
       "align_self": null,
       "border": null,
       "bottom": null,
       "display": null,
       "flex": null,
       "flex_flow": null,
       "grid_area": null,
       "grid_auto_columns": null,
       "grid_auto_flow": null,
       "grid_auto_rows": null,
       "grid_column": null,
       "grid_gap": null,
       "grid_row": null,
       "grid_template_areas": null,
       "grid_template_columns": null,
       "grid_template_rows": null,
       "height": null,
       "justify_content": null,
       "justify_items": null,
       "left": null,
       "margin": null,
       "max_height": null,
       "max_width": null,
       "min_height": null,
       "min_width": null,
       "object_fit": null,
       "object_position": null,
       "order": null,
       "overflow": null,
       "overflow_x": null,
       "overflow_y": null,
       "padding": null,
       "right": null,
       "top": null,
       "visibility": null,
       "width": null
      }
     },
     "50252fc642564b9fbd7e0bc2e3d18bea": {
      "model_module": "@jupyter-widgets/controls",
      "model_module_version": "1.5.0",
      "model_name": "DescriptionStyleModel",
      "state": {
       "_model_module": "@jupyter-widgets/controls",
       "_model_module_version": "1.5.0",
       "_model_name": "DescriptionStyleModel",
       "_view_count": null,
       "_view_module": "@jupyter-widgets/base",
       "_view_module_version": "1.2.0",
       "_view_name": "StyleView",
       "description_width": ""
      }
     },
     "5fc782ec029f4414afee2ebe649f3e67": {
      "model_module": "@jupyter-widgets/controls",
      "model_module_version": "1.5.0",
      "model_name": "DescriptionStyleModel",
      "state": {
       "_model_module": "@jupyter-widgets/controls",
       "_model_module_version": "1.5.0",
       "_model_name": "DescriptionStyleModel",
       "_view_count": null,
       "_view_module": "@jupyter-widgets/base",
       "_view_module_version": "1.2.0",
       "_view_name": "StyleView",
       "description_width": ""
      }
     },
     "688c899a6aeb4c3cb31f3bfd5f858e90": {
      "model_module": "@jupyter-widgets/controls",
      "model_module_version": "1.5.0",
      "model_name": "ProgressStyleModel",
      "state": {
       "_model_module": "@jupyter-widgets/controls",
       "_model_module_version": "1.5.0",
       "_model_name": "ProgressStyleModel",
       "_view_count": null,
       "_view_module": "@jupyter-widgets/base",
       "_view_module_version": "1.2.0",
       "_view_name": "StyleView",
       "bar_color": null,
       "description_width": ""
      }
     },
     "692b7195ef7f40068d43caaf48e0b3c5": {
      "model_module": "@jupyter-widgets/controls",
      "model_module_version": "1.5.0",
      "model_name": "DescriptionStyleModel",
      "state": {
       "_model_module": "@jupyter-widgets/controls",
       "_model_module_version": "1.5.0",
       "_model_name": "DescriptionStyleModel",
       "_view_count": null,
       "_view_module": "@jupyter-widgets/base",
       "_view_module_version": "1.2.0",
       "_view_name": "StyleView",
       "description_width": ""
      }
     },
     "6a0836663650417690b9a5516db001f7": {
      "model_module": "@jupyter-widgets/controls",
      "model_module_version": "1.5.0",
      "model_name": "DescriptionStyleModel",
      "state": {
       "_model_module": "@jupyter-widgets/controls",
       "_model_module_version": "1.5.0",
       "_model_name": "DescriptionStyleModel",
       "_view_count": null,
       "_view_module": "@jupyter-widgets/base",
       "_view_module_version": "1.2.0",
       "_view_name": "StyleView",
       "description_width": ""
      }
     },
     "6f1acacf24cb48909fecbbb032b7af3b": {
      "model_module": "@jupyter-widgets/controls",
      "model_module_version": "1.5.0",
      "model_name": "ProgressStyleModel",
      "state": {
       "_model_module": "@jupyter-widgets/controls",
       "_model_module_version": "1.5.0",
       "_model_name": "ProgressStyleModel",
       "_view_count": null,
       "_view_module": "@jupyter-widgets/base",
       "_view_module_version": "1.2.0",
       "_view_name": "StyleView",
       "bar_color": null,
       "description_width": ""
      }
     },
     "744c249da4e24074a09280185aadfe5a": {
      "model_module": "@jupyter-widgets/controls",
      "model_module_version": "1.5.0",
      "model_name": "HTMLModel",
      "state": {
       "_dom_classes": [],
       "_model_module": "@jupyter-widgets/controls",
       "_model_module_version": "1.5.0",
       "_model_name": "HTMLModel",
       "_view_count": null,
       "_view_module": "@jupyter-widgets/controls",
       "_view_module_version": "1.5.0",
       "_view_name": "HTMLView",
       "description": "",
       "description_tooltip": null,
       "layout": "IPY_MODEL_8713b1974db5443ca7c31da36a8e53fe",
       "placeholder": "​",
       "style": "IPY_MODEL_ac16dd2155ed41a694592dce81cd0350",
       "value": "Downloading (…)okenizer_config.json: 100%"
      }
     },
     "7900462a015c4acdb16c423ee0fc77b7": {
      "model_module": "@jupyter-widgets/base",
      "model_module_version": "1.2.0",
      "model_name": "LayoutModel",
      "state": {
       "_model_module": "@jupyter-widgets/base",
       "_model_module_version": "1.2.0",
       "_model_name": "LayoutModel",
       "_view_count": null,
       "_view_module": "@jupyter-widgets/base",
       "_view_module_version": "1.2.0",
       "_view_name": "LayoutView",
       "align_content": null,
       "align_items": null,
       "align_self": null,
       "border": null,
       "bottom": null,
       "display": null,
       "flex": null,
       "flex_flow": null,
       "grid_area": null,
       "grid_auto_columns": null,
       "grid_auto_flow": null,
       "grid_auto_rows": null,
       "grid_column": null,
       "grid_gap": null,
       "grid_row": null,
       "grid_template_areas": null,
       "grid_template_columns": null,
       "grid_template_rows": null,
       "height": null,
       "justify_content": null,
       "justify_items": null,
       "left": null,
       "margin": null,
       "max_height": null,
       "max_width": null,
       "min_height": null,
       "min_width": null,
       "object_fit": null,
       "object_position": null,
       "order": null,
       "overflow": null,
       "overflow_x": null,
       "overflow_y": null,
       "padding": null,
       "right": null,
       "top": null,
       "visibility": null,
       "width": null
      }
     },
     "7b98dbb67aed48bf943daf33ec7221ef": {
      "model_module": "@jupyter-widgets/controls",
      "model_module_version": "1.5.0",
      "model_name": "DescriptionStyleModel",
      "state": {
       "_model_module": "@jupyter-widgets/controls",
       "_model_module_version": "1.5.0",
       "_model_name": "DescriptionStyleModel",
       "_view_count": null,
       "_view_module": "@jupyter-widgets/base",
       "_view_module_version": "1.2.0",
       "_view_name": "StyleView",
       "description_width": ""
      }
     },
     "8713b1974db5443ca7c31da36a8e53fe": {
      "model_module": "@jupyter-widgets/base",
      "model_module_version": "1.2.0",
      "model_name": "LayoutModel",
      "state": {
       "_model_module": "@jupyter-widgets/base",
       "_model_module_version": "1.2.0",
       "_model_name": "LayoutModel",
       "_view_count": null,
       "_view_module": "@jupyter-widgets/base",
       "_view_module_version": "1.2.0",
       "_view_name": "LayoutView",
       "align_content": null,
       "align_items": null,
       "align_self": null,
       "border": null,
       "bottom": null,
       "display": null,
       "flex": null,
       "flex_flow": null,
       "grid_area": null,
       "grid_auto_columns": null,
       "grid_auto_flow": null,
       "grid_auto_rows": null,
       "grid_column": null,
       "grid_gap": null,
       "grid_row": null,
       "grid_template_areas": null,
       "grid_template_columns": null,
       "grid_template_rows": null,
       "height": null,
       "justify_content": null,
       "justify_items": null,
       "left": null,
       "margin": null,
       "max_height": null,
       "max_width": null,
       "min_height": null,
       "min_width": null,
       "object_fit": null,
       "object_position": null,
       "order": null,
       "overflow": null,
       "overflow_x": null,
       "overflow_y": null,
       "padding": null,
       "right": null,
       "top": null,
       "visibility": null,
       "width": null
      }
     },
     "91e8a57ec5ac444bbef3b9243dd22ab5": {
      "model_module": "@jupyter-widgets/controls",
      "model_module_version": "1.5.0",
      "model_name": "HBoxModel",
      "state": {
       "_dom_classes": [],
       "_model_module": "@jupyter-widgets/controls",
       "_model_module_version": "1.5.0",
       "_model_name": "HBoxModel",
       "_view_count": null,
       "_view_module": "@jupyter-widgets/controls",
       "_view_module_version": "1.5.0",
       "_view_name": "HBoxView",
       "box_style": "",
       "children": [
        "IPY_MODEL_48aec1d9cb7c46468f5e08a5ba2526a8",
        "IPY_MODEL_bdd77da719824b2085267f2dd4ef833d",
        "IPY_MODEL_a627e8725c624775a6afe9382b3bdb2e"
       ],
       "layout": "IPY_MODEL_020437a9c7304362af88decad8fef035"
      }
     },
     "a627e8725c624775a6afe9382b3bdb2e": {
      "model_module": "@jupyter-widgets/controls",
      "model_module_version": "1.5.0",
      "model_name": "HTMLModel",
      "state": {
       "_dom_classes": [],
       "_model_module": "@jupyter-widgets/controls",
       "_model_module_version": "1.5.0",
       "_model_name": "HTMLModel",
       "_view_count": null,
       "_view_module": "@jupyter-widgets/controls",
       "_view_module_version": "1.5.0",
       "_view_name": "HTMLView",
       "description": "",
       "description_tooltip": null,
       "layout": "IPY_MODEL_055ae9e4904e4d069dd390a7ed157be6",
       "placeholder": "​",
       "style": "IPY_MODEL_50252fc642564b9fbd7e0bc2e3d18bea",
       "value": " 580/580 [00:00&lt;00:00, 41.5kB/s]"
      }
     },
     "a7b438895f334951bb1fbb1415460b24": {
      "model_module": "@jupyter-widgets/controls",
      "model_module_version": "1.5.0",
      "model_name": "HTMLModel",
      "state": {
       "_dom_classes": [],
       "_model_module": "@jupyter-widgets/controls",
       "_model_module_version": "1.5.0",
       "_model_name": "HTMLModel",
       "_view_count": null,
       "_view_module": "@jupyter-widgets/controls",
       "_view_module_version": "1.5.0",
       "_view_name": "HTMLView",
       "description": "",
       "description_tooltip": null,
       "layout": "IPY_MODEL_30a5b159e96d41c89b45a68ba7b37342",
       "placeholder": "​",
       "style": "IPY_MODEL_692b7195ef7f40068d43caaf48e0b3c5",
       "value": " 874M/874M [00:03&lt;00:00, 227MB/s]"
      }
     },
     "ac16dd2155ed41a694592dce81cd0350": {
      "model_module": "@jupyter-widgets/controls",
      "model_module_version": "1.5.0",
      "model_name": "DescriptionStyleModel",
      "state": {
       "_model_module": "@jupyter-widgets/controls",
       "_model_module_version": "1.5.0",
       "_model_name": "DescriptionStyleModel",
       "_view_count": null,
       "_view_module": "@jupyter-widgets/base",
       "_view_module_version": "1.2.0",
       "_view_name": "StyleView",
       "description_width": ""
      }
     },
     "acc141aaa7134d518cfaa6434d8b5d4e": {
      "model_module": "@jupyter-widgets/controls",
      "model_module_version": "1.5.0",
      "model_name": "HTMLModel",
      "state": {
       "_dom_classes": [],
       "_model_module": "@jupyter-widgets/controls",
       "_model_module_version": "1.5.0",
       "_model_name": "HTMLModel",
       "_view_count": null,
       "_view_module": "@jupyter-widgets/controls",
       "_view_module_version": "1.5.0",
       "_view_name": "HTMLView",
       "description": "",
       "description_tooltip": null,
       "layout": "IPY_MODEL_4f971dabc33949f3a489a5959686d882",
       "placeholder": "​",
       "style": "IPY_MODEL_d8487f147e79467aa7131626e9898952",
       "value": "Downloading spm.model: 100%"
      }
     },
     "b108d49d35c544ec8efcbb6c92536d7e": {
      "model_module": "@jupyter-widgets/base",
      "model_module_version": "1.2.0",
      "model_name": "LayoutModel",
      "state": {
       "_model_module": "@jupyter-widgets/base",
       "_model_module_version": "1.2.0",
       "_model_name": "LayoutModel",
       "_view_count": null,
       "_view_module": "@jupyter-widgets/base",
       "_view_module_version": "1.2.0",
       "_view_name": "LayoutView",
       "align_content": null,
       "align_items": null,
       "align_self": null,
       "border": null,
       "bottom": null,
       "display": null,
       "flex": null,
       "flex_flow": null,
       "grid_area": null,
       "grid_auto_columns": null,
       "grid_auto_flow": null,
       "grid_auto_rows": null,
       "grid_column": null,
       "grid_gap": null,
       "grid_row": null,
       "grid_template_areas": null,
       "grid_template_columns": null,
       "grid_template_rows": null,
       "height": null,
       "justify_content": null,
       "justify_items": null,
       "left": null,
       "margin": null,
       "max_height": null,
       "max_width": null,
       "min_height": null,
       "min_width": null,
       "object_fit": null,
       "object_position": null,
       "order": null,
       "overflow": null,
       "overflow_x": null,
       "overflow_y": null,
       "padding": null,
       "right": null,
       "top": null,
       "visibility": null,
       "width": null
      }
     },
     "bdd77da719824b2085267f2dd4ef833d": {
      "model_module": "@jupyter-widgets/controls",
      "model_module_version": "1.5.0",
      "model_name": "FloatProgressModel",
      "state": {
       "_dom_classes": [],
       "_model_module": "@jupyter-widgets/controls",
       "_model_module_version": "1.5.0",
       "_model_name": "FloatProgressModel",
       "_view_count": null,
       "_view_module": "@jupyter-widgets/controls",
       "_view_module_version": "1.5.0",
       "_view_name": "ProgressView",
       "bar_style": "success",
       "description": "",
       "description_tooltip": null,
       "layout": "IPY_MODEL_de037b5141ca4517810c0099b3f011b7",
       "max": 580.0,
       "min": 0.0,
       "orientation": "horizontal",
       "style": "IPY_MODEL_22f54a5f454b4b4aaba2b6ebb05c2186",
       "value": 580.0
      }
     },
     "c14c2f80bd3f41f58c7ea84341b4b574": {
      "model_module": "@jupyter-widgets/controls",
      "model_module_version": "1.5.0",
      "model_name": "FloatProgressModel",
      "state": {
       "_dom_classes": [],
       "_model_module": "@jupyter-widgets/controls",
       "_model_module_version": "1.5.0",
       "_model_name": "FloatProgressModel",
       "_view_count": null,
       "_view_module": "@jupyter-widgets/controls",
       "_view_module_version": "1.5.0",
       "_view_name": "ProgressView",
       "bar_style": "success",
       "description": "",
       "description_tooltip": null,
       "layout": "IPY_MODEL_31f8b2ea5b2843c89ef83ddc9b9d3ada",
       "max": 873673253.0,
       "min": 0.0,
       "orientation": "horizontal",
       "style": "IPY_MODEL_6f1acacf24cb48909fecbbb032b7af3b",
       "value": 873673253.0
      }
     },
     "c1a3d1aa997d477e9650c940fe0b26b2": {
      "model_module": "@jupyter-widgets/controls",
      "model_module_version": "1.5.0",
      "model_name": "HBoxModel",
      "state": {
       "_dom_classes": [],
       "_model_module": "@jupyter-widgets/controls",
       "_model_module_version": "1.5.0",
       "_model_name": "HBoxModel",
       "_view_count": null,
       "_view_module": "@jupyter-widgets/controls",
       "_view_module_version": "1.5.0",
       "_view_name": "HBoxView",
       "box_style": "",
       "children": [
        "IPY_MODEL_d2ca4e5378e442f1882f2f4a1cf1d1e7",
        "IPY_MODEL_c14c2f80bd3f41f58c7ea84341b4b574",
        "IPY_MODEL_a7b438895f334951bb1fbb1415460b24"
       ],
       "layout": "IPY_MODEL_3846df97d70a4be1986f1c4de552e057"
      }
     },
     "c5204f2de82348ca930036d2da620955": {
      "model_module": "@jupyter-widgets/controls",
      "model_module_version": "1.5.0",
      "model_name": "HBoxModel",
      "state": {
       "_dom_classes": [],
       "_model_module": "@jupyter-widgets/controls",
       "_model_module_version": "1.5.0",
       "_model_name": "HBoxModel",
       "_view_count": null,
       "_view_module": "@jupyter-widgets/controls",
       "_view_module_version": "1.5.0",
       "_view_name": "HBoxView",
       "box_style": "",
       "children": [
        "IPY_MODEL_744c249da4e24074a09280185aadfe5a",
        "IPY_MODEL_dcbc7c23bd61492c8a3a72dcf2eff21e",
        "IPY_MODEL_efa64a34d1ea438093c60db4c77ca4cc"
       ],
       "layout": "IPY_MODEL_f40c2c51be4a44ff980822bc62758af4"
      }
     },
     "d2ca4e5378e442f1882f2f4a1cf1d1e7": {
      "model_module": "@jupyter-widgets/controls",
      "model_module_version": "1.5.0",
      "model_name": "HTMLModel",
      "state": {
       "_dom_classes": [],
       "_model_module": "@jupyter-widgets/controls",
       "_model_module_version": "1.5.0",
       "_model_name": "HTMLModel",
       "_view_count": null,
       "_view_module": "@jupyter-widgets/controls",
       "_view_module_version": "1.5.0",
       "_view_name": "HTMLView",
       "description": "",
       "description_tooltip": null,
       "layout": "IPY_MODEL_25b66e9c62224e0b97433fa39164c4c2",
       "placeholder": "​",
       "style": "IPY_MODEL_6a0836663650417690b9a5516db001f7",
       "value": "Downloading pytorch_model.bin: 100%"
      }
     },
     "d80e3f1c5c8c40e88a1aac170adabb5d": {
      "model_module": "@jupyter-widgets/base",
      "model_module_version": "1.2.0",
      "model_name": "LayoutModel",
      "state": {
       "_model_module": "@jupyter-widgets/base",
       "_model_module_version": "1.2.0",
       "_model_name": "LayoutModel",
       "_view_count": null,
       "_view_module": "@jupyter-widgets/base",
       "_view_module_version": "1.2.0",
       "_view_name": "LayoutView",
       "align_content": null,
       "align_items": null,
       "align_self": null,
       "border": null,
       "bottom": null,
       "display": null,
       "flex": null,
       "flex_flow": null,
       "grid_area": null,
       "grid_auto_columns": null,
       "grid_auto_flow": null,
       "grid_auto_rows": null,
       "grid_column": null,
       "grid_gap": null,
       "grid_row": null,
       "grid_template_areas": null,
       "grid_template_columns": null,
       "grid_template_rows": null,
       "height": null,
       "justify_content": null,
       "justify_items": null,
       "left": null,
       "margin": null,
       "max_height": null,
       "max_width": null,
       "min_height": null,
       "min_width": null,
       "object_fit": null,
       "object_position": null,
       "order": null,
       "overflow": null,
       "overflow_x": null,
       "overflow_y": null,
       "padding": null,
       "right": null,
       "top": null,
       "visibility": null,
       "width": null
      }
     },
     "d8487f147e79467aa7131626e9898952": {
      "model_module": "@jupyter-widgets/controls",
      "model_module_version": "1.5.0",
      "model_name": "DescriptionStyleModel",
      "state": {
       "_model_module": "@jupyter-widgets/controls",
       "_model_module_version": "1.5.0",
       "_model_name": "DescriptionStyleModel",
       "_view_count": null,
       "_view_module": "@jupyter-widgets/base",
       "_view_module_version": "1.2.0",
       "_view_name": "StyleView",
       "description_width": ""
      }
     },
     "dcbc7c23bd61492c8a3a72dcf2eff21e": {
      "model_module": "@jupyter-widgets/controls",
      "model_module_version": "1.5.0",
      "model_name": "FloatProgressModel",
      "state": {
       "_dom_classes": [],
       "_model_module": "@jupyter-widgets/controls",
       "_model_module_version": "1.5.0",
       "_model_name": "FloatProgressModel",
       "_view_count": null,
       "_view_module": "@jupyter-widgets/controls",
       "_view_module_version": "1.5.0",
       "_view_name": "ProgressView",
       "bar_style": "success",
       "description": "",
       "description_tooltip": null,
       "layout": "IPY_MODEL_b108d49d35c544ec8efcbb6c92536d7e",
       "max": 52.0,
       "min": 0.0,
       "orientation": "horizontal",
       "style": "IPY_MODEL_4212e5f5cb684cecae3518baba2bb2d4",
       "value": 52.0
      }
     },
     "de037b5141ca4517810c0099b3f011b7": {
      "model_module": "@jupyter-widgets/base",
      "model_module_version": "1.2.0",
      "model_name": "LayoutModel",
      "state": {
       "_model_module": "@jupyter-widgets/base",
       "_model_module_version": "1.2.0",
       "_model_name": "LayoutModel",
       "_view_count": null,
       "_view_module": "@jupyter-widgets/base",
       "_view_module_version": "1.2.0",
       "_view_name": "LayoutView",
       "align_content": null,
       "align_items": null,
       "align_self": null,
       "border": null,
       "bottom": null,
       "display": null,
       "flex": null,
       "flex_flow": null,
       "grid_area": null,
       "grid_auto_columns": null,
       "grid_auto_flow": null,
       "grid_auto_rows": null,
       "grid_column": null,
       "grid_gap": null,
       "grid_row": null,
       "grid_template_areas": null,
       "grid_template_columns": null,
       "grid_template_rows": null,
       "height": null,
       "justify_content": null,
       "justify_items": null,
       "left": null,
       "margin": null,
       "max_height": null,
       "max_width": null,
       "min_height": null,
       "min_width": null,
       "object_fit": null,
       "object_position": null,
       "order": null,
       "overflow": null,
       "overflow_x": null,
       "overflow_y": null,
       "padding": null,
       "right": null,
       "top": null,
       "visibility": null,
       "width": null
      }
     },
     "e40b63dcb2324e14954a7ffd2e71fe58": {
      "model_module": "@jupyter-widgets/controls",
      "model_module_version": "1.5.0",
      "model_name": "FloatProgressModel",
      "state": {
       "_dom_classes": [],
       "_model_module": "@jupyter-widgets/controls",
       "_model_module_version": "1.5.0",
       "_model_name": "FloatProgressModel",
       "_view_count": null,
       "_view_module": "@jupyter-widgets/controls",
       "_view_module_version": "1.5.0",
       "_view_name": "ProgressView",
       "bar_style": "success",
       "description": "",
       "description_tooltip": null,
       "layout": "IPY_MODEL_e46e9152456f4ee2ad5a406a2399a15e",
       "max": 2464616.0,
       "min": 0.0,
       "orientation": "horizontal",
       "style": "IPY_MODEL_688c899a6aeb4c3cb31f3bfd5f858e90",
       "value": 2464616.0
      }
     },
     "e46e9152456f4ee2ad5a406a2399a15e": {
      "model_module": "@jupyter-widgets/base",
      "model_module_version": "1.2.0",
      "model_name": "LayoutModel",
      "state": {
       "_model_module": "@jupyter-widgets/base",
       "_model_module_version": "1.2.0",
       "_model_name": "LayoutModel",
       "_view_count": null,
       "_view_module": "@jupyter-widgets/base",
       "_view_module_version": "1.2.0",
       "_view_name": "LayoutView",
       "align_content": null,
       "align_items": null,
       "align_self": null,
       "border": null,
       "bottom": null,
       "display": null,
       "flex": null,
       "flex_flow": null,
       "grid_area": null,
       "grid_auto_columns": null,
       "grid_auto_flow": null,
       "grid_auto_rows": null,
       "grid_column": null,
       "grid_gap": null,
       "grid_row": null,
       "grid_template_areas": null,
       "grid_template_columns": null,
       "grid_template_rows": null,
       "height": null,
       "justify_content": null,
       "justify_items": null,
       "left": null,
       "margin": null,
       "max_height": null,
       "max_width": null,
       "min_height": null,
       "min_width": null,
       "object_fit": null,
       "object_position": null,
       "order": null,
       "overflow": null,
       "overflow_x": null,
       "overflow_y": null,
       "padding": null,
       "right": null,
       "top": null,
       "visibility": null,
       "width": null
      }
     },
     "eb64ba1c8c164a2b958125a1513e93cc": {
      "model_module": "@jupyter-widgets/controls",
      "model_module_version": "1.5.0",
      "model_name": "HTMLModel",
      "state": {
       "_dom_classes": [],
       "_model_module": "@jupyter-widgets/controls",
       "_model_module_version": "1.5.0",
       "_model_name": "HTMLModel",
       "_view_count": null,
       "_view_module": "@jupyter-widgets/controls",
       "_view_module_version": "1.5.0",
       "_view_name": "HTMLView",
       "description": "",
       "description_tooltip": null,
       "layout": "IPY_MODEL_7900462a015c4acdb16c423ee0fc77b7",
       "placeholder": "​",
       "style": "IPY_MODEL_1095747f26be450aac395e1b1dd5fcb7",
       "value": " 2.46M/2.46M [00:00&lt;00:00, 26.2MB/s]"
      }
     },
     "efa64a34d1ea438093c60db4c77ca4cc": {
      "model_module": "@jupyter-widgets/controls",
      "model_module_version": "1.5.0",
      "model_name": "HTMLModel",
      "state": {
       "_dom_classes": [],
       "_model_module": "@jupyter-widgets/controls",
       "_model_module_version": "1.5.0",
       "_model_name": "HTMLModel",
       "_view_count": null,
       "_view_module": "@jupyter-widgets/controls",
       "_view_module_version": "1.5.0",
       "_view_name": "HTMLView",
       "description": "",
       "description_tooltip": null,
       "layout": "IPY_MODEL_d80e3f1c5c8c40e88a1aac170adabb5d",
       "placeholder": "​",
       "style": "IPY_MODEL_7b98dbb67aed48bf943daf33ec7221ef",
       "value": " 52.0/52.0 [00:00&lt;00:00, 3.30kB/s]"
      }
     },
     "f40c2c51be4a44ff980822bc62758af4": {
      "model_module": "@jupyter-widgets/base",
      "model_module_version": "1.2.0",
      "model_name": "LayoutModel",
      "state": {
       "_model_module": "@jupyter-widgets/base",
       "_model_module_version": "1.2.0",
       "_model_name": "LayoutModel",
       "_view_count": null,
       "_view_module": "@jupyter-widgets/base",
       "_view_module_version": "1.2.0",
       "_view_name": "LayoutView",
       "align_content": null,
       "align_items": null,
       "align_self": null,
       "border": null,
       "bottom": null,
       "display": null,
       "flex": null,
       "flex_flow": null,
       "grid_area": null,
       "grid_auto_columns": null,
       "grid_auto_flow": null,
       "grid_auto_rows": null,
       "grid_column": null,
       "grid_gap": null,
       "grid_row": null,
       "grid_template_areas": null,
       "grid_template_columns": null,
       "grid_template_rows": null,
       "height": null,
       "justify_content": null,
       "justify_items": null,
       "left": null,
       "margin": null,
       "max_height": null,
       "max_width": null,
       "min_height": null,
       "min_width": null,
       "object_fit": null,
       "object_position": null,
       "order": null,
       "overflow": null,
       "overflow_x": null,
       "overflow_y": null,
       "padding": null,
       "right": null,
       "top": null,
       "visibility": null,
       "width": null
      }
     }
    },
    "version_major": 2,
    "version_minor": 0
   }
  }
 },
 "nbformat": 4,
 "nbformat_minor": 5
}
